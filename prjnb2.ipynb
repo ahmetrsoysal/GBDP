{
 "cells": [
  {
   "cell_type": "code",
   "execution_count": 4,
   "metadata": {
    "scrolled": true
   },
   "outputs": [],
   "source": [
    "using Pkg; haskey(Pkg.installed(),\"Knet\") || Pkg.add(\"Knet\")\n",
    "using Statistics: mean\n",
    "using Base.Iterators: cycle\n",
    "using Knet: Knet, AutoGrad, Data, param, param0, mat, RNN, dropout, value, nll, adam, minibatch, progress!, converge, Random"
   ]
  },
  {
   "cell_type": "code",
   "execution_count": 5,
   "metadata": {},
   "outputs": [],
   "source": [
    "using Knet: TimerOutputs"
   ]
  },
  {
   "cell_type": "code",
   "execution_count": 6,
   "metadata": {},
   "outputs": [],
   "source": [
    "# Set display width, load packages, import symbols\n",
    "ENV[\"COLUMNS\"]=72\n",
    "using Pkg; for p in (\"Knet\",\"Plots\"); haskey(Pkg.installed(),p) || Pkg.add(p); end\n",
    "using Knet: Knet, dir, zeroone, progress, sgd, load, save, gc, Param, KnetArray, gpu, Data, nll, relu, training, dropout # param, param0, xavier\n",
    "using Statistics: mean\n",
    "using Base.Iterators: flatten"
   ]
  },
  {
   "cell_type": "code",
   "execution_count": 7,
   "metadata": {},
   "outputs": [],
   "source": [
    "import LinearAlgebra"
   ]
  },
  {
   "cell_type": "code",
   "execution_count": 8,
   "metadata": {},
   "outputs": [],
   "source": [
    "using Plots; default(fmt=:png,ls=:auto)"
   ]
  },
  {
   "cell_type": "code",
   "execution_count": 9,
   "metadata": {},
   "outputs": [
    {
     "data": {
      "text/plain": [
       "KnetArray"
      ]
     },
     "execution_count": 9,
     "metadata": {},
     "output_type": "execute_result"
    }
   ],
   "source": [
    "atype = Knet.gpu()>=0 ? Knet.KnetArray : Array"
   ]
  },
  {
   "cell_type": "code",
   "execution_count": 10,
   "metadata": {},
   "outputs": [
    {
     "data": {
      "text/plain": [
       "load_data2 (generic function with 1 method)"
      ]
     },
     "execution_count": 10,
     "metadata": {},
     "output_type": "execute_result"
    }
   ],
   "source": [
    "function load_data2(path)\n",
    "    xtrain, ytrain = open(path) do f\n",
    "    xtrain = []\n",
    "    ytrain = []\n",
    "    sentence = []\n",
    "    arcs = []\n",
    "    count = 1\n",
    "    for i in enumerate(eachline(f))  \n",
    "      if i[2] == \"\"\n",
    "        push!(xtrain, sentence)\n",
    "        labels = zeros(count, count)\n",
    "        push!(ytrain, arcs)\n",
    "      elseif i[2][1] != '#'\n",
    "        temp = split(i[2])\n",
    "        if temp[1] == \"1\"\n",
    "            sentence = []\n",
    "            arcs = []\n",
    "            push!(sentence, temp[2])\n",
    "            push!(arcs, parse(Int64, temp[7]))\n",
    "            count = 1\n",
    "        else\n",
    "            push!(sentence, temp[2]) \n",
    "            if isnumeric(temp[7][1])\n",
    "                push!(arcs, parse(Int64, temp[7]))\n",
    "            else\n",
    "                push!(arcs, 0)\n",
    "            end\n",
    "            count += 1\n",
    "        end\n",
    "      end\n",
    "    end\n",
    "    xtrain, ytrain\n",
    "    end\n",
    "    xtrain, ytrain\n",
    "end"
   ]
  },
  {
   "cell_type": "code",
   "execution_count": 11,
   "metadata": {},
   "outputs": [
    {
     "data": {
      "text/plain": [
       "load_embed (generic function with 1 method)"
      ]
     },
     "execution_count": 11,
     "metadata": {},
     "output_type": "execute_result"
    }
   ],
   "source": [
    "function load_embed(path)\n",
    "    wembed, wembedind = open(path) do f\n",
    "        wembed = Dict()\n",
    "        wembedind = []\n",
    "        for i in enumerate(eachline(f))\n",
    "            line = i[2]\n",
    "            tokens = split(line)\n",
    "            key = tokens[1]\n",
    "            temp = Array{Float32, 1}()\n",
    "            for token in tokens[2:end]\n",
    "                tmp = tryparse(Float32, token)\n",
    "                append!(temp, tmp)\n",
    "            end\n",
    "            wembed[key] = i[1]\n",
    "            push!(wembedind,temp)\n",
    "        end\n",
    "        wembed, wembedind\n",
    "    end\n",
    "    wembed, wembedind\n",
    "end"
   ]
  },
  {
   "cell_type": "code",
   "execution_count": 12,
   "metadata": {
    "scrolled": true
   },
   "outputs": [
    {
     "data": {
      "text/plain": [
       "399999"
      ]
     },
     "execution_count": 12,
     "metadata": {},
     "output_type": "execute_result"
    }
   ],
   "source": [
    "rootind = 399999"
   ]
  },
  {
   "cell_type": "code",
   "execution_count": 13,
   "metadata": {},
   "outputs": [
    {
     "data": {
      "text/plain": [
       "getind (generic function with 1 method)"
      ]
     },
     "execution_count": 13,
     "metadata": {},
     "output_type": "execute_result"
    }
   ],
   "source": [
    "function getind(word; max=400000, root=false)\n",
    "    abc = get(wembed,lowercase(word),-1)\n",
    "    if root == true\n",
    "        return max-1\n",
    "    elseif (abc >= 0)\n",
    "        return abc\n",
    "    else\n",
    "        return max\n",
    "    end\n",
    "end"
   ]
  },
  {
   "cell_type": "code",
   "execution_count": 14,
   "metadata": {},
   "outputs": [
    {
     "data": {
      "text/plain": [
       "(Any[Any[\"Al\", \"-\", \"Zaman\", \":\", \"American\", \"forces\", \"killed\", \"Shaikh\", \"Abdullah\", \"al\"  …  \"the\", \"town\", \"of\", \"Qaim\", \",\", \"near\", \"the\", \"Syrian\", \"border\", \".\"], Any[\"[\", \"This\", \"killing\", \"of\", \"a\", \"respected\", \"cleric\", \"will\", \"be\", \"causing\", \"us\", \"trouble\", \"for\", \"years\", \"to\", \"come\", \".\", \"]\"], Any[\"DPA\", \":\", \"Iraqi\", \"authorities\", \"announced\", \"that\", \"they\", \"had\", \"busted\", \"up\", \"3\", \"terrorist\", \"cells\", \"operating\", \"in\", \"Baghdad\", \".\"], Any[\"Two\", \"of\", \"them\", \"were\", \"being\", \"run\", \"by\", \"2\", \"officials\", \"of\", \"the\", \"Ministry\", \"of\", \"the\", \"Interior\", \"!\"], Any[\"The\", \"MoI\", \"in\", \"Iraq\", \"is\", \"equivalent\", \"to\", \"the\", \"US\", \"FBI\"  …  \"members\", \"of\", \"the\", \"Weathermen\", \"bombers\", \"back\", \"in\", \"the\", \"1960s\", \".\"], Any[\"The\", \"third\", \"was\", \"being\", \"run\", \"by\", \"the\", \"head\", \"of\", \"an\", \"investment\", \"firm\", \".\"], Any[\"You\", \"wonder\", \"if\", \"he\", \"was\", \"manipulating\", \"the\", \"market\", \"with\", \"his\", \"bombing\", \"targets\", \".\"], Any[\"The\", \"cells\", \"were\", \"operating\", \"in\", \"the\", \"Ghazaliyah\", \"and\", \"al\", \"-\", \"Jihad\", \"districts\", \"of\", \"the\", \"capital\", \".\"], Any[\"Although\", \"the\", \"announcement\", \"was\", \"probably\", \"made\", \"to\", \"show\", \"progress\", \"in\"  …  \"Baathists\", \"continue\", \"to\", \"penetrate\", \"the\", \"Iraqi\", \"government\", \"very\", \"hopeful\", \".\"], Any[\"It\", \"reminds\", \"me\", \"too\", \"much\", \"of\", \"the\", \"ARVN\", \"officers\", \"who\", \"were\", \"secretly\", \"working\", \"for\", \"the\", \"other\", \"side\", \"in\", \"Vietnam\", \".\"]  …  Any[\"Over\", \"two\", \"hours\", \"later\", \"(\", \"and\", \"ten\", \"minutes\", \"before\", \"they\", \"closed\", \")\", \"my\", \"car\", \"was\", \"finally\", \"finished\", \".\"], Any[\"A\", \"few\", \"minutes\", \"after\", \"I\", \"left\", \",\", \"I\", \"was\", \"called\"  …  \"which\", \"they\", \"should\", \"have\", \"left\", \"in\", \"the\", \"car\", \")\", \".\"], Any[\"Of\", \"course\", \",\", \"they\", \"would\", \"be\", \"closing\", \"in\", \"5\", \"minutes\"  …  \"to\", \"hurry\", \"up\", \"or\", \"get\", \"it\", \"the\", \"next\", \"day\", \".\"], Any[\"Of\", \"course\", \"I\", \"could\", \"n't\", \"make\", \"it\", \"back\", \"in\", \"time\"  …  \"stay\", \"5\", \"extra\", \"minutes\", \"to\", \"wait\", \"for\", \"me\", \")\", \".\"], Any[\"The\", \"next\", \"day\", \",\", \"no\", \"one\", \"could\", \"find\", \"my\", \"wheel\", \"lock\", \"and\", \"that\", \"particular\", \"technician\", \"was\", \"not\", \"in\", \".\"], Any[\"Of\", \"course\", \",\", \"they\", \"could\", \"n't\", \"call\", \"him\", \"either\", \"to\"  …  \"no\", \"wheel\", \"lock\", \"should\", \"I\", \"get\", \"a\", \"flat\", \")\", \".\"], Any[\"On\", \"Monday\", \"I\", \"called\", \"and\", \"again\", \"it\", \"was\", \"a\", \"big\"  …  \"do\", \"to\", \"find\", \"anyone\", \"who\", \"knew\", \"anything\", \"about\", \"it\", \".\"], Any[\"Supposedly\", \"they\", \"will\", \"be\", \"holding\", \"it\", \"for\", \"me\", \"this\", \"evening\"  …  \"'m\", \"sure\", \"that\", \"will\", \"also\", \"be\", \"a\", \"huge\", \"ordeal\", \".\"], Any[\"The\", \"employees\", \"at\", \"this\", \"Sear's\", \"are\", \"completely\", \"apathetic\", \"and\", \"there\"  …  \"be\", \"any\", \"sort\", \"of\", \"management\", \"that\", \"I\", \"could\", \"see\", \".\"], Any[\"I\", \"will\", \"never\", \"return\", \"there\", \"again\", \"(\", \"and\", \"now\", \"have\"  …  \"of\", \"work\", \"they\", \"actually\", \"performed\", \"on\", \"my\", \"car\", \")\", \".\"]], Any[Any[0, 1, 1, 1, 6, 7, 1, 7, 8, 8  …  21, 18, 23, 21, 21, 28, 28, 28, 21, 1], Any[10, 3, 10, 7, 7, 7, 3, 10, 10, 0, 10, 10, 14, 10, 16, 14, 10, 10], Any[0, 1, 4, 5, 1, 9, 9, 9, 5, 9, 13, 13, 9, 13, 16, 14, 1], Any[6, 3, 1, 6, 6, 0, 9, 9, 6, 12, 12, 9, 15, 15, 12, 6], Any[2, 6, 4, 2, 6, 0, 10, 10, 10, 6  …  22, 31, 31, 31, 27, 35, 35, 35, 22, 6], Any[2, 5, 5, 5, 0, 8, 8, 5, 12, 12, 12, 8, 5], Any[2, 0, 6, 6, 6, 2, 8, 6, 12, 12, 12, 6, 2], Any[2, 4, 4, 0, 12, 12, 12, 11, 11, 11, 7, 4, 15, 15, 12, 4], Any[6, 3, 6, 6, 6, 21, 8, 6, 8, 11  …  27, 23, 29, 27, 32, 32, 29, 34, 21, 21], Any[2, 0, 2, 5, 2, 9, 9, 9, 2, 13, 13, 13, 9, 17, 17, 17, 13, 19, 13, 2]  …  Any[2, 3, 4, 17, 4, 11, 8, 9, 11, 11, 4, 4, 14, 17, 17, 17, 0, 17], Any[3, 3, 6, 6, 6, 10, 10, 10, 10, 0  …  26, 26, 26, 26, 20, 29, 29, 26, 26, 10], Any[7, 1, 7, 7, 7, 7, 0, 10, 10, 7  …  17, 15, 17, 20, 17, 20, 24, 24, 20, 7], Any[6, 1, 6, 6, 6, 0, 6, 6, 10, 6  …  6, 20, 20, 17, 22, 17, 24, 22, 6, 6], Any[3, 3, 8, 8, 6, 8, 8, 0, 11, 11, 8, 18, 15, 15, 18, 18, 18, 8, 8], Any[7, 1, 7, 7, 7, 7, 0, 7, 7, 11  …  46, 46, 38, 49, 49, 38, 51, 49, 38, 7], Any[2, 4, 4, 0, 13, 13, 13, 13, 13, 13  …  4, 15, 13, 15, 18, 16, 18, 21, 19, 4], Any[5, 5, 5, 5, 0, 5, 8, 5, 10, 5  …  15, 5, 22, 22, 22, 22, 22, 22, 15, 5], Any[2, 8, 5, 5, 2, 8, 8, 0, 13, 13  …  13, 17, 15, 19, 17, 23, 23, 23, 19, 8], Any[4, 4, 4, 0, 4, 4, 4, 10, 10, 4  …  18, 16, 21, 21, 18, 24, 24, 21, 4, 4]])"
      ]
     },
     "execution_count": 14,
     "metadata": {},
     "output_type": "execute_result"
    }
   ],
   "source": [
    "data2 = load_data2(\"en_ewt-ud-train.conllu\")"
   ]
  },
  {
   "cell_type": "code",
   "execution_count": 15,
   "metadata": {
    "scrolled": true
   },
   "outputs": [
    {
     "data": {
      "text/plain": [
       "Base.Iterators.Zip{Tuple{Base.Generator{Array{Any,1},getfield(Main, Symbol(\"##9#10\"))},Array{Any,1}}}((Base.Generator{Array{Any,1},getfield(Main, Symbol(\"##9#10\"))}(getfield(Main, Symbol(\"##9#10\"))(), Any[Any[\"Al\", \"-\", \"Zaman\", \":\", \"American\", \"forces\", \"killed\", \"Shaikh\", \"Abdullah\", \"al\"  …  \"the\", \"town\", \"of\", \"Qaim\", \",\", \"near\", \"the\", \"Syrian\", \"border\", \".\"], Any[\"[\", \"This\", \"killing\", \"of\", \"a\", \"respected\", \"cleric\", \"will\", \"be\", \"causing\", \"us\", \"trouble\", \"for\", \"years\", \"to\", \"come\", \".\", \"]\"], Any[\"DPA\", \":\", \"Iraqi\", \"authorities\", \"announced\", \"that\", \"they\", \"had\", \"busted\", \"up\", \"3\", \"terrorist\", \"cells\", \"operating\", \"in\", \"Baghdad\", \".\"], Any[\"Two\", \"of\", \"them\", \"were\", \"being\", \"run\", \"by\", \"2\", \"officials\", \"of\", \"the\", \"Ministry\", \"of\", \"the\", \"Interior\", \"!\"], Any[\"The\", \"MoI\", \"in\", \"Iraq\", \"is\", \"equivalent\", \"to\", \"the\", \"US\", \"FBI\"  …  \"members\", \"of\", \"the\", \"Weathermen\", \"bombers\", \"back\", \"in\", \"the\", \"1960s\", \".\"], Any[\"The\", \"third\", \"was\", \"being\", \"run\", \"by\", \"the\", \"head\", \"of\", \"an\", \"investment\", \"firm\", \".\"], Any[\"You\", \"wonder\", \"if\", \"he\", \"was\", \"manipulating\", \"the\", \"market\", \"with\", \"his\", \"bombing\", \"targets\", \".\"], Any[\"The\", \"cells\", \"were\", \"operating\", \"in\", \"the\", \"Ghazaliyah\", \"and\", \"al\", \"-\", \"Jihad\", \"districts\", \"of\", \"the\", \"capital\", \".\"], Any[\"Although\", \"the\", \"announcement\", \"was\", \"probably\", \"made\", \"to\", \"show\", \"progress\", \"in\"  …  \"Baathists\", \"continue\", \"to\", \"penetrate\", \"the\", \"Iraqi\", \"government\", \"very\", \"hopeful\", \".\"], Any[\"It\", \"reminds\", \"me\", \"too\", \"much\", \"of\", \"the\", \"ARVN\", \"officers\", \"who\", \"were\", \"secretly\", \"working\", \"for\", \"the\", \"other\", \"side\", \"in\", \"Vietnam\", \".\"]  …  Any[\"Over\", \"two\", \"hours\", \"later\", \"(\", \"and\", \"ten\", \"minutes\", \"before\", \"they\", \"closed\", \")\", \"my\", \"car\", \"was\", \"finally\", \"finished\", \".\"], Any[\"A\", \"few\", \"minutes\", \"after\", \"I\", \"left\", \",\", \"I\", \"was\", \"called\"  …  \"which\", \"they\", \"should\", \"have\", \"left\", \"in\", \"the\", \"car\", \")\", \".\"], Any[\"Of\", \"course\", \",\", \"they\", \"would\", \"be\", \"closing\", \"in\", \"5\", \"minutes\"  …  \"to\", \"hurry\", \"up\", \"or\", \"get\", \"it\", \"the\", \"next\", \"day\", \".\"], Any[\"Of\", \"course\", \"I\", \"could\", \"n't\", \"make\", \"it\", \"back\", \"in\", \"time\"  …  \"stay\", \"5\", \"extra\", \"minutes\", \"to\", \"wait\", \"for\", \"me\", \")\", \".\"], Any[\"The\", \"next\", \"day\", \",\", \"no\", \"one\", \"could\", \"find\", \"my\", \"wheel\", \"lock\", \"and\", \"that\", \"particular\", \"technician\", \"was\", \"not\", \"in\", \".\"], Any[\"Of\", \"course\", \",\", \"they\", \"could\", \"n't\", \"call\", \"him\", \"either\", \"to\"  …  \"no\", \"wheel\", \"lock\", \"should\", \"I\", \"get\", \"a\", \"flat\", \")\", \".\"], Any[\"On\", \"Monday\", \"I\", \"called\", \"and\", \"again\", \"it\", \"was\", \"a\", \"big\"  …  \"do\", \"to\", \"find\", \"anyone\", \"who\", \"knew\", \"anything\", \"about\", \"it\", \".\"], Any[\"Supposedly\", \"they\", \"will\", \"be\", \"holding\", \"it\", \"for\", \"me\", \"this\", \"evening\"  …  \"'m\", \"sure\", \"that\", \"will\", \"also\", \"be\", \"a\", \"huge\", \"ordeal\", \".\"], Any[\"The\", \"employees\", \"at\", \"this\", \"Sear's\", \"are\", \"completely\", \"apathetic\", \"and\", \"there\"  …  \"be\", \"any\", \"sort\", \"of\", \"management\", \"that\", \"I\", \"could\", \"see\", \".\"], Any[\"I\", \"will\", \"never\", \"return\", \"there\", \"again\", \"(\", \"and\", \"now\", \"have\"  …  \"of\", \"work\", \"they\", \"actually\", \"performed\", \"on\", \"my\", \"car\", \")\", \".\"]]), Any[Any[0, 1, 1, 1, 6, 7, 1, 7, 8, 8  …  21, 18, 23, 21, 21, 28, 28, 28, 21, 1], Any[10, 3, 10, 7, 7, 7, 3, 10, 10, 0, 10, 10, 14, 10, 16, 14, 10, 10], Any[0, 1, 4, 5, 1, 9, 9, 9, 5, 9, 13, 13, 9, 13, 16, 14, 1], Any[6, 3, 1, 6, 6, 0, 9, 9, 6, 12, 12, 9, 15, 15, 12, 6], Any[2, 6, 4, 2, 6, 0, 10, 10, 10, 6  …  22, 31, 31, 31, 27, 35, 35, 35, 22, 6], Any[2, 5, 5, 5, 0, 8, 8, 5, 12, 12, 12, 8, 5], Any[2, 0, 6, 6, 6, 2, 8, 6, 12, 12, 12, 6, 2], Any[2, 4, 4, 0, 12, 12, 12, 11, 11, 11, 7, 4, 15, 15, 12, 4], Any[6, 3, 6, 6, 6, 21, 8, 6, 8, 11  …  27, 23, 29, 27, 32, 32, 29, 34, 21, 21], Any[2, 0, 2, 5, 2, 9, 9, 9, 2, 13, 13, 13, 9, 17, 17, 17, 13, 19, 13, 2]  …  Any[2, 3, 4, 17, 4, 11, 8, 9, 11, 11, 4, 4, 14, 17, 17, 17, 0, 17], Any[3, 3, 6, 6, 6, 10, 10, 10, 10, 0  …  26, 26, 26, 26, 20, 29, 29, 26, 26, 10], Any[7, 1, 7, 7, 7, 7, 0, 10, 10, 7  …  17, 15, 17, 20, 17, 20, 24, 24, 20, 7], Any[6, 1, 6, 6, 6, 0, 6, 6, 10, 6  …  6, 20, 20, 17, 22, 17, 24, 22, 6, 6], Any[3, 3, 8, 8, 6, 8, 8, 0, 11, 11, 8, 18, 15, 15, 18, 18, 18, 8, 8], Any[7, 1, 7, 7, 7, 7, 0, 7, 7, 11  …  46, 46, 38, 49, 49, 38, 51, 49, 38, 7], Any[2, 4, 4, 0, 13, 13, 13, 13, 13, 13  …  4, 15, 13, 15, 18, 16, 18, 21, 19, 4], Any[5, 5, 5, 5, 0, 5, 8, 5, 10, 5  …  15, 5, 22, 22, 22, 22, 22, 22, 15, 5], Any[2, 8, 5, 5, 2, 8, 8, 0, 13, 13  …  13, 17, 15, 19, 17, 23, 23, 23, 19, 8], Any[4, 4, 4, 0, 4, 4, 4, 10, 10, 4  …  18, 16, 21, 21, 18, 24, 24, 21, 4, 4]]))"
      ]
     },
     "execution_count": 15,
     "metadata": {},
     "output_type": "execute_result"
    }
   ],
   "source": [
    "data22 = zip((reshape(x,1,1,length(x)) for x in data2[1]),data2[2])"
   ]
  },
  {
   "cell_type": "code",
   "execution_count": 16,
   "metadata": {
    "scrolled": true
   },
   "outputs": [
    {
     "data": {
      "text/plain": [
       "Base.Generator{Base.Iterators.Zip{Tuple{Base.Generator{Array{Any,1},getfield(Main, Symbol(\"##9#10\"))},Array{Any,1}}},getfield(Main, Symbol(\"##11#12\"))}(getfield(Main, Symbol(\"##11#12\"))(), Base.Iterators.Zip{Tuple{Base.Generator{Array{Any,1},getfield(Main, Symbol(\"##9#10\"))},Array{Any,1}}}((Base.Generator{Array{Any,1},getfield(Main, Symbol(\"##9#10\"))}(getfield(Main, Symbol(\"##9#10\"))(), Any[Any[\"Al\", \"-\", \"Zaman\", \":\", \"American\", \"forces\", \"killed\", \"Shaikh\", \"Abdullah\", \"al\"  …  \"the\", \"town\", \"of\", \"Qaim\", \",\", \"near\", \"the\", \"Syrian\", \"border\", \".\"], Any[\"[\", \"This\", \"killing\", \"of\", \"a\", \"respected\", \"cleric\", \"will\", \"be\", \"causing\", \"us\", \"trouble\", \"for\", \"years\", \"to\", \"come\", \".\", \"]\"], Any[\"DPA\", \":\", \"Iraqi\", \"authorities\", \"announced\", \"that\", \"they\", \"had\", \"busted\", \"up\", \"3\", \"terrorist\", \"cells\", \"operating\", \"in\", \"Baghdad\", \".\"], Any[\"Two\", \"of\", \"them\", \"were\", \"being\", \"run\", \"by\", \"2\", \"officials\", \"of\", \"the\", \"Ministry\", \"of\", \"the\", \"Interior\", \"!\"], Any[\"The\", \"MoI\", \"in\", \"Iraq\", \"is\", \"equivalent\", \"to\", \"the\", \"US\", \"FBI\"  …  \"members\", \"of\", \"the\", \"Weathermen\", \"bombers\", \"back\", \"in\", \"the\", \"1960s\", \".\"], Any[\"The\", \"third\", \"was\", \"being\", \"run\", \"by\", \"the\", \"head\", \"of\", \"an\", \"investment\", \"firm\", \".\"], Any[\"You\", \"wonder\", \"if\", \"he\", \"was\", \"manipulating\", \"the\", \"market\", \"with\", \"his\", \"bombing\", \"targets\", \".\"], Any[\"The\", \"cells\", \"were\", \"operating\", \"in\", \"the\", \"Ghazaliyah\", \"and\", \"al\", \"-\", \"Jihad\", \"districts\", \"of\", \"the\", \"capital\", \".\"], Any[\"Although\", \"the\", \"announcement\", \"was\", \"probably\", \"made\", \"to\", \"show\", \"progress\", \"in\"  …  \"Baathists\", \"continue\", \"to\", \"penetrate\", \"the\", \"Iraqi\", \"government\", \"very\", \"hopeful\", \".\"], Any[\"It\", \"reminds\", \"me\", \"too\", \"much\", \"of\", \"the\", \"ARVN\", \"officers\", \"who\", \"were\", \"secretly\", \"working\", \"for\", \"the\", \"other\", \"side\", \"in\", \"Vietnam\", \".\"]  …  Any[\"Over\", \"two\", \"hours\", \"later\", \"(\", \"and\", \"ten\", \"minutes\", \"before\", \"they\", \"closed\", \")\", \"my\", \"car\", \"was\", \"finally\", \"finished\", \".\"], Any[\"A\", \"few\", \"minutes\", \"after\", \"I\", \"left\", \",\", \"I\", \"was\", \"called\"  …  \"which\", \"they\", \"should\", \"have\", \"left\", \"in\", \"the\", \"car\", \")\", \".\"], Any[\"Of\", \"course\", \",\", \"they\", \"would\", \"be\", \"closing\", \"in\", \"5\", \"minutes\"  …  \"to\", \"hurry\", \"up\", \"or\", \"get\", \"it\", \"the\", \"next\", \"day\", \".\"], Any[\"Of\", \"course\", \"I\", \"could\", \"n't\", \"make\", \"it\", \"back\", \"in\", \"time\"  …  \"stay\", \"5\", \"extra\", \"minutes\", \"to\", \"wait\", \"for\", \"me\", \")\", \".\"], Any[\"The\", \"next\", \"day\", \",\", \"no\", \"one\", \"could\", \"find\", \"my\", \"wheel\", \"lock\", \"and\", \"that\", \"particular\", \"technician\", \"was\", \"not\", \"in\", \".\"], Any[\"Of\", \"course\", \",\", \"they\", \"could\", \"n't\", \"call\", \"him\", \"either\", \"to\"  …  \"no\", \"wheel\", \"lock\", \"should\", \"I\", \"get\", \"a\", \"flat\", \")\", \".\"], Any[\"On\", \"Monday\", \"I\", \"called\", \"and\", \"again\", \"it\", \"was\", \"a\", \"big\"  …  \"do\", \"to\", \"find\", \"anyone\", \"who\", \"knew\", \"anything\", \"about\", \"it\", \".\"], Any[\"Supposedly\", \"they\", \"will\", \"be\", \"holding\", \"it\", \"for\", \"me\", \"this\", \"evening\"  …  \"'m\", \"sure\", \"that\", \"will\", \"also\", \"be\", \"a\", \"huge\", \"ordeal\", \".\"], Any[\"The\", \"employees\", \"at\", \"this\", \"Sear's\", \"are\", \"completely\", \"apathetic\", \"and\", \"there\"  …  \"be\", \"any\", \"sort\", \"of\", \"management\", \"that\", \"I\", \"could\", \"see\", \".\"], Any[\"I\", \"will\", \"never\", \"return\", \"there\", \"again\", \"(\", \"and\", \"now\", \"have\"  …  \"of\", \"work\", \"they\", \"actually\", \"performed\", \"on\", \"my\", \"car\", \")\", \".\"]]), Any[Any[0, 1, 1, 1, 6, 7, 1, 7, 8, 8  …  21, 18, 23, 21, 21, 28, 28, 28, 21, 1], Any[10, 3, 10, 7, 7, 7, 3, 10, 10, 0, 10, 10, 14, 10, 16, 14, 10, 10], Any[0, 1, 4, 5, 1, 9, 9, 9, 5, 9, 13, 13, 9, 13, 16, 14, 1], Any[6, 3, 1, 6, 6, 0, 9, 9, 6, 12, 12, 9, 15, 15, 12, 6], Any[2, 6, 4, 2, 6, 0, 10, 10, 10, 6  …  22, 31, 31, 31, 27, 35, 35, 35, 22, 6], Any[2, 5, 5, 5, 0, 8, 8, 5, 12, 12, 12, 8, 5], Any[2, 0, 6, 6, 6, 2, 8, 6, 12, 12, 12, 6, 2], Any[2, 4, 4, 0, 12, 12, 12, 11, 11, 11, 7, 4, 15, 15, 12, 4], Any[6, 3, 6, 6, 6, 21, 8, 6, 8, 11  …  27, 23, 29, 27, 32, 32, 29, 34, 21, 21], Any[2, 0, 2, 5, 2, 9, 9, 9, 2, 13, 13, 13, 9, 17, 17, 17, 13, 19, 13, 2]  …  Any[2, 3, 4, 17, 4, 11, 8, 9, 11, 11, 4, 4, 14, 17, 17, 17, 0, 17], Any[3, 3, 6, 6, 6, 10, 10, 10, 10, 0  …  26, 26, 26, 26, 20, 29, 29, 26, 26, 10], Any[7, 1, 7, 7, 7, 7, 0, 10, 10, 7  …  17, 15, 17, 20, 17, 20, 24, 24, 20, 7], Any[6, 1, 6, 6, 6, 0, 6, 6, 10, 6  …  6, 20, 20, 17, 22, 17, 24, 22, 6, 6], Any[3, 3, 8, 8, 6, 8, 8, 0, 11, 11, 8, 18, 15, 15, 18, 18, 18, 8, 8], Any[7, 1, 7, 7, 7, 7, 0, 7, 7, 11  …  46, 46, 38, 49, 49, 38, 51, 49, 38, 7], Any[2, 4, 4, 0, 13, 13, 13, 13, 13, 13  …  4, 15, 13, 15, 18, 16, 18, 21, 19, 4], Any[5, 5, 5, 5, 0, 5, 8, 5, 10, 5  …  15, 5, 22, 22, 22, 22, 22, 22, 15, 5], Any[2, 8, 5, 5, 2, 8, 8, 0, 13, 13  …  13, 17, 15, 19, 17, 23, 23, 23, 19, 8], Any[4, 4, 4, 0, 4, 4, 4, 10, 10, 4  …  18, 16, 21, 21, 18, 24, 24, 21, 4, 4]])))"
      ]
     },
     "execution_count": 16,
     "metadata": {},
     "output_type": "execute_result"
    }
   ],
   "source": [
    "data4 = ((reshape(cat(rootind,map(getind,x), dims=3),1,length(x)+1),y) for (x,y) in data22)"
   ]
  },
  {
   "cell_type": "code",
   "execution_count": 17,
   "metadata": {
    "scrolled": true
   },
   "outputs": [
    {
     "data": {
      "text/plain": [
       "(Dict{Any,Any}(\"newdigate\"=>164100,\"daufuskie\"=>254784,\"single-arm\"=>192007,\"titration\"=>117879,\"qajar\"=>66399,\"pinheiro\"=>38763,\"hospitalet\"=>282158,\"kennedale\"=>223560,\"tetracyclic\"=>353804,\"moher\"=>167242…), Any[Float32[0.418, 0.24968, -0.41242, 0.1217, 0.34527, -0.044457, -0.49688, -0.17862, -0.00066023, -0.6566  …  -0.29871, -0.15749, -0.34758, -0.045637, -0.44251, 0.18785, 0.0027849, -0.18411, -0.11514, -0.78581], Float32[0.013441, 0.23682, -0.16899, 0.40951, 0.63812, 0.47709, -0.42852, -0.55641, -0.364, -0.23938  …  -0.080262, 0.63003, 0.32111, -0.46765, 0.22786, 0.36034, -0.37818, -0.56657, 0.044691, 0.30392], Float32[0.15164, 0.30177, -0.16763, 0.17684, 0.31719, 0.33973, -0.43478, -0.31086, -0.44999, -0.29486  …  -6.3681e-5, 0.068987, 0.087939, -0.10285, -0.13931, 0.22314, -0.080803, -0.35652, 0.016413, 0.10216], Float32[0.70853, 0.57088, -0.4716, 0.18048, 0.54449, 0.72603, 0.18157, -0.52393, 0.10381, -0.17566  …  -0.34727, 0.28483, 0.075693, -0.062178, -0.38988, 0.22902, -0.21617, -0.22562, -0.093918, -0.80375], Float32[0.68047, -0.039263, 0.30186, -0.17792, 0.42962, 0.032246, -0.41376, 0.13228, -0.29847, -0.085253  …  -0.094375, 0.018324, 0.21048, -0.03088, -0.19722, 0.082279, -0.09434, -0.073297, -0.064699, -0.26044], Float32[0.26818, 0.14346, -0.27877, 0.016257, 0.11384, 0.69923, -0.51332, -0.47368, -0.33075, -0.13834  …  -0.069043, 0.36885, 0.25168, -0.24517, 0.25381, 0.1367, -0.31178, -0.6321, -0.25028, -0.38097], Float32[0.33042, 0.24995, -0.60874, 0.10923, 0.036372, 0.151, -0.55083, -0.074239, -0.092307, -0.32821  …  -0.48609, -0.0080272, 0.031184, -0.36576, -0.42699, 0.42164, -0.11666, -0.50703, -0.027273, -0.53285], Float32[0.21705, 0.46515, -0.46757, 0.10082, 1.0135, 0.74845, -0.53104, -0.26256, 0.16812, 0.13182  …  0.13813, 0.36973, -0.64289, 0.024142, -0.039315, -0.26037, 0.12017, -0.043782, 0.41013, 0.1796], Float32[0.25769, 0.45629, -0.76974, -0.37679, 0.59272, -0.063527, 0.20545, -0.57385, -0.29009, -0.13662  …  0.030498, -0.39543, -0.38515, -1.0002, 0.087599, -0.31009, -0.34677, -0.31438, 0.75004, 0.97065], Float32[0.23727, 0.40478, -0.20547, 0.58805, 0.65533, 0.32867, -0.81964, -0.23236, 0.27428, 0.24265  …  -0.12342, 0.65961, -0.51802, -0.82995, -0.082739, 0.28155, -0.423, -0.27378, -0.007901, -0.030231]  …  Float32[-0.74397, 0.082164, -0.0091471, 0.4129, -0.42255, 0.10125, -0.18602, 0.21051, -0.59037, 0.66988  …  0.53364, -0.93231, -0.39097, 0.60638, 0.42173, 0.1062, -0.14878, -0.11773, -0.097637, 0.093382], Float32[-0.30016, -0.80268, -0.46637, -0.29822, -1.032, -1.0705, 0.84562, 0.70225, 0.11996, -0.7183  …  0.35178, 0.14789, -0.015559, 0.16185, 0.5095, -0.60983, 1.2486, 0.33713, -0.22136, -0.39756], Float32[-1.1167, 0.14057, 0.36302, -0.13836, -1.4797, -0.98573, 0.40487, -0.39773, -0.40102, 0.34691  …  0.30189, 0.048314, -0.079109, 0.58375, 0.14685, -0.46245, 0.44275, 0.21229, 0.16195, -0.78756], Float32[-0.24171, -0.23367, 0.10672, -1.6023, 0.1244, -0.016423, 0.1302, 0.70318, -0.14301, 0.47307  …  0.77956, -0.072954, 0.16443, -0.0061933, 0.061141, -0.28784, 0.58601, 0.47279, -0.61084, -0.72091], Float32[-0.042672, -0.088106, -0.31724, -0.25209, -0.26851, -0.06615, 0.90325, -0.13818, 0.3186, 0.30621  …  -0.38187, -0.91153, 0.11853, -0.13034, 0.48774, -0.99745, -0.069557, 0.24963, 0.75791, 0.50679], Float32[0.23204, 0.025672, -0.70699, -0.045465, 0.13989, -0.62807, 0.72625, 0.34108, 0.44614, 0.16329  …  -0.095526, -0.29605, 0.38567, 0.13684, 0.59331, -0.69486, 0.1241, -0.18069, -0.2583, -0.039673], Float32[-0.60921, -0.67218, 0.23521, -0.11195, -0.46094, -0.0074616, 0.25578, 0.85632, 0.055977, -0.23792  …  0.67205, -0.59822, -0.20259, 0.39243, 0.028873, 0.030003, -0.10617, -0.11411, -0.24901, -0.12026], Float32[-0.51181, 0.058706, 1.0913, -0.55163, -0.10249, -0.1265, 0.99503, 0.079711, -0.16246, 0.56488  …  0.024747, 0.20092, -1.0851, -0.13626, 0.35052, -0.85891, 0.067858, -0.25003, -1.125, 1.5863], Float32[-0.75898, -0.47426, 0.4737, 0.7725, -0.78064, 0.23233, 0.046114, 0.84014, 0.24371, 0.022978  …  0.45439, -0.84254, 0.1065, -0.059397, 0.090449, 0.30581, -0.61424, 0.78954, -0.014116, 0.6448], Float32[0.072617, -0.51393, 0.4728, -0.52202, -0.35534, 0.34629, 0.23211, 0.23096, 0.26694, 0.41028  …  0.6888, -0.17986, -0.066569, -0.48044, -0.55946, -0.27594, 0.056072, -0.18907, -0.59021, 0.55559]])"
      ]
     },
     "execution_count": 17,
     "metadata": {},
     "output_type": "execute_result"
    }
   ],
   "source": [
    "wembed, wembedind = load_embed(\"glove.6B.50d.txt\")"
   ]
  },
  {
   "cell_type": "code",
   "execution_count": 18,
   "metadata": {},
   "outputs": [],
   "source": [
    "wembedmat = zeros(Float32,length(wembedind[1]), length(wembedind))\n",
    "for i=1:length(wembedind)\n",
    "    wembedmat[:,i] = convert(Array{Float32,1},wembedind[i])\n",
    "end"
   ]
  },
  {
   "cell_type": "code",
   "execution_count": 19,
   "metadata": {
    "scrolled": true
   },
   "outputs": [
    {
     "data": {
      "text/plain": [
       "Base.Generator{Base.Generator{Base.Iterators.Zip{Tuple{Base.Generator{Array{Any,1},getfield(Main, Symbol(\"##9#10\"))},Array{Any,1}}},getfield(Main, Symbol(\"##11#12\"))},getfield(Main, Symbol(\"##13#14\"))}(getfield(Main, Symbol(\"##13#14\"))(), Base.Generator{Base.Iterators.Zip{Tuple{Base.Generator{Array{Any,1},getfield(Main, Symbol(\"##9#10\"))},Array{Any,1}}},getfield(Main, Symbol(\"##11#12\"))}(getfield(Main, Symbol(\"##11#12\"))(), Base.Iterators.Zip{Tuple{Base.Generator{Array{Any,1},getfield(Main, Symbol(\"##9#10\"))},Array{Any,1}}}((Base.Generator{Array{Any,1},getfield(Main, Symbol(\"##9#10\"))}(getfield(Main, Symbol(\"##9#10\"))(), Any[Any[\"Al\", \"-\", \"Zaman\", \":\", \"American\", \"forces\", \"killed\", \"Shaikh\", \"Abdullah\", \"al\"  …  \"the\", \"town\", \"of\", \"Qaim\", \",\", \"near\", \"the\", \"Syrian\", \"border\", \".\"], Any[\"[\", \"This\", \"killing\", \"of\", \"a\", \"respected\", \"cleric\", \"will\", \"be\", \"causing\", \"us\", \"trouble\", \"for\", \"years\", \"to\", \"come\", \".\", \"]\"], Any[\"DPA\", \":\", \"Iraqi\", \"authorities\", \"announced\", \"that\", \"they\", \"had\", \"busted\", \"up\", \"3\", \"terrorist\", \"cells\", \"operating\", \"in\", \"Baghdad\", \".\"], Any[\"Two\", \"of\", \"them\", \"were\", \"being\", \"run\", \"by\", \"2\", \"officials\", \"of\", \"the\", \"Ministry\", \"of\", \"the\", \"Interior\", \"!\"], Any[\"The\", \"MoI\", \"in\", \"Iraq\", \"is\", \"equivalent\", \"to\", \"the\", \"US\", \"FBI\"  …  \"members\", \"of\", \"the\", \"Weathermen\", \"bombers\", \"back\", \"in\", \"the\", \"1960s\", \".\"], Any[\"The\", \"third\", \"was\", \"being\", \"run\", \"by\", \"the\", \"head\", \"of\", \"an\", \"investment\", \"firm\", \".\"], Any[\"You\", \"wonder\", \"if\", \"he\", \"was\", \"manipulating\", \"the\", \"market\", \"with\", \"his\", \"bombing\", \"targets\", \".\"], Any[\"The\", \"cells\", \"were\", \"operating\", \"in\", \"the\", \"Ghazaliyah\", \"and\", \"al\", \"-\", \"Jihad\", \"districts\", \"of\", \"the\", \"capital\", \".\"], Any[\"Although\", \"the\", \"announcement\", \"was\", \"probably\", \"made\", \"to\", \"show\", \"progress\", \"in\"  …  \"Baathists\", \"continue\", \"to\", \"penetrate\", \"the\", \"Iraqi\", \"government\", \"very\", \"hopeful\", \".\"], Any[\"It\", \"reminds\", \"me\", \"too\", \"much\", \"of\", \"the\", \"ARVN\", \"officers\", \"who\", \"were\", \"secretly\", \"working\", \"for\", \"the\", \"other\", \"side\", \"in\", \"Vietnam\", \".\"]  …  Any[\"Over\", \"two\", \"hours\", \"later\", \"(\", \"and\", \"ten\", \"minutes\", \"before\", \"they\", \"closed\", \")\", \"my\", \"car\", \"was\", \"finally\", \"finished\", \".\"], Any[\"A\", \"few\", \"minutes\", \"after\", \"I\", \"left\", \",\", \"I\", \"was\", \"called\"  …  \"which\", \"they\", \"should\", \"have\", \"left\", \"in\", \"the\", \"car\", \")\", \".\"], Any[\"Of\", \"course\", \",\", \"they\", \"would\", \"be\", \"closing\", \"in\", \"5\", \"minutes\"  …  \"to\", \"hurry\", \"up\", \"or\", \"get\", \"it\", \"the\", \"next\", \"day\", \".\"], Any[\"Of\", \"course\", \"I\", \"could\", \"n't\", \"make\", \"it\", \"back\", \"in\", \"time\"  …  \"stay\", \"5\", \"extra\", \"minutes\", \"to\", \"wait\", \"for\", \"me\", \")\", \".\"], Any[\"The\", \"next\", \"day\", \",\", \"no\", \"one\", \"could\", \"find\", \"my\", \"wheel\", \"lock\", \"and\", \"that\", \"particular\", \"technician\", \"was\", \"not\", \"in\", \".\"], Any[\"Of\", \"course\", \",\", \"they\", \"could\", \"n't\", \"call\", \"him\", \"either\", \"to\"  …  \"no\", \"wheel\", \"lock\", \"should\", \"I\", \"get\", \"a\", \"flat\", \")\", \".\"], Any[\"On\", \"Monday\", \"I\", \"called\", \"and\", \"again\", \"it\", \"was\", \"a\", \"big\"  …  \"do\", \"to\", \"find\", \"anyone\", \"who\", \"knew\", \"anything\", \"about\", \"it\", \".\"], Any[\"Supposedly\", \"they\", \"will\", \"be\", \"holding\", \"it\", \"for\", \"me\", \"this\", \"evening\"  …  \"'m\", \"sure\", \"that\", \"will\", \"also\", \"be\", \"a\", \"huge\", \"ordeal\", \".\"], Any[\"The\", \"employees\", \"at\", \"this\", \"Sear's\", \"are\", \"completely\", \"apathetic\", \"and\", \"there\"  …  \"be\", \"any\", \"sort\", \"of\", \"management\", \"that\", \"I\", \"could\", \"see\", \".\"], Any[\"I\", \"will\", \"never\", \"return\", \"there\", \"again\", \"(\", \"and\", \"now\", \"have\"  …  \"of\", \"work\", \"they\", \"actually\", \"performed\", \"on\", \"my\", \"car\", \")\", \".\"]]), Any[Any[0, 1, 1, 1, 6, 7, 1, 7, 8, 8  …  21, 18, 23, 21, 21, 28, 28, 28, 21, 1], Any[10, 3, 10, 7, 7, 7, 3, 10, 10, 0, 10, 10, 14, 10, 16, 14, 10, 10], Any[0, 1, 4, 5, 1, 9, 9, 9, 5, 9, 13, 13, 9, 13, 16, 14, 1], Any[6, 3, 1, 6, 6, 0, 9, 9, 6, 12, 12, 9, 15, 15, 12, 6], Any[2, 6, 4, 2, 6, 0, 10, 10, 10, 6  …  22, 31, 31, 31, 27, 35, 35, 35, 22, 6], Any[2, 5, 5, 5, 0, 8, 8, 5, 12, 12, 12, 8, 5], Any[2, 0, 6, 6, 6, 2, 8, 6, 12, 12, 12, 6, 2], Any[2, 4, 4, 0, 12, 12, 12, 11, 11, 11, 7, 4, 15, 15, 12, 4], Any[6, 3, 6, 6, 6, 21, 8, 6, 8, 11  …  27, 23, 29, 27, 32, 32, 29, 34, 21, 21], Any[2, 0, 2, 5, 2, 9, 9, 9, 2, 13, 13, 13, 9, 17, 17, 17, 13, 19, 13, 2]  …  Any[2, 3, 4, 17, 4, 11, 8, 9, 11, 11, 4, 4, 14, 17, 17, 17, 0, 17], Any[3, 3, 6, 6, 6, 10, 10, 10, 10, 0  …  26, 26, 26, 26, 20, 29, 29, 26, 26, 10], Any[7, 1, 7, 7, 7, 7, 0, 10, 10, 7  …  17, 15, 17, 20, 17, 20, 24, 24, 20, 7], Any[6, 1, 6, 6, 6, 0, 6, 6, 10, 6  …  6, 20, 20, 17, 22, 17, 24, 22, 6, 6], Any[3, 3, 8, 8, 6, 8, 8, 0, 11, 11, 8, 18, 15, 15, 18, 18, 18, 8, 8], Any[7, 1, 7, 7, 7, 7, 0, 7, 7, 11  …  46, 46, 38, 49, 49, 38, 51, 49, 38, 7], Any[2, 4, 4, 0, 13, 13, 13, 13, 13, 13  …  4, 15, 13, 15, 18, 16, 18, 21, 19, 4], Any[5, 5, 5, 5, 0, 5, 8, 5, 10, 5  …  15, 5, 22, 22, 22, 22, 22, 22, 15, 5], Any[2, 8, 5, 5, 2, 8, 8, 0, 13, 13  …  13, 17, 15, 19, 17, 23, 23, 23, 19, 8], Any[4, 4, 4, 0, 4, 4, 4, 10, 10, 4  …  18, 16, 21, 21, 18, 24, 24, 21, 4, 4]]))))"
      ]
     },
     "execution_count": 19,
     "metadata": {},
     "output_type": "execute_result"
    }
   ],
   "source": [
    "data5 = ((wembedmat[:,x],y .+ 1) for (x,y) in data4)"
   ]
  },
  {
   "cell_type": "code",
   "execution_count": 20,
   "metadata": {},
   "outputs": [
    {
     "data": {
      "text/plain": [
       "Base.Generator{Base.Iterators.Zip{Tuple{Base.Generator{Array{Any,1},getfield(Main, Symbol(\"##9#10\"))},Array{Any,1}}},getfield(Main, Symbol(\"##11#12\"))}(getfield(Main, Symbol(\"##11#12\"))(), Base.Iterators.Zip{Tuple{Base.Generator{Array{Any,1},getfield(Main, Symbol(\"##9#10\"))},Array{Any,1}}}((Base.Generator{Array{Any,1},getfield(Main, Symbol(\"##9#10\"))}(getfield(Main, Symbol(\"##9#10\"))(), Any[Any[\"Al\", \"-\", \"Zaman\", \":\", \"American\", \"forces\", \"killed\", \"Shaikh\", \"Abdullah\", \"al\"  …  \"the\", \"town\", \"of\", \"Qaim\", \",\", \"near\", \"the\", \"Syrian\", \"border\", \".\"], Any[\"[\", \"This\", \"killing\", \"of\", \"a\", \"respected\", \"cleric\", \"will\", \"be\", \"causing\", \"us\", \"trouble\", \"for\", \"years\", \"to\", \"come\", \".\", \"]\"], Any[\"DPA\", \":\", \"Iraqi\", \"authorities\", \"announced\", \"that\", \"they\", \"had\", \"busted\", \"up\", \"3\", \"terrorist\", \"cells\", \"operating\", \"in\", \"Baghdad\", \".\"], Any[\"Two\", \"of\", \"them\", \"were\", \"being\", \"run\", \"by\", \"2\", \"officials\", \"of\", \"the\", \"Ministry\", \"of\", \"the\", \"Interior\", \"!\"], Any[\"The\", \"MoI\", \"in\", \"Iraq\", \"is\", \"equivalent\", \"to\", \"the\", \"US\", \"FBI\"  …  \"members\", \"of\", \"the\", \"Weathermen\", \"bombers\", \"back\", \"in\", \"the\", \"1960s\", \".\"], Any[\"The\", \"third\", \"was\", \"being\", \"run\", \"by\", \"the\", \"head\", \"of\", \"an\", \"investment\", \"firm\", \".\"], Any[\"You\", \"wonder\", \"if\", \"he\", \"was\", \"manipulating\", \"the\", \"market\", \"with\", \"his\", \"bombing\", \"targets\", \".\"], Any[\"The\", \"cells\", \"were\", \"operating\", \"in\", \"the\", \"Ghazaliyah\", \"and\", \"al\", \"-\", \"Jihad\", \"districts\", \"of\", \"the\", \"capital\", \".\"], Any[\"Although\", \"the\", \"announcement\", \"was\", \"probably\", \"made\", \"to\", \"show\", \"progress\", \"in\"  …  \"Baathists\", \"continue\", \"to\", \"penetrate\", \"the\", \"Iraqi\", \"government\", \"very\", \"hopeful\", \".\"], Any[\"It\", \"reminds\", \"me\", \"too\", \"much\", \"of\", \"the\", \"ARVN\", \"officers\", \"who\", \"were\", \"secretly\", \"working\", \"for\", \"the\", \"other\", \"side\", \"in\", \"Vietnam\", \".\"]  …  Any[\"Over\", \"two\", \"hours\", \"later\", \"(\", \"and\", \"ten\", \"minutes\", \"before\", \"they\", \"closed\", \")\", \"my\", \"car\", \"was\", \"finally\", \"finished\", \".\"], Any[\"A\", \"few\", \"minutes\", \"after\", \"I\", \"left\", \",\", \"I\", \"was\", \"called\"  …  \"which\", \"they\", \"should\", \"have\", \"left\", \"in\", \"the\", \"car\", \")\", \".\"], Any[\"Of\", \"course\", \",\", \"they\", \"would\", \"be\", \"closing\", \"in\", \"5\", \"minutes\"  …  \"to\", \"hurry\", \"up\", \"or\", \"get\", \"it\", \"the\", \"next\", \"day\", \".\"], Any[\"Of\", \"course\", \"I\", \"could\", \"n't\", \"make\", \"it\", \"back\", \"in\", \"time\"  …  \"stay\", \"5\", \"extra\", \"minutes\", \"to\", \"wait\", \"for\", \"me\", \")\", \".\"], Any[\"The\", \"next\", \"day\", \",\", \"no\", \"one\", \"could\", \"find\", \"my\", \"wheel\", \"lock\", \"and\", \"that\", \"particular\", \"technician\", \"was\", \"not\", \"in\", \".\"], Any[\"Of\", \"course\", \",\", \"they\", \"could\", \"n't\", \"call\", \"him\", \"either\", \"to\"  …  \"no\", \"wheel\", \"lock\", \"should\", \"I\", \"get\", \"a\", \"flat\", \")\", \".\"], Any[\"On\", \"Monday\", \"I\", \"called\", \"and\", \"again\", \"it\", \"was\", \"a\", \"big\"  …  \"do\", \"to\", \"find\", \"anyone\", \"who\", \"knew\", \"anything\", \"about\", \"it\", \".\"], Any[\"Supposedly\", \"they\", \"will\", \"be\", \"holding\", \"it\", \"for\", \"me\", \"this\", \"evening\"  …  \"'m\", \"sure\", \"that\", \"will\", \"also\", \"be\", \"a\", \"huge\", \"ordeal\", \".\"], Any[\"The\", \"employees\", \"at\", \"this\", \"Sear's\", \"are\", \"completely\", \"apathetic\", \"and\", \"there\"  …  \"be\", \"any\", \"sort\", \"of\", \"management\", \"that\", \"I\", \"could\", \"see\", \".\"], Any[\"I\", \"will\", \"never\", \"return\", \"there\", \"again\", \"(\", \"and\", \"now\", \"have\"  …  \"of\", \"work\", \"they\", \"actually\", \"performed\", \"on\", \"my\", \"car\", \")\", \".\"]]), Any[Any[0, 1, 1, 1, 6, 7, 1, 7, 8, 8  …  21, 18, 23, 21, 21, 28, 28, 28, 21, 1], Any[10, 3, 10, 7, 7, 7, 3, 10, 10, 0, 10, 10, 14, 10, 16, 14, 10, 10], Any[0, 1, 4, 5, 1, 9, 9, 9, 5, 9, 13, 13, 9, 13, 16, 14, 1], Any[6, 3, 1, 6, 6, 0, 9, 9, 6, 12, 12, 9, 15, 15, 12, 6], Any[2, 6, 4, 2, 6, 0, 10, 10, 10, 6  …  22, 31, 31, 31, 27, 35, 35, 35, 22, 6], Any[2, 5, 5, 5, 0, 8, 8, 5, 12, 12, 12, 8, 5], Any[2, 0, 6, 6, 6, 2, 8, 6, 12, 12, 12, 6, 2], Any[2, 4, 4, 0, 12, 12, 12, 11, 11, 11, 7, 4, 15, 15, 12, 4], Any[6, 3, 6, 6, 6, 21, 8, 6, 8, 11  …  27, 23, 29, 27, 32, 32, 29, 34, 21, 21], Any[2, 0, 2, 5, 2, 9, 9, 9, 2, 13, 13, 13, 9, 17, 17, 17, 13, 19, 13, 2]  …  Any[2, 3, 4, 17, 4, 11, 8, 9, 11, 11, 4, 4, 14, 17, 17, 17, 0, 17], Any[3, 3, 6, 6, 6, 10, 10, 10, 10, 0  …  26, 26, 26, 26, 20, 29, 29, 26, 26, 10], Any[7, 1, 7, 7, 7, 7, 0, 10, 10, 7  …  17, 15, 17, 20, 17, 20, 24, 24, 20, 7], Any[6, 1, 6, 6, 6, 0, 6, 6, 10, 6  …  6, 20, 20, 17, 22, 17, 24, 22, 6, 6], Any[3, 3, 8, 8, 6, 8, 8, 0, 11, 11, 8, 18, 15, 15, 18, 18, 18, 8, 8], Any[7, 1, 7, 7, 7, 7, 0, 7, 7, 11  …  46, 46, 38, 49, 49, 38, 51, 49, 38, 7], Any[2, 4, 4, 0, 13, 13, 13, 13, 13, 13  …  4, 15, 13, 15, 18, 16, 18, 21, 19, 4], Any[5, 5, 5, 5, 0, 5, 8, 5, 10, 5  …  15, 5, 22, 22, 22, 22, 22, 22, 15, 5], Any[2, 8, 5, 5, 2, 8, 8, 0, 13, 13  …  13, 17, 15, 19, 17, 23, 23, 23, 19, 8], Any[4, 4, 4, 0, 4, 4, 4, 10, 10, 4  …  18, 16, 21, 21, 18, 24, 24, 21, 4, 4]])))"
      ]
     },
     "execution_count": 20,
     "metadata": {},
     "output_type": "execute_result"
    }
   ],
   "source": [
    "data4"
   ]
  },
  {
   "cell_type": "code",
   "execution_count": 21,
   "metadata": {},
   "outputs": [
    {
     "data": {
      "text/plain": [
       "Base.Generator{Base.Generator{Base.Iterators.Zip{Tuple{Base.Generator{Array{Any,1},getfield(Main, Symbol(\"##9#10\"))},Array{Any,1}}},getfield(Main, Symbol(\"##11#12\"))},getfield(Main, Symbol(\"##15#16\"))}(getfield(Main, Symbol(\"##15#16\"))(), Base.Generator{Base.Iterators.Zip{Tuple{Base.Generator{Array{Any,1},getfield(Main, Symbol(\"##9#10\"))},Array{Any,1}}},getfield(Main, Symbol(\"##11#12\"))}(getfield(Main, Symbol(\"##11#12\"))(), Base.Iterators.Zip{Tuple{Base.Generator{Array{Any,1},getfield(Main, Symbol(\"##9#10\"))},Array{Any,1}}}((Base.Generator{Array{Any,1},getfield(Main, Symbol(\"##9#10\"))}(getfield(Main, Symbol(\"##9#10\"))(), Any[Any[\"Al\", \"-\", \"Zaman\", \":\", \"American\", \"forces\", \"killed\", \"Shaikh\", \"Abdullah\", \"al\"  …  \"the\", \"town\", \"of\", \"Qaim\", \",\", \"near\", \"the\", \"Syrian\", \"border\", \".\"], Any[\"[\", \"This\", \"killing\", \"of\", \"a\", \"respected\", \"cleric\", \"will\", \"be\", \"causing\", \"us\", \"trouble\", \"for\", \"years\", \"to\", \"come\", \".\", \"]\"], Any[\"DPA\", \":\", \"Iraqi\", \"authorities\", \"announced\", \"that\", \"they\", \"had\", \"busted\", \"up\", \"3\", \"terrorist\", \"cells\", \"operating\", \"in\", \"Baghdad\", \".\"], Any[\"Two\", \"of\", \"them\", \"were\", \"being\", \"run\", \"by\", \"2\", \"officials\", \"of\", \"the\", \"Ministry\", \"of\", \"the\", \"Interior\", \"!\"], Any[\"The\", \"MoI\", \"in\", \"Iraq\", \"is\", \"equivalent\", \"to\", \"the\", \"US\", \"FBI\"  …  \"members\", \"of\", \"the\", \"Weathermen\", \"bombers\", \"back\", \"in\", \"the\", \"1960s\", \".\"], Any[\"The\", \"third\", \"was\", \"being\", \"run\", \"by\", \"the\", \"head\", \"of\", \"an\", \"investment\", \"firm\", \".\"], Any[\"You\", \"wonder\", \"if\", \"he\", \"was\", \"manipulating\", \"the\", \"market\", \"with\", \"his\", \"bombing\", \"targets\", \".\"], Any[\"The\", \"cells\", \"were\", \"operating\", \"in\", \"the\", \"Ghazaliyah\", \"and\", \"al\", \"-\", \"Jihad\", \"districts\", \"of\", \"the\", \"capital\", \".\"], Any[\"Although\", \"the\", \"announcement\", \"was\", \"probably\", \"made\", \"to\", \"show\", \"progress\", \"in\"  …  \"Baathists\", \"continue\", \"to\", \"penetrate\", \"the\", \"Iraqi\", \"government\", \"very\", \"hopeful\", \".\"], Any[\"It\", \"reminds\", \"me\", \"too\", \"much\", \"of\", \"the\", \"ARVN\", \"officers\", \"who\", \"were\", \"secretly\", \"working\", \"for\", \"the\", \"other\", \"side\", \"in\", \"Vietnam\", \".\"]  …  Any[\"Over\", \"two\", \"hours\", \"later\", \"(\", \"and\", \"ten\", \"minutes\", \"before\", \"they\", \"closed\", \")\", \"my\", \"car\", \"was\", \"finally\", \"finished\", \".\"], Any[\"A\", \"few\", \"minutes\", \"after\", \"I\", \"left\", \",\", \"I\", \"was\", \"called\"  …  \"which\", \"they\", \"should\", \"have\", \"left\", \"in\", \"the\", \"car\", \")\", \".\"], Any[\"Of\", \"course\", \",\", \"they\", \"would\", \"be\", \"closing\", \"in\", \"5\", \"minutes\"  …  \"to\", \"hurry\", \"up\", \"or\", \"get\", \"it\", \"the\", \"next\", \"day\", \".\"], Any[\"Of\", \"course\", \"I\", \"could\", \"n't\", \"make\", \"it\", \"back\", \"in\", \"time\"  …  \"stay\", \"5\", \"extra\", \"minutes\", \"to\", \"wait\", \"for\", \"me\", \")\", \".\"], Any[\"The\", \"next\", \"day\", \",\", \"no\", \"one\", \"could\", \"find\", \"my\", \"wheel\", \"lock\", \"and\", \"that\", \"particular\", \"technician\", \"was\", \"not\", \"in\", \".\"], Any[\"Of\", \"course\", \",\", \"they\", \"could\", \"n't\", \"call\", \"him\", \"either\", \"to\"  …  \"no\", \"wheel\", \"lock\", \"should\", \"I\", \"get\", \"a\", \"flat\", \")\", \".\"], Any[\"On\", \"Monday\", \"I\", \"called\", \"and\", \"again\", \"it\", \"was\", \"a\", \"big\"  …  \"do\", \"to\", \"find\", \"anyone\", \"who\", \"knew\", \"anything\", \"about\", \"it\", \".\"], Any[\"Supposedly\", \"they\", \"will\", \"be\", \"holding\", \"it\", \"for\", \"me\", \"this\", \"evening\"  …  \"'m\", \"sure\", \"that\", \"will\", \"also\", \"be\", \"a\", \"huge\", \"ordeal\", \".\"], Any[\"The\", \"employees\", \"at\", \"this\", \"Sear's\", \"are\", \"completely\", \"apathetic\", \"and\", \"there\"  …  \"be\", \"any\", \"sort\", \"of\", \"management\", \"that\", \"I\", \"could\", \"see\", \".\"], Any[\"I\", \"will\", \"never\", \"return\", \"there\", \"again\", \"(\", \"and\", \"now\", \"have\"  …  \"of\", \"work\", \"they\", \"actually\", \"performed\", \"on\", \"my\", \"car\", \")\", \".\"]]), Any[Any[0, 1, 1, 1, 6, 7, 1, 7, 8, 8  …  21, 18, 23, 21, 21, 28, 28, 28, 21, 1], Any[10, 3, 10, 7, 7, 7, 3, 10, 10, 0, 10, 10, 14, 10, 16, 14, 10, 10], Any[0, 1, 4, 5, 1, 9, 9, 9, 5, 9, 13, 13, 9, 13, 16, 14, 1], Any[6, 3, 1, 6, 6, 0, 9, 9, 6, 12, 12, 9, 15, 15, 12, 6], Any[2, 6, 4, 2, 6, 0, 10, 10, 10, 6  …  22, 31, 31, 31, 27, 35, 35, 35, 22, 6], Any[2, 5, 5, 5, 0, 8, 8, 5, 12, 12, 12, 8, 5], Any[2, 0, 6, 6, 6, 2, 8, 6, 12, 12, 12, 6, 2], Any[2, 4, 4, 0, 12, 12, 12, 11, 11, 11, 7, 4, 15, 15, 12, 4], Any[6, 3, 6, 6, 6, 21, 8, 6, 8, 11  …  27, 23, 29, 27, 32, 32, 29, 34, 21, 21], Any[2, 0, 2, 5, 2, 9, 9, 9, 2, 13, 13, 13, 9, 17, 17, 17, 13, 19, 13, 2]  …  Any[2, 3, 4, 17, 4, 11, 8, 9, 11, 11, 4, 4, 14, 17, 17, 17, 0, 17], Any[3, 3, 6, 6, 6, 10, 10, 10, 10, 0  …  26, 26, 26, 26, 20, 29, 29, 26, 26, 10], Any[7, 1, 7, 7, 7, 7, 0, 10, 10, 7  …  17, 15, 17, 20, 17, 20, 24, 24, 20, 7], Any[6, 1, 6, 6, 6, 0, 6, 6, 10, 6  …  6, 20, 20, 17, 22, 17, 24, 22, 6, 6], Any[3, 3, 8, 8, 6, 8, 8, 0, 11, 11, 8, 18, 15, 15, 18, 18, 18, 8, 8], Any[7, 1, 7, 7, 7, 7, 0, 7, 7, 11  …  46, 46, 38, 49, 49, 38, 51, 49, 38, 7], Any[2, 4, 4, 0, 13, 13, 13, 13, 13, 13  …  4, 15, 13, 15, 18, 16, 18, 21, 19, 4], Any[5, 5, 5, 5, 0, 5, 8, 5, 10, 5  …  15, 5, 22, 22, 22, 22, 22, 22, 15, 5], Any[2, 8, 5, 5, 2, 8, 8, 0, 13, 13  …  13, 17, 15, 19, 17, 23, 23, 23, 19, 8], Any[4, 4, 4, 0, 4, 4, 4, 10, 10, 4  …  18, 16, 21, 21, 18, 24, 24, 21, 4, 4]]))))"
      ]
     },
     "execution_count": 21,
     "metadata": {},
     "output_type": "execute_result"
    }
   ],
   "source": [
    "data4_1 = ((x,y .+ 1) for (x,y) in data4)"
   ]
  },
  {
   "cell_type": "code",
   "execution_count": 22,
   "metadata": {
    "scrolled": true
   },
   "outputs": [],
   "source": [
    "#clcdata5 = collect(data5)"
   ]
  },
  {
   "cell_type": "code",
   "execution_count": 23,
   "metadata": {
    "scrolled": true
   },
   "outputs": [],
   "source": [
    "#clcdata5KN = [(convert(KnetArray{Float32,3}, x), y) for (x,y) in clcdata5]"
   ]
  },
  {
   "cell_type": "code",
   "execution_count": 72,
   "metadata": {
    "scrolled": true
   },
   "outputs": [
    {
     "data": {
      "text/plain": [
       "50×400000 Array{Float32,2}:\n",
       "  0.418        0.013441  …  -0.51181   -0.75898    0.072617\n",
       "  0.24968      0.23682       0.058706  -0.47426   -0.51393 \n",
       " -0.41242     -0.16899       1.0913     0.4737     0.4728  \n",
       "  0.1217       0.40951      -0.55163    0.7725    -0.52202 \n",
       "  0.34527      0.63812      -0.10249   -0.78064   -0.35534 \n",
       " -0.044457     0.47709   …  -0.1265     0.23233    0.34629 \n",
       " -0.49688     -0.42852       0.99503    0.046114   0.23211 \n",
       " -0.17862     -0.55641       0.079711   0.84014    0.23096 \n",
       " -0.00066023  -0.364        -0.16246    0.24371    0.26694 \n",
       " -0.6566      -0.23938       0.56488    0.022978   0.41028 \n",
       "  0.27843      0.13001   …  -0.63306    0.53964    0.28031 \n",
       " -0.14767     -0.063734     -0.48592   -0.36101    0.14107 \n",
       " -0.55677     -0.39575       0.76247    0.94198   -0.30212 \n",
       "  ⋮                      ⋱                                 \n",
       "  0.012041     0.70358      -0.18204    0.035413  -0.83629 \n",
       " -0.054223     0.44858       0.041465   0.58834   -0.24698 \n",
       " -0.29871     -0.080262  …   0.024747   0.45439    0.6888  \n",
       " -0.15749      0.63003       0.20092   -0.84254   -0.17986 \n",
       " -0.34758      0.32111      -1.0851     0.1065    -0.066569\n",
       " -0.045637    -0.46765      -0.13626   -0.059397  -0.48044 \n",
       " -0.44251      0.22786       0.35052    0.090449  -0.55946 \n",
       "  0.18785      0.36034   …  -0.85891    0.30581   -0.27594 \n",
       "  0.0027849   -0.37818       0.067858  -0.61424    0.056072\n",
       " -0.18411     -0.56657      -0.25003    0.78954   -0.18907 \n",
       " -0.11514      0.044691     -1.125     -0.014116  -0.59021 \n",
       " -0.78581      0.30392       1.5863     0.6448     0.55559 "
      ]
     },
     "execution_count": 72,
     "metadata": {},
     "output_type": "execute_result"
    }
   ],
   "source": [
    "mymodel5t.layers[1].w.value"
   ]
  },
  {
   "cell_type": "code",
   "execution_count": 73,
   "metadata": {},
   "outputs": [
    {
     "data": {
      "text/latex": [
       "\\begin{verbatim}\n",
       "param(array; atype)\n",
       "param(dims...; init, atype)\n",
       "param0(dims...; atype)\n",
       "\\end{verbatim}\n",
       "The first form returns \\texttt{Param(atype(array))} where \\texttt{atype=identity} is the default.\n",
       "\n",
       "The second form Returns a randomly initialized \\texttt{Param(atype(init(dims...)))}. By default, \\texttt{init} is \\texttt{xavier} and \\texttt{atype} is \\texttt{KnetArray\\{Float32\\}} if \\texttt{gpu() >= 0}, \\texttt{Array\\{Float32\\}} otherwise. \n",
       "\n",
       "The third form \\texttt{param0} is an alias for \\texttt{param(dims...; init=zeros)}.\n",
       "\n"
      ],
      "text/markdown": [
       "```\n",
       "param(array; atype)\n",
       "param(dims...; init, atype)\n",
       "param0(dims...; atype)\n",
       "```\n",
       "\n",
       "The first form returns `Param(atype(array))` where `atype=identity` is the default.\n",
       "\n",
       "The second form Returns a randomly initialized `Param(atype(init(dims...)))`. By default, `init` is `xavier` and `atype` is `KnetArray{Float32}` if `gpu() >= 0`, `Array{Float32}` otherwise. \n",
       "\n",
       "The third form `param0` is an alias for `param(dims...; init=zeros)`.\n"
      ],
      "text/plain": [
       "\u001b[36m  param(array; atype)\u001b[39m\n",
       "\u001b[36m  param(dims...; init, atype)\u001b[39m\n",
       "\u001b[36m  param0(dims...; atype)\u001b[39m\n",
       "\n",
       "  The first form returns \u001b[36mParam(atype(array))\u001b[39m where \u001b[36matype=identity\u001b[39m is\n",
       "  the default.\n",
       "\n",
       "  The second form Returns a randomly initialized\n",
       "  \u001b[36mParam(atype(init(dims...)))\u001b[39m. By default, \u001b[36minit\u001b[39m is \u001b[36mxavier\u001b[39m and \u001b[36matype\u001b[39m is\n",
       "  \u001b[36mKnetArray{Float32}\u001b[39m if \u001b[36mgpu() >= 0\u001b[39m, \u001b[36mArray{Float32}\u001b[39m otherwise. \n",
       "\n",
       "  The third form \u001b[36mparam0\u001b[39m is an alias for \u001b[36mparam(dims...; init=zeros)\u001b[39m."
      ]
     },
     "execution_count": 73,
     "metadata": {},
     "output_type": "execute_result"
    }
   ],
   "source": [
    "@doc Knet.param"
   ]
  },
  {
   "cell_type": "code",
   "execution_count": 24,
   "metadata": {},
   "outputs": [],
   "source": [
    "struct MyData1 end\n",
    "struct EmbMatT end\n",
    "struct EmbMatPar end"
   ]
  },
  {
   "cell_type": "code",
   "execution_count": 74,
   "metadata": {},
   "outputs": [],
   "source": [
    "struct Embed; w; end\n",
    "\n",
    "Embed(vocab::Int,embed::Int)=Embed(param(embed,vocab))\n",
    "Embed(wmat, ::EmbMatT) = Embed(wmat)\n",
    "Embed(wmat, aType, ::EmbMatPar) = Embed(param(wembedmat, atype = aType))\n",
    "Embed(wmat, ::EmbMatPar) = Embed(param(wembedmat))\n",
    "\n",
    "(e::Embed)(x) = e.w[:,x]  # (B,T)->(X,B,T)->rnn->(H,B,T)"
   ]
  },
  {
   "cell_type": "code",
   "execution_count": 26,
   "metadata": {},
   "outputs": [],
   "source": [
    "struct Dense; w; b; f; end\n",
    "Dense(i::Int,o::Int,f=identity) = Dense(param(o,i), param0(o), f)\n",
    "(d::Dense)(x) = d.f.(d.w * mat(x,dims=1) .+ d.b)"
   ]
  },
  {
   "cell_type": "code",
   "execution_count": 27,
   "metadata": {},
   "outputs": [],
   "source": [
    "struct Linear; w; b; end\n",
    "\n",
    "Linear(input::Int, output::Int)=Linear(param(output,input), param0(output))\n",
    "\n",
    "(l::Linear)(x) = l.w * mat(x,dims=1) .+ l.b  # (H,B,T)->(H,B*T)->(V,B*T)\n",
    "(l::Linear)(x,y)= quadl(l(x),y)[1]"
   ]
  },
  {
   "cell_type": "code",
   "execution_count": 28,
   "metadata": {},
   "outputs": [],
   "source": [
    "struct Chain\n",
    "    layers\n",
    "    Chain(layers...) = new(layers)\n",
    "end\n",
    "(c::Chain)(x) = (for l in c.layers; x = l(x); end; x)\n",
    "(c::Chain)(x,y) = nll(c(x),y)\n",
    "(c::Chain)(d::Data) = mean(c(x,y) for (x,y) in d)\n",
    "(c::Chain)(d,a,b) = mean(c(x,y) for (x,y) in d)\n",
    "(c::Chain)(d, ::MyData1) = mean(c(x,y) for (x,y) in d)"
   ]
  },
  {
   "cell_type": "code",
   "execution_count": 29,
   "metadata": {},
   "outputs": [
    {
     "data": {
      "text/plain": [
       "MLP (generic function with 1 method)"
      ]
     },
     "execution_count": 29,
     "metadata": {},
     "output_type": "execute_result"
    }
   ],
   "source": [
    "MLP(i::Int, h::Int, o::Int) = Chain(Dense(i,h, Knet.relu), Dense(h,o,Knet.relu))"
   ]
  },
  {
   "cell_type": "code",
   "execution_count": 30,
   "metadata": {},
   "outputs": [
    {
     "data": {
      "text/plain": [
       "batchmult_old (generic function with 1 method)"
      ]
     },
     "execution_count": 30,
     "metadata": {},
     "output_type": "execute_result"
    }
   ],
   "source": [
    "function batchmult_old(w,x;dim=3)\n",
    "    xb = ndims(x)>=3\n",
    "    wb = ndims(w)>=3\n",
    "    if(wb && xb)\n",
    "        return cat(collect([w[:,:,i]*x[:,:,i] for i in 1:size(x,dim)])..., dims=dim)\n",
    "    elseif(wb)\n",
    "        return cat(collect([w[:,:,i]*x for i in 1:size(x,dim)])..., dims=dim)\n",
    "    elseif(xb)\n",
    "        return cat(collect([w*x[:,:,i] for i in 1:size(x,dim)])..., dims=dim)\n",
    "    else\n",
    "        return wb*xb\n",
    "    end\n",
    "end"
   ]
  },
  {
   "cell_type": "code",
   "execution_count": 31,
   "metadata": {},
   "outputs": [
    {
     "data": {
      "text/plain": [
       "batchmult (generic function with 1 method)"
      ]
     },
     "execution_count": 31,
     "metadata": {},
     "output_type": "execute_result"
    }
   ],
   "source": [
    "function batchmult(w,x;dim=3)\n",
    "    println(\"I'm here 1\")\n",
    "    xb = ndims(x)>=3\n",
    "    wb = ndims(w)>=3\n",
    "    if(wb && xb)\n",
    "        return reshape(vcat(collect([w[:,:,i]*x[:,:,i] for i in 1:size(x,dim)])...), size(w,1), size(x,2), :)\n",
    "    elseif(wb)\n",
    "        return reshape(vcat(collect([w[:,:,i]*x for i in 1:size(x,dim)])...), size(w,1), size(x,2), :)\n",
    "    elseif(xb)\n",
    "        return reshape(vcat(collect([w*x[:,:,i] for i in 1:size(x,dim)])...), size(w,1), size(x,2), :)\n",
    "    else\n",
    "        return wb*xb\n",
    "    end\n",
    "end"
   ]
  },
  {
   "cell_type": "code",
   "execution_count": 94,
   "metadata": {},
   "outputs": [
    {
     "data": {
      "text/plain": [
       "batchmult_new (generic function with 1 method)"
      ]
     },
     "execution_count": 94,
     "metadata": {},
     "output_type": "execute_result"
    }
   ],
   "source": [
    "function batchmult_new(w,x)\n",
    "    A = KnetArray{Float32,3}(zeros(size(w,1),size(x,2),size(x,3)))\n",
    "    for i= 1:size(x,3)\n",
    "        A[:,:,i] = w[:,:,i]*x[:,:,i]\n",
    "    end\n",
    "    A\n",
    "end"
   ]
  },
  {
   "cell_type": "code",
   "execution_count": 96,
   "metadata": {},
   "outputs": [
    {
     "data": {
      "text/plain": [
       "2×2×3 reshape(::UnitRange{Int64}, 2, 2, 3) with eltype Int64:\n",
       "[:, :, 1] =\n",
       " 1  3\n",
       " 2  4\n",
       "\n",
       "[:, :, 2] =\n",
       " 5  7\n",
       " 6  8\n",
       "\n",
       "[:, :, 3] =\n",
       "  9  11\n",
       " 10  12"
      ]
     },
     "execution_count": 96,
     "metadata": {},
     "output_type": "execute_result"
    }
   ],
   "source": [
    "wmat"
   ]
  },
  {
   "cell_type": "code",
   "execution_count": 86,
   "metadata": {},
   "outputs": [
    {
     "data": {
      "text/plain": [
       "2×2×3 Array{Int64,3}:\n",
       "[:, :, 1] =\n",
       " 10  10\n",
       " 10  10\n",
       "\n",
       "[:, :, 2] =\n",
       " 10  10\n",
       " 10  10\n",
       "\n",
       "[:, :, 3] =\n",
       " 10  10\n",
       " 10  10"
      ]
     },
     "execution_count": 86,
     "metadata": {},
     "output_type": "execute_result"
    }
   ],
   "source": [
    "wmat = reshape(1:12,2,2,3)\n",
    "array = fill(10,(2,2,3))"
   ]
  },
  {
   "cell_type": "code",
   "execution_count": 91,
   "metadata": {},
   "outputs": [
    {
     "data": {
      "text/plain": [
       "2×2 view(::Array{Int64,3}, :, :, 2) with eltype Int64:\n",
       " 20  20\n",
       " 20  20"
      ]
     },
     "execution_count": 91,
     "metadata": {},
     "output_type": "execute_result"
    }
   ],
   "source": [
    "fill!(view(array,:,:,2),20)"
   ]
  },
  {
   "cell_type": "code",
   "execution_count": 92,
   "metadata": {
    "scrolled": true
   },
   "outputs": [
    {
     "data": {
      "text/plain": [
       "2×2×3 Array{Int64,3}:\n",
       "[:, :, 1] =\n",
       " 10  10\n",
       " 10  10\n",
       "\n",
       "[:, :, 2] =\n",
       " 20  20\n",
       " 20  20\n",
       "\n",
       "[:, :, 3] =\n",
       " 10  10\n",
       " 10  10"
      ]
     },
     "execution_count": 92,
     "metadata": {},
     "output_type": "execute_result"
    }
   ],
   "source": [
    "array"
   ]
  },
  {
   "cell_type": "code",
   "execution_count": 95,
   "metadata": {},
   "outputs": [
    {
     "data": {
      "text/plain": [
       "2×2×3 KnetArray{Float32,3}:\n",
       "[:, :, 1] =\n",
       " 40.0  40.0\n",
       " 60.0  60.0\n",
       "\n",
       "[:, :, 2] =\n",
       " 240.0  240.0\n",
       " 280.0  280.0\n",
       "\n",
       "[:, :, 3] =\n",
       " 200.0  200.0\n",
       " 220.0  220.0"
      ]
     },
     "execution_count": 95,
     "metadata": {},
     "output_type": "execute_result"
    }
   ],
   "source": [
    "batchmult_new(wmat,array)"
   ]
  },
  {
   "cell_type": "code",
   "execution_count": 87,
   "metadata": {},
   "outputs": [
    {
     "data": {
      "text/latex": [
       "\\begin{verbatim}\n",
       "fill!(A, x)\n",
       "\\end{verbatim}\n",
       "Fill array \\texttt{A} with the value \\texttt{x}. If \\texttt{x} is an object reference, all elements will refer to the same object. \\texttt{fill!(A, Foo())} will return \\texttt{A} filled with the result of evaluating \\texttt{Foo()} once.\n",
       "\n",
       "\\section{Examples}\n",
       "\\begin{verbatim}\n",
       "julia> A = zeros(2,3)\n",
       "2×3 Array{Float64,2}:\n",
       " 0.0  0.0  0.0\n",
       " 0.0  0.0  0.0\n",
       "\n",
       "julia> fill!(A, 2.)\n",
       "2×3 Array{Float64,2}:\n",
       " 2.0  2.0  2.0\n",
       " 2.0  2.0  2.0\n",
       "\n",
       "julia> a = [1, 1, 1]; A = fill!(Vector{Vector{Int}}(undef, 3), a); a[1] = 2; A\n",
       "3-element Array{Array{Int64,1},1}:\n",
       " [2, 1, 1]\n",
       " [2, 1, 1]\n",
       " [2, 1, 1]\n",
       "\n",
       "julia> x = 0; f() = (global x += 1; x); fill!(Vector{Int}(undef, 3), f())\n",
       "3-element Array{Int64,1}:\n",
       " 1\n",
       " 1\n",
       " 1\n",
       "\\end{verbatim}\n",
       "\\begin{verbatim}\n",
       "fill!(cb, data)\n",
       "\\end{verbatim}\n",
       "Grows the buffer up-to capacity, and fills it entirely. It doesn't overwrite existing elements.\n",
       "\n"
      ],
      "text/markdown": [
       "```\n",
       "fill!(A, x)\n",
       "```\n",
       "\n",
       "Fill array `A` with the value `x`. If `x` is an object reference, all elements will refer to the same object. `fill!(A, Foo())` will return `A` filled with the result of evaluating `Foo()` once.\n",
       "\n",
       "# Examples\n",
       "\n",
       "```jldoctest\n",
       "julia> A = zeros(2,3)\n",
       "2×3 Array{Float64,2}:\n",
       " 0.0  0.0  0.0\n",
       " 0.0  0.0  0.0\n",
       "\n",
       "julia> fill!(A, 2.)\n",
       "2×3 Array{Float64,2}:\n",
       " 2.0  2.0  2.0\n",
       " 2.0  2.0  2.0\n",
       "\n",
       "julia> a = [1, 1, 1]; A = fill!(Vector{Vector{Int}}(undef, 3), a); a[1] = 2; A\n",
       "3-element Array{Array{Int64,1},1}:\n",
       " [2, 1, 1]\n",
       " [2, 1, 1]\n",
       " [2, 1, 1]\n",
       "\n",
       "julia> x = 0; f() = (global x += 1; x); fill!(Vector{Int}(undef, 3), f())\n",
       "3-element Array{Int64,1}:\n",
       " 1\n",
       " 1\n",
       " 1\n",
       "```\n",
       "\n",
       "```\n",
       "fill!(cb, data)\n",
       "```\n",
       "\n",
       "Grows the buffer up-to capacity, and fills it entirely. It doesn't overwrite existing elements.\n"
      ],
      "text/plain": [
       "\u001b[36m  fill!(A, x)\u001b[39m\n",
       "\n",
       "  Fill array \u001b[36mA\u001b[39m with the value \u001b[36mx\u001b[39m. If \u001b[36mx\u001b[39m is an object reference, all\n",
       "  elements will refer to the same object. \u001b[36mfill!(A, Foo())\u001b[39m will return\n",
       "  \u001b[36mA\u001b[39m filled with the result of evaluating \u001b[36mFoo()\u001b[39m once.\n",
       "\n",
       "\u001b[1m  Examples\u001b[22m\n",
       "\u001b[1m  ≡≡≡≡≡≡≡≡≡≡\u001b[22m\n",
       "\n",
       "\u001b[36m  julia> A = zeros(2,3)\u001b[39m\n",
       "\u001b[36m  2×3 Array{Float64,2}:\u001b[39m\n",
       "\u001b[36m   0.0  0.0  0.0\u001b[39m\n",
       "\u001b[36m   0.0  0.0  0.0\u001b[39m\n",
       "\u001b[36m  \u001b[39m\n",
       "\u001b[36m  julia> fill!(A, 2.)\u001b[39m\n",
       "\u001b[36m  2×3 Array{Float64,2}:\u001b[39m\n",
       "\u001b[36m   2.0  2.0  2.0\u001b[39m\n",
       "\u001b[36m   2.0  2.0  2.0\u001b[39m\n",
       "\u001b[36m  \u001b[39m\n",
       "\u001b[36m  julia> a = [1, 1, 1]; A = fill!(Vector{Vector{Int}}(undef, 3), a); a[1] = 2; A\u001b[39m\n",
       "\u001b[36m  3-element Array{Array{Int64,1},1}:\u001b[39m\n",
       "\u001b[36m   [2, 1, 1]\u001b[39m\n",
       "\u001b[36m   [2, 1, 1]\u001b[39m\n",
       "\u001b[36m   [2, 1, 1]\u001b[39m\n",
       "\u001b[36m  \u001b[39m\n",
       "\u001b[36m  julia> x = 0; f() = (global x += 1; x); fill!(Vector{Int}(undef, 3), f())\u001b[39m\n",
       "\u001b[36m  3-element Array{Int64,1}:\u001b[39m\n",
       "\u001b[36m   1\u001b[39m\n",
       "\u001b[36m   1\u001b[39m\n",
       "\u001b[36m   1\u001b[39m\n",
       "\n",
       "\u001b[36m  fill!(cb, data)\u001b[39m\n",
       "\n",
       "  Grows the buffer up-to capacity, and fills it entirely. It doesn't\n",
       "  overwrite existing elements."
      ]
     },
     "execution_count": 87,
     "metadata": {},
     "output_type": "execute_result"
    }
   ],
   "source": [
    "@doc fill!"
   ]
  },
  {
   "cell_type": "code",
   "execution_count": 32,
   "metadata": {},
   "outputs": [],
   "source": [
    "struct Biaff; mlphead; mlpdep; w; b; end;\n",
    "#Biaff(mlph::MLP, mlpd::MLP, input::Int, output::Int)=Biaff(mlph, mlpd , param(output,input), param0(output))\n",
    "Biaff(rhid::Int, mlph::Int, m::Int, input::Int, output::Int) =\n",
    "    Biaff(MLP(rhid,mlph, m) , MLP(rhid,mlph, m) , param(m,m), param0(m))\n",
    "Biaff(rhid::Int, mlph::Int, m::Int) =\n",
    "    Biaff(MLP(rhid,mlph, m) , MLP(rhid,mlph, m) , param(m,m), param0(m))\n",
    "\n",
    "(bi::Biaff)(x) = begin\n",
    "    #xp = permutedims(x, [3, 1, 2])\n",
    "    hidsize = size(x)[1]\n",
    "    T = size(x)[ndims(x)]\n",
    "    #x = reshape(x, hidsize, T)\n",
    "    archead = bi.mlphead(x)\n",
    "    arcdep = bi.mlpdep(x[:,:,2:end])\n",
    "    archeadp = permutedims(reshape(archead, size(archead,1), size(x,2), size(x,3)), [3, 1, 2])\n",
    "    arcdepp = permutedims(reshape(arcdep, size(arcdep,1), size(x,2), size(x,3)-1), [1, 3, 2])\n",
    "    HW = batchmult(archeadp,bi.w)\n",
    "    HWH = batchmult(HW, arcdepp)\n",
    "    Hb = batchmult(archeadp,bi.b)\n",
    "    S = HWH .+ Hb    \n",
    "end"
   ]
  },
  {
   "cell_type": "code",
   "execution_count": 33,
   "metadata": {},
   "outputs": [],
   "source": [
    "struct Biaff; mlphead; mlpdep; w; b; end;\n",
    "#Biaff(mlph::MLP, mlpd::MLP, input::Int, output::Int)=Biaff(mlph, mlpd , param(output,input), param0(output))\n",
    "Biaff(rhid::Int, mlph::Int, m::Int, input::Int, output::Int) =\n",
    "    Biaff(MLP(rhid,mlph, m) , MLP(rhid,mlph, m) , param(m,m), param0(m))\n",
    "Biaff(rhid::Int, mlph::Int, m::Int) =\n",
    "    Biaff(MLP(rhid,mlph, m) , MLP(rhid,mlph, m) , param(m,m), param0(m))\n",
    "\n",
    "(bi::Biaff)(x) = begin\n",
    "    hidsize = size(x)[1]\n",
    "    T = size(x)[ndims(x)]\n",
    "    archead = bi.mlphead(x)\n",
    "    arcdep = bi.mlpdep(x[:,:,2:end])\n",
    "    Knet.@timeit timo \"perdim1\" archeadp = permutedims(reshape(archead, size(archead,1), size(x,2), size(x,3)), [3, 1, 2])\n",
    "    Knet.@timeit timo \"perdim2\" arcdepp = permutedims(reshape(arcdep, size(arcdep,1), size(x,2), size(x,3)-1), [1, 3, 2])\n",
    "    Knet.@timeit timo \"batchmult1\" HW = batchmult(archeadp,bi.w)\n",
    "    Knet.@timeit timo \"batchmult2\" HWH = batchmult(HW, arcdepp)\n",
    "    Knet.@timeit timo \"batchmult3\" Hb = batchmult(archeadp,bi.b)\n",
    "    S = HWH .+ Hb    \n",
    "end"
   ]
  },
  {
   "cell_type": "code",
   "execution_count": 65,
   "metadata": {},
   "outputs": [],
   "source": [
    "struct Biaff; mlphead; mlpdep; w; b; end;\n",
    "#Biaff(mlph::MLP, mlpd::MLP, input::Int, output::Int)=Biaff(mlph, mlpd , param(output,input), param0(output))\n",
    "Biaff(rhid::Int, mlph::Int, m::Int, input::Int, output::Int) =\n",
    "    Biaff(MLP(rhid,mlph, m) , MLP(rhid,mlph, m) , param(m,m), param0(m))\n",
    "Biaff(rhid::Int, mlph::Int, m::Int) =\n",
    "    Biaff(MLP(rhid,mlph, m) , MLP(rhid,mlph, m) , param(m,m), param0(m))\n",
    "\n",
    "(bi::Biaff)(x) = begin\n",
    "    tts = size(x,3)\n",
    "    bbs = size(x,2)\n",
    "    Knet.@timeit timo \"mlphead\" archead = bi.mlphead(x)\n",
    "    Knet.@timeit timo \"mlpdep\" arcdep = bi.mlpdep(x[:,:,2:end])\n",
    "    hms = size(archead,1)\n",
    "    Knet.@timeit timo \"perdim1\" archeadp = permutedims(reshape(archead, hms, bbs, tts), [3, 1, 2])\n",
    "    Knet.@timeit timo \"perdim2\" archeadpp = permutedims(reshape(archead, hms, bbs, tts), [3, 2, 1])\n",
    "    archeadppr = reshape(archeadpp, bbs*tts, hms)\n",
    "    Knet.@timeit timo \"WH\" WH = bi.w * arcdep\n",
    "    Knet.@timeit timo \"perdim3\" WHp = permutedims(reshape(WH, size(WH,1), bbs, tts-1), [1,3,2])\n",
    "    Knet.@timeit timo \"HWH(bmm)\" HWH = Knet.bmm(archeadp, WHp)\n",
    "    Hb = archeadppr * bi.b \n",
    "    Hbr = reshape(Hb, tts, 1 , bbs)\n",
    "    S = HWH .+ Hbr\n",
    "end"
   ]
  },
  {
   "cell_type": "code",
   "execution_count": 97,
   "metadata": {},
   "outputs": [],
   "source": [
    "struct Biaff; mlphead; mlpdep; w; b; end;\n",
    "#Biaff(mlph::MLP, mlpd::MLP, input::Int, output::Int)=Biaff(mlph, mlpd , param(output,input), param0(output))\n",
    "Biaff(rhid::Int, mlph::Int, m::Int, input::Int, output::Int) =\n",
    "    Biaff(MLP(rhid,mlph, m) , MLP(rhid,mlph, m) , param(m,m), param0(m))\n",
    "Biaff(rhid::Int, mlph::Int, m::Int) =\n",
    "    Biaff(MLP(rhid,mlph, m) , MLP(rhid,mlph, m) , param(m,m), param0(m))\n",
    "\n",
    "(bi::Biaff)(x) = begin\n",
    "    tts = size(x,3)\n",
    "    bbs = size(x,2)\n",
    "    Knet.@timeit timo \"mlphead\" archead = bi.mlphead(x)\n",
    "    Knet.@timeit timo \"mlpdep\" arcdep = bi.mlpdep(x[:,:,2:end])\n",
    "    hms = size(archead,1)\n",
    "    Knet.@timeit timo \"perdim1\" archeadp = permutedims(reshape(archead, hms, bbs, tts), [3, 1, 2])\n",
    "    Knet.@timeit timo \"perdim2\" archeadpp = permutedims(reshape(archead, hms, bbs, tts), [3, 2, 1])\n",
    "    archeadppr = reshape(archeadpp, bbs*tts, hms)\n",
    "    Knet.@timeit timo \"WH\" WH = bi.w * arcdep\n",
    "    Knet.@timeit timo \"perdim3\" WHp = permutedims(reshape(WH, size(WH,1), bbs, tts-1), [1,3,2])\n",
    "    Knet.@timeit timo \"HWH(batchmult_new)\" HWH = batchmult_new(archeadp, WHp)\n",
    "    Hb = archeadppr * bi.b \n",
    "    Hbr = reshape(Hb, tts, 1 , bbs)\n",
    "    S = HWH .+ Hbr\n",
    "end"
   ]
  },
  {
   "cell_type": "code",
   "execution_count": 35,
   "metadata": {},
   "outputs": [],
   "source": [
    "struct Biaff; mlphead; mlpdep; w; b; end;\n",
    "#Biaff(mlph::MLP, mlpd::MLP, input::Int, output::Int)=Biaff(mlph, mlpd , param(output,input), param0(output))\n",
    "Biaff(rhid::Int, mlph::Int, m::Int, input::Int, output::Int) =\n",
    "    Biaff(MLP(rhid,mlph, m) , MLP(rhid,mlph, m) , param(m,m), param0(m))\n",
    "Biaff(rhid::Int, mlph::Int, m::Int) =\n",
    "    Biaff(MLP(rhid,mlph, m) , MLP(rhid,mlph, m) , param(m,m), param0(m))\n",
    "\n",
    "(bi::Biaff)(x) = begin\n",
    "    tts = size(x,3)\n",
    "    S = KnetArray{Float32,2}(zeros(tts,tts-1))\n",
    "end"
   ]
  },
  {
   "cell_type": "code",
   "execution_count": 36,
   "metadata": {},
   "outputs": [],
   "source": [
    "struct Biaff; mlphead; mlpdep; w; b; end;\n",
    "#Biaff(mlph::MLP, mlpd::MLP, input::Int, output::Int)=Biaff(mlph, mlpd , param(output,input), param0(output))\n",
    "Biaff(rhid::Int, mlph::Int, m::Int, input::Int, output::Int) =\n",
    "    Biaff(MLP(rhid,mlph, m) , MLP(rhid,mlph, m) , param(m,m), param0(m))\n",
    "Biaff(rhid::Int, mlph::Int, m::Int) =\n",
    "    Biaff(MLP(rhid,mlph, m) , MLP(rhid,mlph, m) , param(m,m), param0(m))\n",
    "\n",
    "(bi::Biaff)(x) = begin\n",
    "    #xp = permutedims(x, [3, 1, 2])\n",
    "    hidsize = size(x)[1]\n",
    "    T = size(x)[ndims(x)]\n",
    "    #x = reshape(x, hidsize, T)\n",
    "    archead = bi.mlphead(x)\n",
    "    arcdep = bi.mlpdep(x[:,:,2:end])\n",
    "    archeadp = reshape(archead,size(x,3), size(archead,1), size(x,2))\n",
    "    arcdepp = reshape(arcdep, size(arcdep,1), size(x,3)-1, size(x,2))\n",
    "    HW = batchmult(archeadp,bi.w)\n",
    "    HWH = batchmult(HW, arcdepp)\n",
    "    Hb = batchmult(archeadp,bi.b)\n",
    "    S = HWH .+ Hb    \n",
    "end"
   ]
  },
  {
   "cell_type": "code",
   "execution_count": 37,
   "metadata": {
    "scrolled": true
   },
   "outputs": [
    {
     "data": {
      "text/plain": [
       "3×9 KnetArray{Float32,2}:\n",
       " 1.0  4.0  7.0  10.0  13.0  16.0  19.0  22.0  25.0\n",
       " 2.0  5.0  8.0  11.0  14.0  17.0  20.0  23.0  26.0\n",
       " 3.0  6.0  9.0  12.0  15.0  18.0  21.0  24.0  27.0"
      ]
     },
     "execution_count": 37,
     "metadata": {},
     "output_type": "execute_result"
    }
   ],
   "source": [
    "A = KnetArray{Float32}(reshape(1:27, 3,9))"
   ]
  },
  {
   "cell_type": "code",
   "execution_count": 38,
   "metadata": {
    "scrolled": true
   },
   "outputs": [
    {
     "data": {
      "text/plain": [
       "3×3×3 KnetArray{Float32,3}:\n",
       "[:, :, 1] =\n",
       " 1.0  4.0  7.0\n",
       " 2.0  5.0  8.0\n",
       " 3.0  6.0  9.0\n",
       "\n",
       "[:, :, 2] =\n",
       " 10.0  13.0  16.0\n",
       " 11.0  14.0  17.0\n",
       " 12.0  15.0  18.0\n",
       "\n",
       "[:, :, 3] =\n",
       " 19.0  22.0  25.0\n",
       " 20.0  23.0  26.0\n",
       " 21.0  24.0  27.0"
      ]
     },
     "execution_count": 38,
     "metadata": {},
     "output_type": "execute_result"
    }
   ],
   "source": [
    "reshape(A, 3,3,3)"
   ]
  },
  {
   "cell_type": "code",
   "execution_count": 39,
   "metadata": {},
   "outputs": [
    {
     "ename": "MethodError",
     "evalue": "MethodError: no method matching mul!(::KnetArray{Float32,2}, ::SubArray{Float32,2,KnetArray{Float32,2},Tuple{Base.Slice{Base.OneTo{Int64}},UnitRange{Int64}},true}, ::SubArray{Float32,2,KnetArray{Float32,2},Tuple{Base.Slice{Base.OneTo{Int64}},UnitRange{Int64}},true})\nClosest candidates are:\n  mul!(!Matched::AbstractArray{T,2} where T, ::Union{AbstractArray{T,1}, AbstractArray{T,2}} where T, ::Union{AbstractArray{T,1}, AbstractArray{T,2}} where T) at /buildworker/worker/package_linux64/build/usr/share/julia/stdlib/v1.1/LinearAlgebra/src/matmul.jl:175\n  mul!(!Matched::AbstractArray, !Matched::Number, ::AbstractArray) at /buildworker/worker/package_linux64/build/usr/share/julia/stdlib/v1.1/LinearAlgebra/src/generic.jl:26\n  mul!(!Matched::AbstractArray, ::AbstractArray, !Matched::Number) at /buildworker/worker/package_linux64/build/usr/share/julia/stdlib/v1.1/LinearAlgebra/src/generic.jl:27\n  ...",
     "output_type": "error",
     "traceback": [
      "MethodError: no method matching mul!(::KnetArray{Float32,2}, ::SubArray{Float32,2,KnetArray{Float32,2},Tuple{Base.Slice{Base.OneTo{Int64}},UnitRange{Int64}},true}, ::SubArray{Float32,2,KnetArray{Float32,2},Tuple{Base.Slice{Base.OneTo{Int64}},UnitRange{Int64}},true})\nClosest candidates are:\n  mul!(!Matched::AbstractArray{T,2} where T, ::Union{AbstractArray{T,1}, AbstractArray{T,2}} where T, ::Union{AbstractArray{T,1}, AbstractArray{T,2}} where T) at /buildworker/worker/package_linux64/build/usr/share/julia/stdlib/v1.1/LinearAlgebra/src/matmul.jl:175\n  mul!(!Matched::AbstractArray, !Matched::Number, ::AbstractArray) at /buildworker/worker/package_linux64/build/usr/share/julia/stdlib/v1.1/LinearAlgebra/src/generic.jl:26\n  mul!(!Matched::AbstractArray, ::AbstractArray, !Matched::Number) at /buildworker/worker/package_linux64/build/usr/share/julia/stdlib/v1.1/LinearAlgebra/src/generic.jl:27\n  ...",
      "",
      "Stacktrace:",
      " [1] *(::SubArray{Float32,2,KnetArray{Float32,2},Tuple{Base.Slice{Base.OneTo{Int64}},UnitRange{Int64}},true}, ::SubArray{Float32,2,KnetArray{Float32,2},Tuple{Base.Slice{Base.OneTo{Int64}},UnitRange{Int64}},true}) at /buildworker/worker/package_linux64/build/usr/share/julia/stdlib/v1.1/LinearAlgebra/src/matmul.jl:142",
      " [2] top-level scope at In[39]:1"
     ]
    }
   ],
   "source": [
    "view(A,:,1:3) * view(A,:,3:6)"
   ]
  },
  {
   "cell_type": "code",
   "execution_count": 40,
   "metadata": {},
   "outputs": [
    {
     "data": {
      "text/plain": [
       "3×3 view(::KnetArray{Float32,2}, :, 1:3) with eltype Float32:\n",
       " 1.0  4.0  7.0\n",
       " 2.0  5.0  8.0\n",
       " 3.0  6.0  9.0"
      ]
     },
     "execution_count": 40,
     "metadata": {},
     "output_type": "execute_result"
    }
   ],
   "source": [
    "view(A,:,1:3)"
   ]
  },
  {
   "cell_type": "code",
   "execution_count": 41,
   "metadata": {},
   "outputs": [
    {
     "ename": "UndefVarError",
     "evalue": "UndefVarError: reshapeview not defined",
     "output_type": "error",
     "traceback": [
      "UndefVarError: reshapeview not defined",
      "",
      "Stacktrace:",
      " [1] top-level scope at In[41]:1"
     ]
    }
   ],
   "source": [
    "reshapeview(A, :,1,:) * view(A,:,1,:)"
   ]
  },
  {
   "cell_type": "code",
   "execution_count": 42,
   "metadata": {},
   "outputs": [
    {
     "data": {
      "text/plain": [
       "3×3×3 Array{Float32,3}:\n",
       "[:, :, 1] =\n",
       " 1.0  4.0  7.0\n",
       " 2.0  5.0  8.0\n",
       " 3.0  6.0  9.0\n",
       "\n",
       "[:, :, 2] =\n",
       " 10.0  13.0  16.0\n",
       " 11.0  14.0  17.0\n",
       " 12.0  15.0  18.0\n",
       "\n",
       "[:, :, 3] =\n",
       " 19.0  22.0  25.0\n",
       " 20.0  23.0  26.0\n",
       " 21.0  24.0  27.0"
      ]
     },
     "execution_count": 42,
     "metadata": {},
     "output_type": "execute_result"
    }
   ],
   "source": [
    "B = Array{Float32,3}(reshape(1:27, 3,3,3))"
   ]
  },
  {
   "cell_type": "code",
   "execution_count": 43,
   "metadata": {},
   "outputs": [
    {
     "data": {
      "text/plain": [
       "3×3 Array{Float32,2}:\n",
       " 168.0  438.0  708.0\n",
       " 183.0  480.0  777.0\n",
       " 198.0  522.0  846.0"
      ]
     },
     "execution_count": 43,
     "metadata": {},
     "output_type": "execute_result"
    }
   ],
   "source": [
    "view(B, :,1,:) * view(B, :,2,:)"
   ]
  },
  {
   "cell_type": "code",
   "execution_count": 44,
   "metadata": {
    "scrolled": true
   },
   "outputs": [
    {
     "data": {
      "text/plain": [
       "3×9 KnetArray{Float32,2}:\n",
       " 1.0  4.0  7.0  10.0  13.0  16.0  19.0  22.0  25.0\n",
       " 2.0  5.0  8.0  11.0  14.0  17.0  20.0  23.0  26.0\n",
       " 3.0  6.0  9.0  12.0  15.0  18.0  21.0  24.0  27.0"
      ]
     },
     "execution_count": 44,
     "metadata": {},
     "output_type": "execute_result"
    }
   ],
   "source": [
    "A"
   ]
  },
  {
   "cell_type": "code",
   "execution_count": 45,
   "metadata": {},
   "outputs": [
    {
     "ename": "DimensionMismatch",
     "evalue": "DimensionMismatch(\"\")",
     "output_type": "error",
     "traceback": [
      "DimensionMismatch(\"\")",
      "",
      "Stacktrace:",
      " [1] reshape at /home/ec2-user/.julia/packages/Knet/05UDD/src/karray.jl:169 [inlined]",
      " [2] reshape(::KnetArray{Float32,2}, ::Int64) at /home/ec2-user/.julia/packages/Knet/05UDD/src/karray.jl:175",
      " [3] top-level scope at In[45]:1"
     ]
    }
   ],
   "source": [
    "reshape(A,25)[1] = 3.3"
   ]
  },
  {
   "cell_type": "code",
   "execution_count": 46,
   "metadata": {},
   "outputs": [
    {
     "data": {
      "text/plain": [
       "3.5"
      ]
     },
     "execution_count": 46,
     "metadata": {},
     "output_type": "execute_result"
    }
   ],
   "source": [
    "reshape(view(A, 1:5:5, 1),1,1)[1,1] = 3.5"
   ]
  },
  {
   "cell_type": "code",
   "execution_count": 47,
   "metadata": {},
   "outputs": [
    {
     "data": {
      "text/plain": [
       "4.3"
      ]
     },
     "execution_count": 47,
     "metadata": {},
     "output_type": "execute_result"
    }
   ],
   "source": [
    "view(A, 1:5:5, 1)[1] = 4.3"
   ]
  },
  {
   "cell_type": "code",
   "execution_count": 48,
   "metadata": {},
   "outputs": [
    {
     "data": {
      "text/plain": [
       "fModel (generic function with 1 method)"
      ]
     },
     "execution_count": 48,
     "metadata": {},
     "output_type": "execute_result"
    }
   ],
   "source": [
    "fModel(tembed::Int, rnnh::Int, mlp1h::Int, mlp1o::Int; o...) = \n",
    "    Chain(RNN(tembed, rnnh; bidirectional=true, rnnType = :lstm,o...), Biaff(2*rnnh,mlp1h,mlp1o))"
   ]
  },
  {
   "cell_type": "code",
   "execution_count": 49,
   "metadata": {
    "scrolled": true
   },
   "outputs": [
    {
     "data": {
      "text/plain": [
       "fModel2 (generic function with 1 method)"
      ]
     },
     "execution_count": 49,
     "metadata": {},
     "output_type": "execute_result"
    }
   ],
   "source": [
    "fModel2(wmat, tembed::Int, rnnh::Int, mlp1h::Int, mlp1o::Int; o...) = \n",
    "    Chain(Embed(wmat, EmbMatT()), RNN(tembed, rnnh; bidirectional=true, rnnType = :lstm,o...), Biaff(2*rnnh,mlp1h,mlp1o))"
   ]
  },
  {
   "cell_type": "code",
   "execution_count": 75,
   "metadata": {},
   "outputs": [
    {
     "data": {
      "text/plain": [
       "fModel3 (generic function with 1 method)"
      ]
     },
     "execution_count": 75,
     "metadata": {},
     "output_type": "execute_result"
    }
   ],
   "source": [
    "fModel3(wmat, tembed::Int, rnnh::Int, mlp1h::Int, mlp1o::Int; o...) = \n",
    "    Chain(Embed(wmat, KnetArray, EmbMatPar()), RNN(tembed, rnnh; bidirectional=true, rnnType = :lstm,o...), Biaff(2*rnnh,mlp1h,mlp1o))"
   ]
  },
  {
   "cell_type": "code",
   "execution_count": 63,
   "metadata": {},
   "outputs": [
    {
     "data": {
      "text/plain": [
       "470-element Array{Any,1}:\n",
       " ([399999 42 … 9403 3; 399999 42 … 1813 3; … ; 399999 87 … 6902 3; 399999 21 … 364 3], [3 3 … 4 3; 1 1 … 4 1; … ; 6 3 … 6 3; 3 3 … 4 3])                \n",
       " ([399999 400000 400000 3346; 399999 617 447 46; … ; 399999 118722 400000 46; 399999 3833 3361 3], [1 3 … 1 3; 4 1 … 2 1; 2 3 … 2 3])                   \n",
       " ([399999 42 … 14348 3; 399999 42 … 672 3; … ; 399999 42 … 4003 3; 399999 64 … 2047 3], [4 5 … 3 3; 4 5 … 1 1; … ; 9 5 … 5 8; 4 5 … 3 3])               \n",
       " ([399999 35 … 1010 806; 399999 68 … 1486 3; … ; 399999 78 … 117 3; 399999 37896 … 9115 400000], [4 5 … 4 3; 4 5 … 4 7; … ; 8 5 … 1 5; 4 5 … 10 7])     \n",
       " ([399999 109 … 719 3; 399999 133 … 7957 3; … ; 399999 54 … 219 806; 399999 193 … 529 3], [5 6 … 5 3; 5 6 … 5 5; … ; 39 36 … 37 38; 22 6 … 5 5])        \n",
       " ([399999 568 14687; 399999 18853 4677; … ; 399999 993 1222; 399999 10391 5190], [3 3 … 3 3; 1 1 … 1 1])                                                \n",
       " ([399999 30 … 3 9; 399999 64 … 5536 3; … ; 399999 1887 … 18815 3; 399999 423 … 2779 3], [3 3 … 1 1; 16 1 … 2 2; … ; 16 14 … 16 16; 16 3 … 2 2])        \n",
       " ([399999 33 … 13723 189; 399999 924 … 535 3; … ; 399999 42 … 21 3; 399999 1787 … 26 2397], [4 7 … 5 3; 4 4 … 5 5; … ; 5 1 … 5 8; 4 7 … 5 5])           \n",
       " ([399999 54 … 4059 806; 399999 45 … 2616 806; … ; 399999 42 … 138 806; 399999 4354 … 400000 3], [3 4 … 3 1; 1 4 … 1 4; … ; 3 1 … 3 4; 3 6 … 3 2])      \n",
       " ([399999 35 … 115 3; 399999 47 … 35249 3; … ; 399999 42 … 414 3; 399999 103 … 1323 189], [4 8 … 4 1; 4 6 … 4 2; … ; 4 6 … 4 6; 4 6 … 4 2])             \n",
       " ([399999 9482; 399999 173160; … ; 399999 10960; 399999 10960], [1 1 … 1 1])                                                                            \n",
       " ([399999 340 … 1039 3; 399999 13118 … 2768 189; … ; 399999 47 … 2608 189; 399999 193 … 3448 400000], [1 1 … 5 3; 2 4 … 5 5; … ; 2 2 … 1 1; 2 2 … 5 5]) \n",
       " ([399999 42 … 6776 3; 399999 42 … 89 3; … ; 399999 41 … 400000 3; 399999 1 … 2498 3], [4 5 … 1 3; 4 5 … 4 6; … ; 4 12 … 12 13; 4 5 … 2 6])             \n",
       " ⋮                                                                                                                                                      \n",
       " ([399999 14645 710; 399999 400000 16272; … ; 399999 9025 189; 399999 5793 1535], [1 3 … 1 1; 2 1 … 2 2])                                               \n",
       " ([399999 3125 2; 399999 3897 2; … ; 399999 3125 2; 399999 9482 2], [1 1 … 1 1; 2 2 … 2 2])                                                             \n",
       " ([399999 84 … 1545 3; 399999 42 … 454 3; … ; 399999 84 … 7732 189; 399999 84 … 1016 3], [5 4 … 3 6; 5 4 … 8 6; … ; 30 32 … 8 32; 10 4 … 8 16])         \n",
       " ([399999 188 … 13020 46; 399999 13 … 1822 3; … ; 399999 21 … 64 3; 399999 1131 … 144 3], [1 5 … 4 3; 2 5 … 4 1; … ; 2 1 … 4 3; 2 5 … 4 3])             \n",
       " ([399999 1 … 3262 3; 399999 54 … 1696 3; … ; 399999 1904 … 57 3; 399999 38 … 3753 3], [3 3 … 3 8; 10 1 … 4 4; … ; 27 27 … 20 27; 10 3 … 5 13])         \n",
       " ([399999 11 … 46 400000; 399999 35 … 27814 64030; … ; 399999 21 … 1434 3; 399999 54 … 5621 3], [4 16 … 3 3; 4 7 … 1 1; … ; 16 16 … 15 3; 16 7 … 3 3])  \n",
       " ([399999 40 … 1477 3; 399999 133 … 2325 3; … ; 399999 198 … 3300 189; 399999 101 … 12 400000], [4 12 … 5 5; 4 4 … 5 4; … ; 15 15 … 13 19; 4 12 … 5 15])\n",
       " ([399999 42 … 7410 806; 399999 163 … 100682 806; … ; 399999 15 … 7 189; 399999 3833 … 1097 1727], [3 3 … 6 3; 1 9 … 6 1; … ; 5 1 … 8 8; 3 9 … 6 9])    \n",
       " ([399999 10405 … 414 3; 399999 23 … 436 3; … ; 399999 1325 … 1476 3; 399999 1 … 12990 3], [4 4 … 3 4; 4 4 … 23 4; … ; 29 28 … 29 27; 4 14 … 23 7])     \n",
       " ([399999 3415 … 25 3; 399999 1 … 400000 3; … ; 399999 7 … 11167 3; 399999 23 … 215 3], [6 4 … 3 4; 5 4 … 21 4; … ; 21 28 … 29 28; 6 5 … 21 11])        \n",
       " ([399999 11 881 46; 399999 220 5557 806; … ; 399999 220 5557 806; 399999 163 4319 400000], [3 3 … 3 3; 1 1 … 1 1; 3 3 … 3 3])                          \n",
       " ([399999 3543 … 53031 3; 399999 64 … 1881 3; … ; 399999 1 … 179 3; 399999 121 … 309 3], [26 3 … 5 3; 26 1 … 5 1; … ; 30 38 … 36 38; 26 3 … 8 3])       "
      ]
     },
     "execution_count": 63,
     "metadata": {},
     "output_type": "execute_result"
    }
   ],
   "source": [
    "datmb2sh = Knet.shuffle(datmb2)"
   ]
  },
  {
   "cell_type": "code",
   "execution_count": 98,
   "metadata": {},
   "outputs": [
    {
     "data": {
      "text/plain": [
       "100-element Array{Any,1}:\n",
       " ([399999 54 … 4642 3; 399999 3833 … 1258 3; … ; 399999 38 … 400000 3; 399999 3055 … 465 3], [4 3 … 6 1; 4 1 … 6 4; … ; 9 6 … 11 11; 4 3 … 7 2])     \n",
       " ([399999 42 … 17203 3; 399999 11 … 547 189; … ; 399999 42 … 136 3; 399999 21 … 2861 3], [5 3 … 6 7; 5 14 … 6 7; … ; 13 1 … 12 7; 5 14 … 6 7])       \n",
       " ([399999 3044 … 5084 3; 399999 765 … 5084 3; … ; 399999 1 … 61 806; 399999 38 … 255 3], [3 3 … 3 3; 1 1 … 6 5; … ; 3 3 … 6 5; 3 3 … 6 5])           \n",
       " ([399999 82 … 9579 3; 399999 84 … 64 3; … ; 399999 4863 … 238 3; 399999 21 … 2920 3], [3 5 … 23 6; 1 5 … 23 6; … ; 28 31 … 30 26; 3 25 … 23 6])     \n",
       " ([399999 37 … 80 3; 399999 54 … 5668 400000; … ; 399999 12152 … 94 3; 399999 84 … 2169 3], [1 6 … 11 4; 6 6 … 6 4; … ; 12 10 … 13 13; 2 6 … 11 9])  \n",
       " ([399999 21933 … 102 3; 399999 8 … 86 3; … ; 399999 42 … 49 3; 399999 42 … 49 3], [3 4 … 3 3; 1 4 … 1 1; … ; 17 15 … 12 12; 3 8 … 3 3])             \n",
       " ([399999 3536 … 627 806; 399999 42 … 516 3; … ; 399999 216 … 224 3; 399999 54 … 379 3], [3 3 … 3 5; 1 1 … 4 5; … ; 3 3 … 7 7; 3 3 … 4 5])           \n",
       " ([399999 40 … 1621 3; 399999 49 … 1202 3; … ; 399999 6400 … 25 3; 399999 38 … 364 3], [4 3 … 3 3; 4 6 … 1 6; … ; 23 19 … 21 18; 4 6 … 21 6])        \n",
       " ([399999 243 … 400000 3; 399999 19 … 11121 3; … ; 399999 21 … 2902 3; 399999 16 … 34340 3], [1 3 … 3 3; 2 1 … 1 1; … ; 9 9 … 8 10; 2 3 … 3 3])      \n",
       " ([399999 8 … 2312 3; 399999 1 … 144 3; … ; 399999 538 … 748 3; 399999 1 … 25 3], [4 3 … 7 4; 4 8 … 4 4; … ; 32 33 … 32 23; 4 8 … 7 8])              \n",
       " ([399999 42 … 67 3; 399999 1345 … 4346 3; … ; 399999 40 … 10765 3; 399999 12939 … 400000 806], [3 7 … 5 1; 1 2 … 5 4; … ; 6 1 … 5 2; 3 7 … 5 2])    \n",
       " ([399999 7024 … 12962 3; 399999 19 … 15881 3; … ; 399999 126 … 2604 3; 399999 24 … 18914 25], [6 3 … 5 4; 4 1 … 5 4; … ; 16 9 … 10 7; 13 3 … 5 4])  \n",
       " ([399999 42 … 309 3; 399999 53 … 6201 189; … ; 399999 6552 … 113 3; 399999 1 … 64 3], [4 6 … 18 3; 4 6 … 18 8; … ; 4 24 … 27 27; 4 6 … 18 8])       \n",
       " ⋮                                                                                                                                                   \n",
       " ([399999 7381 … 1160 3; 399999 42 … 2138 3; … ; 399999 220 … 10603 2; 399999 400000 … 3996 400000], [1 4 … 3 4; 4 4 … 1 4; 2 1 … 3 1; 2 4 … 3 4])   \n",
       " ([399999 31 … 1913 806; 399999 135 … 1696 3; … ; 399999 6 … 726 3; 399999 1 … 2485 3], [3 3 … 5 3; 1 10 … 5 10; … ; 6 1 … 7 1; 3 10 … 5 10])        \n",
       " ([399999 101 … 431 189; 399999 902 … 13 3; … ; 399999 1608 … 136 3; 399999 42 … 4252 3], [8 1 … 4 3; 8 4 … 4 1; … ; 19 19 … 18 17; 8 2 … 6 3])      \n",
       " ([399999 319 … 9263 3; 399999 14 … 164 3; … ; 399999 39724 … 4767 3; 399999 7 … 273 3], [1 3 … 3 3; 2 6 … 1 7; … ; 16 18 … 17 18; 2 6 … 3 7])       \n",
       " ([399999 42 … 250 3; 399999 193 … 102 3; … ; 399999 42 … 1545 3; 399999 7873 … 183 1908], [3 3 … 4 3; 1 5 … 4 1; … ; 3 5 … 4 8; 3 5 … 4 5])         \n",
       " ([399999 1 … 10 3; 399999 188 … 5609 46; … ; 399999 42 … 25 3; 399999 21 … 4026 3], [4 1 … 3 5; 4 2 … 1 5; … ; 16 15 … 3 16; 6 2 … 3 5])            \n",
       " ([399999 554 … 65280 3; 399999 115 … 2192 3; … ; 399999 9 … 22244 3; 399999 14 … 3329 3], [5 3 … 3 5; 5 1 … 8 5; … ; 9 8 … 8 1; 5 3 … 8 12])        \n",
       " ([399999 42 … 186 3; 399999 400000 … 400000 400000; … ; 399999 887 … 1209 3; 399999 20 … 4603 46], [3 9 … 1 3; 1 9 … 2 6; … ; 3 1 … 7 6; 3 9 … 2 6])\n",
       " ([399999 1894; 399999 100159; … ; 399999 3255; 399999 2016], [1 1 … 1 1])                                                                           \n",
       " ([399999 131 … 354 3; 399999 35 … 364 3; … ; 399999 4192 … 979 3; 399999 1072 … 7261 3], [3 6 … 6 4; 6 6 … 4 4; … ; 1 1 … 1 4; 6 6 … 2 4])          \n",
       " ([399999 666 … 9 3; 399999 419 … 2002 3; … ; 399999 2828 … 6659 3; 399999 53 … 34340 3], [1 1 … 1 3; 2 2 … 2 1; … ; 22 18 … 21 6; 2 2 … 2 3])       \n",
       " ([399999 23 … 71 3; 399999 42 … 271 3; … ; 399999 64 … 57 3; 399999 13 … 2111 3], [4 4 … 3 3; 4 4 … 1 1; … ; 18 17 … 14 13; 6 4 … 3 3])             "
      ]
     },
     "execution_count": 98,
     "metadata": {},
     "output_type": "execute_result"
    }
   ],
   "source": [
    "dtrn = datmb2sh[1:100]\n",
    "dtst = datmb2sh[101:200]"
   ]
  },
  {
   "cell_type": "code",
   "execution_count": 51,
   "metadata": {},
   "outputs": [
    {
     "data": {
      "text/plain": [
       "trainresults (generic function with 1 method)"
      ]
     },
     "execution_count": 51,
     "metadata": {},
     "output_type": "execute_result"
    }
   ],
   "source": [
    "# For running experiments\n",
    "function trainresults(file,model; o...)\n",
    "    if (print(\"Train from scratch? \"); readline()[1]=='y')\n",
    "        takeevery(n,itr) = (x for (i,x) in enumerate(itr) if i % n == 1)\n",
    "        r = ((model(dtrn,MyData1()), model(dtst,MyData1()), zeroone(model,dtrn), zeroone(model,dtst))\n",
    "             for x in takeevery(length(dtrn), progress(adam(model,repeat(dtrn,30)))))\n",
    "        r = reshape(collect(Float32,flatten(r)),(4,:))\n",
    "        Knet.save(file,\"results\",r)\n",
    "        Knet.gc() # To save gpu memory\n",
    "    else\n",
    "        isfile(file) || download(\"http://people.csail.mit.edu/deniz/models/tutorial/$file\",file)\n",
    "        r = Knet.load(file,\"results\")\n",
    "    end\n",
    "    println(minimum(r,dims=2))\n",
    "    return r\n",
    "end"
   ]
  },
  {
   "cell_type": "code",
   "execution_count": null,
   "metadata": {},
   "outputs": [],
   "source": [
    "Knet.reset_timer!(timo)"
   ]
  },
  {
   "cell_type": "code",
   "execution_count": 101,
   "metadata": {
    "scrolled": true
   },
   "outputs": [
    {
     "name": "stdout",
     "output_type": "stream",
     "text": [
      "Train from scratch? stdin> y\n",
      "\n",
      "Stacktrace:\n",
      " [1] \u001b[1msetindex2!\u001b[22m\u001b[1m(\u001b[22m::KnetArray{Float32,2}, ::AutoGrad.Result{KnetArray{Float32,2}}, ::Colon, ::Int64\u001b[1m)\u001b[22m at \u001b[1m/home/ec2-user/.julia/packages/Knet/05UDD/src/karray.jl:1047\u001b[22m\n",
      " [2] \u001b[1msetindex!\u001b[22m\u001b[1m(\u001b[22m::KnetArray{Float32,2}, ::AutoGrad.Result{KnetArray{Float32,2}}, ::Colon, ::Int64\u001b[1m)\u001b[22m at \u001b[1m/home/ec2-user/.julia/packages/Knet/05UDD/src/karray.jl:989\u001b[22m\n",
      " [3] \u001b[1msetindex!\u001b[22m\u001b[1m(\u001b[22m::KnetArray{Float32,3}, ::AutoGrad.Result{KnetArray{Float32,2}}, ::Colon, ::Colon, ::Int64\u001b[1m)\u001b[22m at \u001b[1m/home/ec2-user/.julia/packages/Knet/05UDD/src/karray.jl:1234\u001b[22m\n",
      " [4] \u001b[1mbatchmult_new\u001b[22m\u001b[1m(\u001b[22m::AutoGrad.Result{KnetArray{Float32,3}}, ::AutoGrad.Result{KnetArray{Float32,3}}\u001b[1m)\u001b[22m at \u001b[1m./In[94]:4\u001b[22m\n",
      " [5] \u001b[1m(::Biaff)\u001b[22m\u001b[1m(\u001b[22m::AutoGrad.Result{KnetArray{Float32,3}}\u001b[1m)\u001b[22m at \u001b[1m/home/ec2-user/.julia/packages/TimerOutputs/7zSea/src/TimerOutput.jl:216\u001b[22m\n",
      " [6] \u001b[1m(::Chain)\u001b[22m\u001b[1m(\u001b[22m::Array{Int64,2}\u001b[1m)\u001b[22m at \u001b[1m./In[28]:5\u001b[22m\n",
      " [7] \u001b[1m(::Chain)\u001b[22m\u001b[1m(\u001b[22m::Array{Int64,2}, ::Array{Int64,2}\u001b[1m)\u001b[22m at \u001b[1m./In[28]:6\u001b[22m\n",
      " [8] \u001b[1m(::getfield(Knet, Symbol(\"##664#665\")){Knet.Minimize{Array{Any,1}},Tuple{Array{Int64,2},Array{Int64,2}}})\u001b[22m\u001b[1m(\u001b[22m\u001b[1m)\u001b[22m at \u001b[1m/home/ec2-user/.julia/packages/AutoGrad/KsPMr/src/core.jl:197\u001b[22m\n",
      " [9] \u001b[1m#differentiate#3\u001b[22m\u001b[1m(\u001b[22m::Base.Iterators.Pairs{Union{},Union{},Tuple{},NamedTuple{(),Tuple{}}}, ::Function, ::Function\u001b[1m)\u001b[22m at \u001b[1m/home/ec2-user/.julia/packages/AutoGrad/KsPMr/src/core.jl:144\u001b[22m\n",
      " [10] \u001b[1mdifferentiate\u001b[22m\u001b[1m(\u001b[22m::Function\u001b[1m)\u001b[22m at \u001b[1m/home/ec2-user/.julia/packages/AutoGrad/KsPMr/src/core.jl:135\u001b[22m\n",
      " [11] \u001b[1miterate\u001b[22m at \u001b[1m/home/ec2-user/.julia/packages/Knet/05UDD/src/train.jl:24\u001b[22m [inlined]\n",
      " [12] \u001b[1miterate\u001b[22m at \u001b[1m/home/ec2-user/.julia/packages/Knet/05UDD/src/progress.jl:63\u001b[22m [inlined]\n",
      " [13] \u001b[1miterate\u001b[22m at \u001b[1m./iterators.jl:139\u001b[22m [inlined]\n",
      " [14] \u001b[1miterate\u001b[22m at \u001b[1m./iterators.jl:138\u001b[22m [inlined]\n",
      " [15] \u001b[1miterate\u001b[22m\u001b[1m(\u001b[22m::Base.Iterators.Filter{getfield(Main, Symbol(\"##42#46\")){Int64},Base.Iterators.Enumerate{Knet.Progress{Knet.Minimize{Array{Any,1}}}}}\u001b[1m)\u001b[22m at \u001b[1m./iterators.jl:427\u001b[22m\n",
      " [16] \u001b[1miterate\u001b[22m at \u001b[1m./generator.jl:44\u001b[22m [inlined] (repeats 2 times)\n",
      " [17] \u001b[1miterate\u001b[22m at \u001b[1m./iterators.jl:902\u001b[22m [inlined]\n",
      " [18] \u001b[1miterate\u001b[22m at \u001b[1m./iterators.jl:898\u001b[22m [inlined]\n",
      " [19] \u001b[1m_collect\u001b[22m\u001b[1m(\u001b[22m::Type{Float32}, ::Base.Iterators.Flatten{Base.Generator{Base.Generator{Base.Iterators.Filter{getfield(Main, Symbol(\"##42#46\")){Int64},Base.Iterators.Enumerate{Knet.Progress{Knet.Minimize{Array{Any,1}}}}},getfield(Main, Symbol(\"##41#45\"))},getfield(Main, Symbol(\"##43#47\")){Chain}}}, ::Base.SizeUnknown\u001b[1m)\u001b[22m at \u001b[1m./array.jl:509\u001b[22m\n",
      " [20] \u001b[1mcollect\u001b[22m\u001b[1m(\u001b[22m::Type{Float32}, ::Base.Iterators.Flatten{Base.Generator{Base.Generator{Base.Iterators.Filter{getfield(Main, Symbol(\"##42#46\")){Int64},Base.Iterators.Enumerate{Knet.Progress{Knet.Minimize{Array{Any,1}}}}},getfield(Main, Symbol(\"##41#45\"))},getfield(Main, Symbol(\"##43#47\")){Chain}}}\u001b[1m)\u001b[22m at \u001b[1m./array.jl:503\u001b[22m\n",
      " [21] \u001b[1m#trainresults#40\u001b[22m\u001b[1m(\u001b[22m::Base.Iterators.Pairs{Union{},Union{},Tuple{},NamedTuple{(),Tuple{}}}, ::Function, ::String, ::Chain\u001b[1m)\u001b[22m at \u001b[1m./In[51]:7\u001b[22m\n",
      " [22] \u001b[1mtrainresults\u001b[22m\u001b[1m(\u001b[22m::String, ::Chain\u001b[1m)\u001b[22m at \u001b[1m./In[51]:3\u001b[22m\n",
      " [23] top-level scope at \u001b[1mIn[101]:1\u001b[22m\n",
      " [24] \u001b[1meval\u001b[22m at \u001b[1m./boot.jl:328\u001b[22m [inlined]\n",
      " [25] \u001b[1msoftscope_include_string\u001b[22m\u001b[1m(\u001b[22m::Module, ::String, ::String\u001b[1m)\u001b[22m at \u001b[1m/home/ec2-user/.julia/packages/SoftGlobalScope/dLfaZ/src/SoftGlobalScope.jl:218\u001b[22m\n",
      " [26] \u001b[1mexecute_request\u001b[22m\u001b[1m(\u001b[22m::ZMQ.Socket, ::IJulia.Msg\u001b[1m)\u001b[22m at \u001b[1m/home/ec2-user/.julia/packages/IJulia/4UizY/src/execute_request.jl:67\u001b[22m\n",
      " [27] \u001b[1m#invokelatest#1\u001b[22m at \u001b[1m./essentials.jl:742\u001b[22m [inlined]\n",
      " [28] \u001b[1minvokelatest\u001b[22m at \u001b[1m./essentials.jl:741\u001b[22m [inlined]\n",
      " [29] \u001b[1meventloop\u001b[22m\u001b[1m(\u001b[22m::ZMQ.Socket\u001b[1m)\u001b[22m at \u001b[1m/home/ec2-user/.julia/packages/IJulia/4UizY/src/eventloop.jl:8\u001b[22m\n",
      " [30] \u001b[1m(::getfield(IJulia, Symbol(\"##15#18\")))\u001b[22m\u001b[1m(\u001b[22m\u001b[1m)\u001b[22m at \u001b[1m./task.jl:259\u001b[22m\n"
     ]
    },
    {
     "ename": "MethodError",
     "evalue": "MethodError: Cannot `convert` an object of type AutoGrad.Result{KnetArray{Float32,2}} to an object of type KnetArray{Float32,N} where N\nClosest candidates are:\n  convert(::Type{KnetArray{T,N} where N}, !Matched::KnetArray{T,N}) where {T, N} at /home/ec2-user/.julia/packages/Knet/05UDD/src/karray.jl:142\n  convert(::Type{KnetArray{T,N} where N}, !Matched::KnetArray{S,N}) where {T, N, S} at /home/ec2-user/.julia/packages/Knet/05UDD/src/karray.jl:144\n  convert(::Type{KnetArray{T,N} where N}, !Matched::AbstractArray{S,N}) where {T, N, S} at /home/ec2-user/.julia/packages/Knet/05UDD/src/karray.jl:149\n  ...",
     "output_type": "error",
     "traceback": [
      "MethodError: Cannot `convert` an object of type AutoGrad.Result{KnetArray{Float32,2}} to an object of type KnetArray{Float32,N} where N\nClosest candidates are:\n  convert(::Type{KnetArray{T,N} where N}, !Matched::KnetArray{T,N}) where {T, N} at /home/ec2-user/.julia/packages/Knet/05UDD/src/karray.jl:142\n  convert(::Type{KnetArray{T,N} where N}, !Matched::KnetArray{S,N}) where {T, N, S} at /home/ec2-user/.julia/packages/Knet/05UDD/src/karray.jl:144\n  convert(::Type{KnetArray{T,N} where N}, !Matched::AbstractArray{S,N}) where {T, N, S} at /home/ec2-user/.julia/packages/Knet/05UDD/src/karray.jl:149\n  ...",
      "",
      "Stacktrace:",
      " [1] #differentiate#3(::Base.Iterators.Pairs{Union{},Union{},Tuple{},NamedTuple{(),Tuple{}}}, ::Function, ::Function) at /home/ec2-user/.julia/packages/AutoGrad/KsPMr/src/core.jl:148",
      " [2] differentiate(::Function) at /home/ec2-user/.julia/packages/AutoGrad/KsPMr/src/core.jl:135",
      " [3] iterate at /home/ec2-user/.julia/packages/Knet/05UDD/src/train.jl:24 [inlined]",
      " [4] iterate at /home/ec2-user/.julia/packages/Knet/05UDD/src/progress.jl:63 [inlined]",
      " [5] iterate at ./iterators.jl:139 [inlined]",
      " [6] iterate at ./iterators.jl:138 [inlined]",
      " [7] iterate(::Base.Iterators.Filter{getfield(Main, Symbol(\"##42#46\")){Int64},Base.Iterators.Enumerate{Knet.Progress{Knet.Minimize{Array{Any,1}}}}}) at ./iterators.jl:427",
      " [8] iterate at ./generator.jl:44 [inlined] (repeats 2 times)",
      " [9] iterate at ./iterators.jl:902 [inlined]",
      " [10] iterate at ./iterators.jl:898 [inlined]",
      " [11] _collect(::Type{Float32}, ::Base.Iterators.Flatten{Base.Generator{Base.Generator{Base.Iterators.Filter{getfield(Main, Symbol(\"##42#46\")){Int64},Base.Iterators.Enumerate{Knet.Progress{Knet.Minimize{Array{Any,1}}}}},getfield(Main, Symbol(\"##41#45\"))},getfield(Main, Symbol(\"##43#47\")){Chain}}}, ::Base.SizeUnknown) at ./array.jl:509",
      " [12] collect(::Type{Float32}, ::Base.Iterators.Flatten{Base.Generator{Base.Generator{Base.Iterators.Filter{getfield(Main, Symbol(\"##42#46\")){Int64},Base.Iterators.Enumerate{Knet.Progress{Knet.Minimize{Array{Any,1}}}}},getfield(Main, Symbol(\"##41#45\"))},getfield(Main, Symbol(\"##43#47\")){Chain}}}) at ./array.jl:503",
      " [13] #trainresults#40(::Base.Iterators.Pairs{Union{},Union{},Tuple{},NamedTuple{(),Tuple{}}}, ::Function, ::String, ::Chain) at ./In[51]:7",
      " [14] trainresults(::String, ::Chain) at ./In[51]:3",
      " [15] top-level scope at In[101]:1"
     ]
    }
   ],
   "source": [
    "r13 = trainresults(\"fbatchmm6t_1.jld2\",mymodel6t)"
   ]
  },
  {
   "cell_type": "code",
   "execution_count": 104,
   "metadata": {},
   "outputs": [
    {
     "data": {
      "text/latex": [
       "No documentation found.\n",
       "\n",
       "\\texttt{Knet.setindex2!} is a \\texttt{Function}.\n",
       "\n",
       "\\begin{verbatim}\n",
       "# 1 method for generic function \"setindex2!\":\n",
       "[1] setindex2!(A::KnetArray{T,2}, B, I1::Union{Colon, Real, AbstractUnitRange}, I2::Union{Colon, Real, AbstractUnitRange}) where T in Knet at /home/ec2-user/.julia/packages/Knet/05UDD/src/karray.jl:1022\n",
       "\\end{verbatim}\n"
      ],
      "text/markdown": [
       "No documentation found.\n",
       "\n",
       "`Knet.setindex2!` is a `Function`.\n",
       "\n",
       "```\n",
       "# 1 method for generic function \"setindex2!\":\n",
       "[1] setindex2!(A::KnetArray{T,2}, B, I1::Union{Colon, Real, AbstractUnitRange}, I2::Union{Colon, Real, AbstractUnitRange}) where T in Knet at /home/ec2-user/.julia/packages/Knet/05UDD/src/karray.jl:1022\n",
       "```\n"
      ],
      "text/plain": [
       "  No documentation found.\n",
       "\n",
       "  \u001b[36mKnet.setindex2!\u001b[39m is a \u001b[36mFunction\u001b[39m.\n",
       "\n",
       "\u001b[36m  # 1 method for generic function \"setindex2!\":\u001b[39m\n",
       "\u001b[36m  [1] setindex2!(A::KnetArray{T,2}, B, I1::Union{Colon, Real, AbstractUnitRange}, I2::Union{Colon, Real, AbstractUnitRange}) where T in Knet at /home/ec2-user/.julia/packages/Knet/05UDD/src/karray.jl:1022\u001b[39m"
      ]
     },
     "execution_count": 104,
     "metadata": {},
     "output_type": "execute_result"
    }
   ],
   "source": [
    "@doc Knet.setindex2!"
   ]
  },
  {
   "cell_type": "code",
   "execution_count": 78,
   "metadata": {},
   "outputs": [
    {
     "name": "stdout",
     "output_type": "stream",
     "text": [
      " \u001b[1m───────────────────────────────────────────────────────────────────\u001b[22m\n",
      " \u001b[1m                   \u001b[22m        Time                   Allocations      \n",
      "                    ──────────────────────   ───────────────────────\n",
      "  Tot / % measured:      3313s / 52.3%            203GiB / 65.0%    \n",
      "\n",
      " Section    ncalls     time   %tot     avg     alloc   %tot      avg\n",
      " ───────────────────────────────────────────────────────────────────\n",
      " perdim1     40.2k     575s  33.2%  14.3ms   43.7GiB  33.2%  1.11MiB\n",
      " perdim3     40.2k     571s  33.0%  14.2ms   43.7GiB  33.2%  1.11MiB\n",
      " perdim2     40.2k     571s  33.0%  14.2ms   43.7GiB  33.2%  1.11MiB\n",
      " mlphead     40.2k    7.32s  0.42%   182μs    355MiB  0.26%  9.04KiB\n",
      " mlpdep      40.2k    4.60s  0.27%   114μs    262MiB  0.19%  6.66KiB\n",
      " WH          40.2k    1.70s  0.10%  42.4μs   34.4MiB  0.03%     898B\n",
      " HWH(bmm)    40.2k    1.68s  0.10%  41.8μs   48.0MiB  0.04%  1.22KiB\n",
      " \u001b[1m───────────────────────────────────────────────────────────────────\u001b[22m"
     ]
    }
   ],
   "source": [
    "print(timo)"
   ]
  },
  {
   "cell_type": "code",
   "execution_count": 310,
   "metadata": {},
   "outputs": [
    {
     "ename": "MethodError",
     "evalue": "MethodError: no method matching MethodError(::typeof(getindex), ::KnetArray{Float32,2}, ::Colon, ::Array{Int64,3})\nClosest candidates are:\n  MethodError(::Any, ::Any) at boot.jl:298\n  MethodError(::Any, ::Any, !Matched::UInt64) at boot.jl:295",
     "output_type": "error",
     "traceback": [
      "MethodError: no method matching MethodError(::typeof(getindex), ::KnetArray{Float32,2}, ::Colon, ::Array{Int64,3})\nClosest candidates are:\n  MethodError(::Any, ::Any) at boot.jl:298\n  MethodError(::Any, ::Any, !Matched::UInt64) at boot.jl:295",
      "",
      "Stacktrace:",
      " [1] getindex(::KnetArray{Float32,2}, ::Function, ::Array{Int64,3}) at /home/ec2-user/.julia/packages/Knet/05UDD/src/karray.jl:94",
      " [2] (::Embed)(::Array{Int64,3}) at ./In[26]:8",
      " [3] (::Chain)(::Array{Int64,3}) at ./In[37]:5",
      " [4] top-level scope at In[310]:1"
     ]
    }
   ],
   "source": [
    "mymodel4t(dtrn[1][1])"
   ]
  },
  {
   "cell_type": "code",
   "execution_count": 61,
   "metadata": {
    "scrolled": true
   },
   "outputs": [
    {
     "data": {
      "text/plain": [
       "Chain((LSTM(input=50,hidden=100,bidirectional), Biaff(Chain((Dense(P(KnetArray{Float32,2}(50,200)), P(KnetArray{Float32,1}(50)), Knet.relu), Dense(P(KnetArray{Float32,2}(50,50)), P(KnetArray{Float32,1}(50)), Knet.relu))), Chain((Dense(P(KnetArray{Float32,2}(50,200)), P(KnetArray{Float32,1}(50)), Knet.relu), Dense(P(KnetArray{Float32,2}(50,50)), P(KnetArray{Float32,1}(50)), Knet.relu))), P(KnetArray{Float32,2}(50,50)), P(KnetArray{Float32,1}(50)))))"
      ]
     },
     "execution_count": 61,
     "metadata": {},
     "output_type": "execute_result"
    }
   ],
   "source": [
    "mymodel2 = fModel(50,100,50,50)"
   ]
  },
  {
   "cell_type": "code",
   "execution_count": 52,
   "metadata": {
    "scrolled": true
   },
   "outputs": [
    {
     "data": {
      "text/plain": [
       "Chain((LSTM(input=50,hidden=100,bidirectional), Biaff(Chain((Dense(P(KnetArray{Float32,2}(50,200)), P(KnetArray{Float32,1}(50)), Knet.relu), Dense(P(KnetArray{Float32,2}(50,50)), P(KnetArray{Float32,1}(50)), Knet.relu))), Chain((Dense(P(KnetArray{Float32,2}(50,200)), P(KnetArray{Float32,1}(50)), Knet.relu), Dense(P(KnetArray{Float32,2}(50,50)), P(KnetArray{Float32,1}(50)), Knet.relu))), P(KnetArray{Float32,2}(50,50)), P(KnetArray{Float32,1}(50)))))"
      ]
     },
     "execution_count": 52,
     "metadata": {},
     "output_type": "execute_result"
    }
   ],
   "source": [
    "mymodel3t = fModel(50,100,50,50)"
   ]
  },
  {
   "cell_type": "code",
   "execution_count": null,
   "metadata": {
    "scrolled": false
   },
   "outputs": [],
   "source": [
    "mymodel4t = fModel2(wembedmatKN, 50, 100, 50, 50)"
   ]
  },
  {
   "cell_type": "code",
   "execution_count": 76,
   "metadata": {
    "scrolled": true
   },
   "outputs": [
    {
     "data": {
      "text/plain": [
       "Chain((Embed(P(KnetArray{Float32,2}(50,400000))), LSTM(input=50,hidden=100,bidirectional), Biaff(Chain((Dense(P(KnetArray{Float32,2}(50,200)), P(KnetArray{Float32,1}(50)), Knet.relu), Dense(P(KnetArray{Float32,2}(50,50)), P(KnetArray{Float32,1}(50)), Knet.relu))), Chain((Dense(P(KnetArray{Float32,2}(50,200)), P(KnetArray{Float32,1}(50)), Knet.relu), Dense(P(KnetArray{Float32,2}(50,50)), P(KnetArray{Float32,1}(50)), Knet.relu))), P(KnetArray{Float32,2}(50,50)), P(KnetArray{Float32,1}(50)))))"
      ]
     },
     "execution_count": 76,
     "metadata": {},
     "output_type": "execute_result"
    }
   ],
   "source": [
    "mymodel5t = fModel3(wembedmat, 50, 100, 50, 50)"
   ]
  },
  {
   "cell_type": "code",
   "execution_count": 99,
   "metadata": {},
   "outputs": [
    {
     "data": {
      "text/plain": [
       "Chain((Embed(P(KnetArray{Float32,2}(50,400000))), LSTM(input=50,hidden=100,bidirectional), Biaff(Chain((Dense(P(KnetArray{Float32,2}(50,200)), P(KnetArray{Float32,1}(50)), Knet.relu), Dense(P(KnetArray{Float32,2}(50,50)), P(KnetArray{Float32,1}(50)), Knet.relu))), Chain((Dense(P(KnetArray{Float32,2}(50,200)), P(KnetArray{Float32,1}(50)), Knet.relu), Dense(P(KnetArray{Float32,2}(50,50)), P(KnetArray{Float32,1}(50)), Knet.relu))), P(KnetArray{Float32,2}(50,50)), P(KnetArray{Float32,1}(50)))))"
      ]
     },
     "execution_count": 99,
     "metadata": {},
     "output_type": "execute_result"
    }
   ],
   "source": [
    "mymodel6t = fModel3(wembedmat, 50, 100, 50, 50)"
   ]
  },
  {
   "cell_type": "code",
   "execution_count": 67,
   "metadata": {
    "scrolled": false
   },
   "outputs": [
    {
     "data": {
      "text/plain": [
       "50×400000 KnetArray{Float32,2}:\n",
       "  0.418        0.013441  …  -0.51181   -0.75898    0.072617\n",
       "  0.24968      0.23682       0.058706  -0.47426   -0.51393 \n",
       " -0.41242     -0.16899       1.0913     0.4737     0.4728  \n",
       "  0.1217       0.40951      -0.55163    0.7725    -0.52202 \n",
       "  0.34527      0.63812      -0.10249   -0.78064   -0.35534 \n",
       " -0.044457     0.47709   …  -0.1265     0.23233    0.34629 \n",
       " -0.49688     -0.42852       0.99503    0.046114   0.23211 \n",
       " -0.17862     -0.55641       0.079711   0.84014    0.23096 \n",
       " -0.00066023  -0.364        -0.16246    0.24371    0.26694 \n",
       " -0.6566      -0.23938       0.56488    0.022978   0.41028 \n",
       "  0.27843      0.13001   …  -0.63306    0.53964    0.28031 \n",
       " -0.14767     -0.063734     -0.48592   -0.36101    0.14107 \n",
       " -0.55677     -0.39575       0.76247    0.94198   -0.30212 \n",
       "  ⋮                      ⋱                                 \n",
       "  0.012041     0.70358      -0.18204    0.035413  -0.83629 \n",
       " -0.054223     0.44858       0.041465   0.58834   -0.24698 \n",
       " -0.29871     -0.080262  …   0.024747   0.45439    0.6888  \n",
       " -0.15749      0.63003       0.20092   -0.84254   -0.17986 \n",
       " -0.34758      0.32111      -1.0851     0.1065    -0.066569\n",
       " -0.045637    -0.46765      -0.13626   -0.059397  -0.48044 \n",
       " -0.44251      0.22786       0.35052    0.090449  -0.55946 \n",
       "  0.18785      0.36034   …  -0.85891    0.30581   -0.27594 \n",
       "  0.0027849   -0.37818       0.067858  -0.61424    0.056072\n",
       " -0.18411     -0.56657      -0.25003    0.78954   -0.18907 \n",
       " -0.11514      0.044691     -1.125     -0.014116  -0.59021 \n",
       " -0.78581      0.30392       1.5863     0.6448     0.55559 "
      ]
     },
     "execution_count": 67,
     "metadata": {},
     "output_type": "execute_result"
    }
   ],
   "source": [
    "wembedmatKN = convert(KnetArray{Float32,2}, wembedmat)"
   ]
  },
  {
   "cell_type": "code",
   "execution_count": 79,
   "metadata": {},
   "outputs": [
    {
     "data": {
      "image/png": "[encoded data removed]"
     },
     "execution_count": 79,
     "metadata": {},
     "output_type": "execute_result"
    }
   ],
   "source": [
    "plot([r12[1,:], r12[2,:]], ylim=(0.0,5.0),\n",
    "    labels=[:trn1 :tst1],xlabel=\"Epochs\",ylabel=\"Loss\")"
   ]
  },
  {
   "cell_type": "code",
   "execution_count": 80,
   "metadata": {},
   "outputs": [
    {
     "data": {
      "image/png": "[encoded data removed]"
     },
     "execution_count": 80,
     "metadata": {},
     "output_type": "execute_result"
    }
   ],
   "source": [
    "plot([r12[3,:], r12[4,:]], ylim=(0.0,0.5),\n",
    "    labels=[:trn1 :tst1],xlabel=\"Epochs\",ylabel=\"Error\")"
   ]
  },
  {
   "cell_type": "code",
   "execution_count": 53,
   "metadata": {
    "scrolled": false
   },
   "outputs": [
    {
     "data": {
      "text/plain": [
       " \u001b[1m──────────────────────────────────────────────────────────────────\u001b[22m\n",
       " \u001b[1m                  \u001b[22m        Time                   Allocations      \n",
       "                   ──────────────────────   ───────────────────────\n",
       " Tot / % measured:      1.05s / 0.00%            141MiB / 0.00%    \n",
       "\n",
       " Section   ncalls     time   %tot     avg     alloc   %tot      avg\n",
       " ──────────────────────────────────────────────────────────────────\n",
       " \u001b[1m──────────────────────────────────────────────────────────────────\u001b[22m"
      ]
     },
     "execution_count": 53,
     "metadata": {},
     "output_type": "execute_result"
    }
   ],
   "source": [
    "const timo = Knet.TimerOutput()"
   ]
  },
  {
   "cell_type": "code",
   "execution_count": 113,
   "metadata": {},
   "outputs": [],
   "source": [
    "Knet.@timeit timo \"sleep\" sleep(0.02)"
   ]
  },
  {
   "cell_type": "code",
   "execution_count": 74,
   "metadata": {
    "scrolled": true
   },
   "outputs": [
    {
     "name": "stdout",
     "output_type": "stream",
     "text": [
      " \u001b[1m──────────────────────────────────────────────────────────────────\u001b[22m\n",
      " \u001b[1m                  \u001b[22m        Time                   Allocations      \n",
      "                   ──────────────────────   ───────────────────────\n",
      " Tot / % measured:      42.6s / 0.13%            225MiB / 0.33%    \n",
      "\n",
      " Section   ncalls     time   %tot     avg     alloc   %tot      avg\n",
      " ──────────────────────────────────────────────────────────────────\n",
      " sleep          2   55.7ms   100%  27.9ms    758KiB  100%    379KiB\n",
      " \u001b[1m──────────────────────────────────────────────────────────────────\u001b[22m"
     ]
    }
   ],
   "source": [
    "print(timo)"
   ]
  },
  {
   "cell_type": "code",
   "execution_count": 77,
   "metadata": {
    "scrolled": true
   },
   "outputs": [
    {
     "data": {
      "text/plain": [
       "abcd (generic function with 1 method)"
      ]
     },
     "execution_count": 77,
     "metadata": {},
     "output_type": "execute_result"
    }
   ],
   "source": [
    "function abcd()\n",
    "    Knet.@timeit timo \"level 2.1\" sleep(0.03)\n",
    "end"
   ]
  },
  {
   "cell_type": "code",
   "execution_count": 101,
   "metadata": {},
   "outputs": [],
   "source": [
    "Knet.@timeit timo \"nest 1\" begin\n",
    "    abcd()\n",
    "end"
   ]
  },
  {
   "cell_type": "code",
   "execution_count": 81,
   "metadata": {},
   "outputs": [
    {
     "name": "stdout",
     "output_type": "stream",
     "text": [
      " \u001b[1m───────────────────────────────────────────────────────────────────\u001b[22m\n",
      " \u001b[1m                   \u001b[22m        Time                   Allocations      \n",
      "                    ──────────────────────   ───────────────────────\n",
      "  Tot / % measured:     35633s / 4.86%            205GiB / 64.3%    \n",
      "\n",
      " Section    ncalls     time   %tot     avg     alloc   %tot      avg\n",
      " ───────────────────────────────────────────────────────────────────\n",
      " perdim1     40.2k     575s  33.2%  14.3ms   43.7GiB  33.2%  1.11MiB\n",
      " perdim3     40.2k     571s  33.0%  14.2ms   43.7GiB  33.2%  1.11MiB\n",
      " perdim2     40.2k     571s  33.0%  14.2ms   43.7GiB  33.2%  1.11MiB\n",
      " mlphead     40.2k    7.32s  0.42%   182μs    355MiB  0.26%  9.04KiB\n",
      " mlpdep      40.2k    4.60s  0.27%   114μs    262MiB  0.19%  6.66KiB\n",
      " WH          40.2k    1.70s  0.10%  42.4μs   34.4MiB  0.03%     898B\n",
      " HWH(bmm)    40.2k    1.68s  0.10%  41.8μs   48.0MiB  0.04%  1.22KiB\n",
      " \u001b[1m───────────────────────────────────────────────────────────────────\u001b[22m"
     ]
    }
   ],
   "source": [
    "print(timo)"
   ]
  },
  {
   "cell_type": "code",
   "execution_count": 100,
   "metadata": {
    "scrolled": true
   },
   "outputs": [
    {
     "data": {
      "text/plain": [
       " \u001b[1m──────────────────────────────────────────────────────────────────\u001b[22m\n",
       " \u001b[1m                  \u001b[22m        Time                   Allocations      \n",
       "                   ──────────────────────   ───────────────────────\n",
       " Tot / % measured:      135μs / 0.00%           2.88KiB / 0.00%    \n",
       "\n",
       " Section   ncalls     time   %tot     avg     alloc   %tot      avg\n",
       " ──────────────────────────────────────────────────────────────────\n",
       " \u001b[1m──────────────────────────────────────────────────────────────────\u001b[22m"
      ]
     },
     "execution_count": 100,
     "metadata": {},
     "output_type": "execute_result"
    }
   ],
   "source": [
    "Knet.reset_timer!(timo)"
   ]
  },
  {
   "cell_type": "code",
   "execution_count": 54,
   "metadata": {
    "scrolled": true
   },
   "outputs": [
    {
     "data": {
      "text/plain": [
       "12543-element Array{Tuple{Array{Int64,2},Array{Int64,1}},1}:\n",
       " ([399999 319 … 719 3], [1, 2, 2, 2, 7, 8, 2, 8, 9, 9  …  22, 19, 24, 22, 22, 29, 29, 29, 22, 2])    \n",
       " ([399999 2824 … 3 5281], [11, 4, 11, 8, 8, 8, 4, 11, 11, 1, 11, 11, 15, 11, 17, 15, 11, 11])        \n",
       " ([399999 47065 … 1236 3], [1, 2, 5, 6, 2, 10, 10, 10, 6, 10, 14, 14, 10, 14, 17, 15, 2])            \n",
       " ([399999 56 … 1793 806], [7, 4, 2, 7, 7, 1, 10, 10, 7, 13, 13, 10, 16, 16, 13, 7])                  \n",
       " ([399999 1 … 2990 3], [3, 7, 5, 3, 7, 1, 11, 11, 11, 7  …  23, 32, 32, 32, 28, 36, 36, 36, 23, 7])  \n",
       " ([399999 1 … 1002 3], [3, 6, 6, 6, 1, 9, 9, 6, 13, 13, 13, 9, 6])                                   \n",
       " ([399999 82 … 2667 3], [3, 1, 7, 7, 7, 3, 9, 7, 13, 13, 13, 7, 3])                                  \n",
       " ([399999 1 … 352 3], [3, 5, 5, 1, 13, 13, 13, 12, 12, 12, 8, 5, 16, 16, 13, 5])                     \n",
       " ([399999 377 … 6329 3], [7, 4, 7, 7, 7, 22, 9, 7, 9, 12  …  28, 24, 30, 28, 33, 33, 30, 35, 22, 22])\n",
       " ([399999 21 … 1577 3], [3, 1, 3, 6, 3, 10, 10, 10, 3, 14, 14, 14, 10, 18, 18, 18, 14, 20, 14, 3])   \n",
       " ([399999 319 … 9263 3], [1, 2, 2, 2, 7, 2, 9, 7, 14, 14, 14, 14, 9, 16, 7, 16, 19, 16, 2])          \n",
       " ([399999 1 … 10764 3], [4, 4, 8, 7, 7, 4, 1, 12, 12, 12  …  12, 24, 24, 21, 27, 27, 24, 29, 27, 8]) \n",
       " ([399999 14 … 164 3], [3, 6, 6, 6, 1, 9, 9, 6, 12, 12, 9, 18, 18, 18, 18, 18, 6, 18, 6])            \n",
       " ⋮                                                                                                   \n",
       " ([399999 101 … 1683 3], [4, 4, 1, 4, 9, 9, 9, 4, 4, 4])                                             \n",
       " ([399999 40 … 6428 3], [3, 1, 7, 7, 7, 3, 10, 10, 7, 3, 14, 14, 3, 17, 17, 14, 3])                  \n",
       " ([399999 75 … 1027 3], [3, 4, 5, 18, 5, 12, 9, 10, 12, 12, 5, 5, 15, 18, 18, 18, 1, 18])            \n",
       " ([399999 8 … 25 3], [4, 4, 7, 7, 7, 11, 11, 11, 11, 1  …  27, 27, 27, 27, 21, 30, 30, 27, 27, 11])  \n",
       " ([399999 4 … 123 3], [8, 2, 8, 8, 8, 8, 1, 11, 11, 8  …  18, 16, 18, 21, 18, 21, 25, 25, 21, 8])    \n",
       " ([399999 4 … 25 3], [7, 2, 7, 7, 7, 1, 7, 7, 11, 7  …  7, 21, 21, 18, 23, 18, 25, 23, 7, 7])        \n",
       " ([399999 1 … 7 3], [4, 4, 9, 9, 7, 9, 9, 1, 12, 12, 9, 19, 16, 16, 19, 19, 19, 9, 9])               \n",
       " ([399999 4 … 25 3], [8, 2, 8, 8, 8, 8, 1, 8, 8, 12  …  47, 47, 39, 50, 50, 39, 52, 50, 39, 8])      \n",
       " ([399999 14 … 21 3], [3, 5, 5, 1, 14, 14, 14, 14, 14, 14  …  5, 16, 14, 16, 19, 17, 19, 22, 20, 5]) \n",
       " ([399999 8758 … 12417 3], [6, 6, 6, 6, 1, 6, 9, 6, 11, 6  …  16, 6, 23, 23, 23, 23, 23, 23, 16, 6]) \n",
       " ([399999 1 … 254 3], [3, 9, 6, 6, 3, 9, 9, 1, 14, 14  …  14, 18, 16, 20, 18, 24, 24, 24, 20, 9])    \n",
       " ([399999 42 … 25 3], [5, 5, 5, 1, 5, 5, 5, 11, 11, 5  …  19, 17, 22, 22, 19, 25, 25, 22, 5, 5])     "
      ]
     },
     "execution_count": 54,
     "metadata": {},
     "output_type": "execute_result"
    }
   ],
   "source": [
    "data4c = collect(data4_1)"
   ]
  },
  {
   "cell_type": "code",
   "execution_count": 60,
   "metadata": {},
   "outputs": [
    {
     "data": {
      "text/plain": [
       "lents (generic function with 1 method)"
      ]
     },
     "execution_count": 60,
     "metadata": {},
     "output_type": "execute_result"
    }
   ],
   "source": [
    "lents(datdat) = map(x->length(x[1]), datdat)"
   ]
  },
  {
   "cell_type": "code",
   "execution_count": 61,
   "metadata": {},
   "outputs": [
    {
     "data": {
      "text/plain": [
       "minib (generic function with 1 method)"
      ]
     },
     "execution_count": 61,
     "metadata": {},
     "output_type": "execute_result"
    }
   ],
   "source": [
    "function minib(data4c,batchsize)\n",
    "    datdat = sort(data4c, by=x->length(x[1]), rev=true)\n",
    "    lentsdatdat = lents(datdat)\n",
    "    uniqdat = unique(lentsdatdat)\n",
    "    lennnum = [(i,count(x->x==i,lentsdatdat),j) for (j,i) in enumerate(uniqdat)]\n",
    "    i=1\n",
    "    j=0\n",
    "    k=0\n",
    "    batdat = []\n",
    "    for (a,b,c) in lennnum\n",
    "        bb = b\n",
    "        j += b\n",
    "        j = i+b\n",
    "        k=j\n",
    "        while bb >= batchsize\n",
    "            j =i+batchsize-1\n",
    "            \n",
    "            push!(batdat, (cat([x[1] for x in datdat[i:j]]...,dims=1), cat([x[2] for x in datdat[i:j]]...,dims=2)))\n",
    "            i=j+1\n",
    "            bb -= batchsize\n",
    "        end\n",
    "        i += bb\n",
    "    end\n",
    "    batdat\n",
    "end"
   ]
  },
  {
   "cell_type": "code",
   "execution_count": 62,
   "metadata": {
    "scrolled": true
   },
   "outputs": [
    {
     "data": {
      "text/plain": [
       "470-element Array{Any,1}:\n",
       " ([399999 201 … 425 3; 399999 1 … 3 9; … ; 399999 42 … 4353 3; 399999 50 … 28947 806], [10 3 … 5 4; 10 6 … 5 4; … ; 49 10 … 48 50; 18 10 … 5 9])         \n",
       " ([399999 42 … 379 3; 399999 20 … 7877 6939; … ; 399999 84 … 611 3; 399999 42 … 111 3], [3 4 … 4 4; 1 4 … 4 4; … ; 46 46 … 44 45; 3 9 … 18 4])           \n",
       " ([399999 9 … 963 3; 399999 201 … 25 3; … ; 399999 82 … 102 806; 399999 68 … 490 3], [41 4 … 3 4; 4 4 … 1 4; … ; 41 36 … 42 44; 41 11 … 3 4])            \n",
       " ([399999 1319 … 3398 3; 399999 35 … 1167 3; … ; 399999 1 … 22 3; 399999 2773 … 11602 806], [24 24 … 3 6; 4 6 … 6 6; … ; 41 42 … 40 42; 24 10 … 6 6])    \n",
       " ([399999 38 … 1323 3; 399999 2726 … 4520 3; … ; 399999 201 … 5342 3; 399999 1 … 547 3], [4 18 … 7 3; 4 7 … 7 31; … ; 40 38 … 35 41; 4 18 … 17 31])      \n",
       " ([399999 19 … 10556 3; 399999 49 … 6479 3; … ; 399999 42 … 3125 806; 399999 1 … 2889 3], [5 11 … 6 4; 5 7 … 6 4; … ; 38 40 … 6 40; 5 11 … 42 5])        \n",
       " ([399999 109 … 719 3; 399999 133 … 7957 3; … ; 399999 54 … 219 806; 399999 193 … 529 3], [5 6 … 5 3; 5 6 … 5 5; … ; 39 36 … 37 38; 22 6 … 5 5])         \n",
       " ([399999 21 … 137 3; 399999 377 … 316 3; … ; 399999 1 … 1091 3; 399999 7 … 124987 3], [4 6 … 4 3; 4 6 … 4 7; … ; 37 39 … 37 34; 4 33 … 9 7])            \n",
       " ([399999 54 … 678 400000; 399999 9 … 17 3; … ; 399999 7 … 3223 3; 399999 54 … 25 3], [4 41 … 3 3; 4 19 … 12 1; … ; 37 1 … 38 40; 4 41 … 12 3])          \n",
       " ([399999 56 … 7814 3; 399999 114 … 2919 3; … ; 399999 1345 … 39987 3; 399999 1699 … 4550 25], [3 8 … 13 1; 4 4 … 2 2; … ; 37 39 … 36 36; 12 33 … 13 36])\n",
       " ([399999 42 … 1514 3; 399999 38 … 4584 3; … ; 399999 901 … 9059 3; 399999 213 … 3 25], [3 4 … 3 18; 1 4 … 6 5; … ; 38 29 … 38 18; 3 7 … 6 18])          \n",
       " ([399999 54 … 10107 3; 399999 27 … 96 3; … ; 399999 201 … 21 3; 399999 8 … 323 3], [4 4 … 7 5; 2 4 … 7 4; … ; 36 35 … 38 35; 4 6 … 16 14])              \n",
       " ([399999 3543 … 53031 3; 399999 64 … 1881 3; … ; 399999 1 … 179 3; 399999 121 … 309 3], [26 3 … 5 3; 26 1 … 5 1; … ; 30 38 … 36 38; 26 3 … 8 3])        \n",
       " ⋮                                                                                                                                                       \n",
       " ([399999 13770; 399999 13770; … ; 399999 4011; 399999 100159], [1 1 … 1 1])                                                                             \n",
       " ([399999 4011; 399999 800; … ; 399999 3255; 399999 10855], [1 1 … 1 1])                                                                                 \n",
       " ([399999 3255; 399999 3255; … ; 399999 3125; 399999 2664], [1 1 … 1 1])                                                                                 \n",
       " ([399999 3258; 399999 60187; … ; 399999 481; 399999 800], [1 1 … 1 1])                                                                                  \n",
       " ([399999 4859; 399999 11581; … ; 399999 4529; 399999 95], [1 1 … 1 1])                                                                                  \n",
       " ([399999 10603; 399999 10603; … ; 399999 255; 399999 3255], [1 1 … 1 1])                                                                                \n",
       " ([399999 1894; 399999 100159; … ; 399999 3255; 399999 2016], [1 1 … 1 1])                                                                               \n",
       " ([399999 2126; 399999 4846; … ; 399999 12003; 399999 12443], [1 1 … 1 1])                                                                               \n",
       " ([399999 45992; 399999 4362; … ; 399999 66; 399999 399834], [1 1 … 1 1])                                                                                \n",
       " ([399999 8696; 399999 10852; … ; 399999 2103; 399999 3125], [1 1 … 1 1])                                                                                \n",
       " ([399999 85; 399999 400000; … ; 399999 400000; 399999 400000], [1 1 … 1 1])                                                                             \n",
       " ([399999 400000; 399999 400000; … ; 399999 400000; 399999 400000], [1 1 … 1 1])                                                                         "
      ]
     },
     "execution_count": 62,
     "metadata": {},
     "output_type": "execute_result"
    }
   ],
   "source": [
    "datmb2 = minib(data4c,25)"
   ]
  },
  {
   "cell_type": "code",
   "execution_count": 271,
   "metadata": {
    "scrolled": true
   },
   "outputs": [
    {
     "data": {
      "text/plain": [
       "94-element Array{Any,1}:\n",
       " ([399999 45644 … 25 3], Any[2; 4; … ; 155; 4])                                                                                                                                                             \n",
       " ([399999 193 … 5282 2693], Any[2; 4; … ; 4; 134])                                                                                                                                                          \n",
       " ([399999 9 … 806 9], Any[5; 5; … ; 5; 5])                                                                                                                                                                  \n",
       " ([399999 13 … 203 3]\n",
       "\n",
       "[399999 400000 … 90 400000], Any[3 11; 3 5; … ; 97 11; 3 11])                                                                                                                        \n",
       " ([399999 35 … 91 3], Any[4; 4; … ; 93; 4])                                                                                                                                                                 \n",
       " ([399999 12074 … 59963 3], Any[0; 1; … ; 91; 1])                                                                                                                                                           \n",
       " ([399999 62 … 11282 3]\n",
       "\n",
       "[399999 1 … 301 6939], Any[14 3; 3 3; … ; 91 91; 89 6])                                                                                                                            \n",
       " ([399999 8 … 1419 3], Any[3; 3; … ; 86; 3])                                                                                                                                                                \n",
       " ([399999 9 … 3 9], Any[4; 4; … ; 4; 4])                                                                                                                                                                    \n",
       " ([399999 38 … 584 3]\n",
       "\n",
       "[399999 248 … 6799 9], Any[4 0; 3 3; … ; 72 85; 69 88])                                                                                                                              \n",
       " ([399999 748 … 286 189], Any[2; 0; … ; 85; 2])                                                                                                                                                             \n",
       " ([399999 400000 … 3 9], Any[7; 7; … ; 15; 15])                                                                                                                                                             \n",
       " ([399999 42 … 21 3], Any[4; 4; … ; 82; 4])                                                                                                                                                                 \n",
       " ⋮                                                                                                                                                                                                          \n",
       " ([399999 84 … 900 3]\n",
       "\n",
       "[399999 1466 … 8206 3]\n",
       "\n",
       "[399999 54 … 4725 3]\n",
       "\n",
       "...\n",
       "\n",
       "[399999 2583 … 748 806]\n",
       "\n",
       "[399999 391 … 1613 3]\n",
       "\n",
       "[399999 42 … 3 9], Any[3 0 … 2 4; 3 1 … 0 4; … ; 9 8 … 6 4; 9 1 … 2 4])           \n",
       " ([399999 3890 … 16078 3]\n",
       "\n",
       "[399999 319 … 17674 3]\n",
       "\n",
       "[399999 115 … 524 3]\n",
       "\n",
       "...\n",
       "\n",
       "[399999 21 … 213 3]\n",
       "\n",
       "[399999 3331 … 1222 3]\n",
       "\n",
       "[399999 3203 … 220 3], Any[2 4 … 10 10; 0 1 … 10 10; … ; 4 9 … 0 0; 2 5 … 10 10])\n",
       " ([399999 38 … 2133 3]\n",
       "\n",
       "[399999 58 … 147 382]\n",
       "\n",
       "[399999 42 … 38 3]\n",
       "\n",
       "...\n",
       "\n",
       "[399999 89 … 19209 3]\n",
       "\n",
       "[399999 42 … 2517 200197]\n",
       "\n",
       "[399999 101 … 1683 3], Any[2 3 … 4 3; 6 3 … 4 3; … ; 6 10 … 4 3; 6 7 … 4 3])      \n",
       " ([399999 27 … 437 3]\n",
       "\n",
       "[399999 35 … 1210 3]\n",
       "\n",
       "[399999 64 … 17094 3]\n",
       "\n",
       "...\n",
       "\n",
       "[399999 1175 … 1904 3]\n",
       "\n",
       "[399999 19 … 6333 3]\n",
       "\n",
       "[399999 24 … 347 3], Any[2 8 … 5 8; 5 4 … 5 3; … ; 5 0 … 5 0; 5 8 … 5 8])            \n",
       " ([399999 7797 … 789 3]\n",
       "\n",
       "[399999 42 … 138 3]\n",
       "\n",
       "[399999 38 … 3939 3]\n",
       "\n",
       "...\n",
       "\n",
       "[399999 42 … 531 3]\n",
       "\n",
       "[399999 2517 … 80 3]\n",
       "\n",
       "[399999 4863 … 1696 3], Any[3 4 … 0 5; 3 4 … 1 5; … ; 4 6 … 5 5; 4 4 … 1 5])            \n",
       " ([399999 1 … 1087 3]\n",
       "\n",
       "[399999 191 … 2 6764]\n",
       "\n",
       "[399999 21 … 163877 3]\n",
       "\n",
       "...\n",
       "\n",
       "[399999 82 … 11 37587]\n",
       "\n",
       "[399999 89 … 38 74982]\n",
       "\n",
       "[399999 204 … 18365 3], Any[2 0 … 4 0; 3 1 … 3 1; … ; 5 1 … 4 3; 3 1 … 4 1])     \n",
       " ([399999 17094 … 83 14]\n",
       "\n",
       "[399999 186 … 2 709]\n",
       "\n",
       "[399999 13 … 2184 189]\n",
       "\n",
       "...\n",
       "\n",
       "[399999 85 … 169 3]\n",
       "\n",
       "[399999 42 … 64 3]\n",
       "\n",
       "[399999 103 … 80 3], Any[2 0 … 3 3; 0 1 … 3 3; … ; 2 1 … 4 3; 5 1 … 3 3])             \n",
       " ([399999 188 … 13020 46]\n",
       "\n",
       "[399999 13 … 1822 3]\n",
       "\n",
       "[399999 290 … 25 66]\n",
       "\n",
       "...\n",
       "\n",
       "[399999 82 … 6483 3]\n",
       "\n",
       "[399999 128 … 1528 3]\n",
       "\n",
       "[399999 3900 … 188751 806], Any[0 4 … 4 0; 1 4 … 4 4; … ; 1 0 … 0 1; 1 4 … 4 1])   \n",
       " ([399999 101 … 1580 189]\n",
       "\n",
       "[399999 5654 … 5510 2273]\n",
       "\n",
       "[399999 488 … 2 947]\n",
       "\n",
       "...\n",
       "\n",
       "[399999 101 … 84460 3]\n",
       "\n",
       "[399999 85 … 9717 3]\n",
       "\n",
       "[399999 4863 … 1696 3], Any[3 2 … 3 0; 3 0 … 3 1; 0 2 … 0 1; 3 3 … 3 1])     \n",
       " ([399999 22 3205 6043]\n",
       "\n",
       "[399999 22 50867 276482]\n",
       "\n",
       "[399999 51 3939 12]\n",
       "\n",
       "...\n",
       "\n",
       "[399999 85 21737 3]\n",
       "\n",
       "[399999 416 4626 3]\n",
       "\n",
       "[399999 9957 271 806], Any[3 2 … 2 2; 3 0 … 0 0; 0 2 … 2 2])                         \n",
       " ([399999 4886 46]\n",
       "\n",
       "[399999 6479 46]\n",
       "\n",
       "[399999 20990 363898]\n",
       "\n",
       "...\n",
       "\n",
       "[399999 739 189]\n",
       "\n",
       "[399999 993 271]\n",
       "\n",
       "[399999 2773 806], Any[0 0 … 2 0; 1 1 … 0 1])                                                         \n",
       " ([399999 400000]\n",
       "\n",
       "[399999 400000]\n",
       "\n",
       "[399999 400000]\n",
       "\n",
       "...\n",
       "\n",
       "[399999 5206]\n",
       "\n",
       "[399999 400000]\n",
       "\n",
       "[399999 400000], Any[0 0 … 0 0])                                                                                  "
      ]
     },
     "execution_count": 271,
     "metadata": {},
     "output_type": "execute_result"
    }
   ],
   "source": [
    "datmb1 = minib(data4c,25)"
   ]
  },
  {
   "cell_type": "code",
   "execution_count": 174,
   "metadata": {
    "scrolled": true
   },
   "outputs": [
    {
     "data": {
      "text/plain": [
       "94-element Array{Int64,1}:\n",
       " 160\n",
       " 136\n",
       " 105\n",
       " 103\n",
       " 100\n",
       "  98\n",
       "  96\n",
       "  92\n",
       "  91\n",
       "  90\n",
       "  89\n",
       "  87\n",
       "  86\n",
       "   ⋮\n",
       "  13\n",
       "  12\n",
       "  11\n",
       "  10\n",
       "   9\n",
       "   8\n",
       "   7\n",
       "   6\n",
       "   5\n",
       "   4\n",
       "   3\n",
       "   2"
      ]
     },
     "execution_count": 174,
     "metadata": {},
     "output_type": "execute_result"
    }
   ],
   "source": [
    "uniqdat = unique(lentsdata4)"
   ]
  },
  {
   "cell_type": "code",
   "execution_count": 185,
   "metadata": {
    "scrolled": true
   },
   "outputs": [
    {
     "data": {
      "text/plain": [
       "94-element Array{Tuple{Int64,Int64,Int64},1}:\n",
       " (160, 1, 1)  \n",
       " (136, 1, 2)  \n",
       " (105, 1, 3)  \n",
       " (103, 2, 4)  \n",
       " (100, 1, 5)  \n",
       " (98, 1, 6)   \n",
       " (96, 2, 7)   \n",
       " (92, 1, 8)   \n",
       " (91, 1, 9)   \n",
       " (90, 2, 10)  \n",
       " (89, 1, 11)  \n",
       " (87, 1, 12)  \n",
       " (86, 1, 13)  \n",
       " ⋮            \n",
       " (13, 473, 83)\n",
       " (12, 489, 84)\n",
       " (11, 471, 85)\n",
       " (10, 454, 86)\n",
       " (9, 429, 87) \n",
       " (8, 435, 88) \n",
       " (7, 446, 89) \n",
       " (6, 419, 90) \n",
       " (5, 370, 91) \n",
       " (4, 492, 92) \n",
       " (3, 622, 93) \n",
       " (2, 521, 94) "
      ]
     },
     "execution_count": 185,
     "metadata": {},
     "output_type": "execute_result"
    }
   ],
   "source": [
    "lennnum = [(i,count(x->x==i,lentsdata4),j) for (j,i) in enumerate(uniqdat)]"
   ]
  },
  {
   "cell_type": "code",
   "execution_count": 264,
   "metadata": {
    "scrolled": true
   },
   "outputs": [],
   "source": [
    "i=1\n",
    "j=0\n",
    "batdat = []\n",
    "for (a,b,c) in lennnum\n",
    "    j += b\n",
    "    push!(batdat, (cat([x[1] for x in data4cs[i:j]]...,dims=3), cat([x[2] for x in data4cs[i:j]]...,dims=2)))\n",
    "    i=j+1\n",
    "end"
   ]
  },
  {
   "cell_type": "code",
   "execution_count": 169,
   "metadata": {
    "scrolled": true
   },
   "outputs": [
    {
     "data": {
      "text/plain": [
       "12543-element Array{Int64,1}:\n",
       " 160\n",
       " 136\n",
       " 105\n",
       " 103\n",
       " 103\n",
       " 100\n",
       "  98\n",
       "  96\n",
       "  96\n",
       "  92\n",
       "  91\n",
       "  90\n",
       "  90\n",
       "   ⋮\n",
       "   2\n",
       "   2\n",
       "   2\n",
       "   2\n",
       "   2\n",
       "   2\n",
       "   2\n",
       "   2\n",
       "   2\n",
       "   2\n",
       "   2\n",
       "   2"
      ]
     },
     "execution_count": 169,
     "metadata": {},
     "output_type": "execute_result"
    }
   ],
   "source": [
    "lentsdata4 = lents(data4cs)"
   ]
  },
  {
   "cell_type": "code",
   "execution_count": null,
   "metadata": {},
   "outputs": [],
   "source": []
  }
 ],
 "metadata": {
  "kernelspec": {
   "display_name": "Julia 1.1.0",
   "language": "julia",
   "name": "julia-1.1"
  },
  "language_info": {
   "file_extension": ".jl",
   "mimetype": "application/julia",
   "name": "julia",
   "version": "1.1.0"
  }
 },
 "nbformat": 4,
 "nbformat_minor": 2
}
