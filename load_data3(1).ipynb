{
 "cells": [
  {
   "cell_type": "code",
   "execution_count": 3,
   "metadata": {},
   "outputs": [
    {
     "data": {
      "text/plain": [
       "Dict{String,Int8} with 37 entries:\n",
       "  \"reparandum\" => 35\n",
       "  \"root\"       => 1\n",
       "  \"vocative\"   => 36\n",
       "  \"csubj\"      => 15\n",
       "  \"advmod\"     => 4\n",
       "  \"expl\"       => 20\n",
       "  \"iobj\"       => 24\n",
       "  \"mark\"       => 26\n",
       "  \"advcl\"      => 3\n",
       "  \"nmod\"       => 27\n",
       "  \"parataxis\"  => 33\n",
       "  \"orphan\"     => 32\n",
       "  \"nsubj\"      => 28\n",
       "  \"discourse\"  => 18\n",
       "  \"dep\"        => 16\n",
       "  \"appos\"      => 6\n",
       "  \"ccomp\"      => 10\n",
       "  \"conj\"       => 13\n",
       "  \"goeswith\"   => 23\n",
       "  \"list\"       => 25\n",
       "  \"xcomp\"      => 37\n",
       "  \"amod\"       => 5\n",
       "  \"aux\"        => 7\n",
       "  \"acl\"        => 2\n",
       "  \"case\"       => 8\n",
       "  ⋮            => ⋮"
      ]
     },
     "execution_count": 3,
     "metadata": {},
     "output_type": "execute_result"
    }
   ],
   "source": [
    "UDEPREL = Dict{String,Int8}(\n",
    "\"root\"       => 1,  # root\n",
    "\"acl\"        => 2,  # clausal modifier of noun (adjectival clause)\n",
    "\"advcl\"      => 3,  # adverbial clause modifier\n",
    "\"advmod\"     => 4,  # adverbial modifier\n",
    "\"amod\"       => 5,  # adjectival modifier\n",
    "\"appos\"      => 6,  # appositional modifier\n",
    "\"aux\"        => 7,  # auxiliary\n",
    "\"case\"       => 8,  # case marking\n",
    "\"cc\"         => 9,  # coordinating conjunction\n",
    "\"ccomp\"      => 10, # clausal complement\n",
    "\"clf\"        => 11, # classifier\n",
    "\"compound\"   => 12, # compound\n",
    "\"conj\"       => 13, # conjunct\n",
    "\"cop\"        => 14, # copula\n",
    "\"csubj\"      => 15, # clausal subject\n",
    "\"dep\"        => 16, # unspecified dependency\n",
    "\"det\"        => 17, # determiner\n",
    "\"discourse\"  => 18, # discourse element\n",
    "\"dislocated\" => 19, # dislocated elements\n",
    "\"expl\"       => 20, # expletive\n",
    "\"fixed\"      => 21, # fixed multiword expression\n",
    "\"flat\"       => 22, # flat multiword expression\n",
    "\"goeswith\"   => 23, # goes with\n",
    "\"iobj\"       => 24, # indirect object\n",
    "\"list\"       => 25, # list\n",
    "\"mark\"       => 26, # marker\n",
    "\"nmod\"       => 27, # nominal modifier\n",
    "\"nsubj\"      => 28, # nominal subject\n",
    "\"nummod\"     => 29, # numeric modifier\n",
    "\"obj\"        => 30, # object\n",
    "\"obl\"        => 31, # oblique nominal\n",
    "\"orphan\"     => 32, # orphan\n",
    "\"parataxis\"  => 33, # parataxis\n",
    "\"punct\"      => 34, # punctuation\n",
    "\"reparandum\" => 35, # overridden disfluency\n",
    "\"vocative\"   => 36, # vocative\n",
    "\"xcomp\"      => 37, # open clausal complement\n",
    ")"
   ]
  },
  {
   "cell_type": "code",
   "execution_count": 13,
   "metadata": {},
   "outputs": [
    {
     "data": {
      "text/plain": [
       "load_data3 (generic function with 1 method)"
      ]
     },
     "execution_count": 13,
     "metadata": {},
     "output_type": "execute_result"
    }
   ],
   "source": [
    "function load_data3(path, UDEPREL)\n",
    "    xtrain, ytrain, deprels = open(path) do f\n",
    "    xtrain = []\n",
    "    ytrain = []\n",
    "    deprels = []\n",
    "    sentence = []\n",
    "    temprels = []\n",
    "    arcs = []\n",
    "    count = 1\n",
    "    for i in enumerate(eachline(f))  \n",
    "      if i[2] == \"\"\n",
    "        push!(xtrain, sentence)\n",
    "        labels = zeros(count, count)\n",
    "        push!(ytrain, arcs)\n",
    "        push!(deprels, temprels)\n",
    "      elseif i[2][1] != '#'\n",
    "        temp = split(i[2])\n",
    "        if temp[1] == \"1\"\n",
    "            sentence = []\n",
    "            arcs = []\n",
    "            temprels = []\n",
    "            push!(sentence, temp[2])\n",
    "            push!(arcs, parse(Int64, temp[7]))\n",
    "            tmp = split(temp[8], \":\")\n",
    "            push!(temprels, UDEPREL[lowercase(tmp[1])])\n",
    "            count = 1\n",
    "        else\n",
    "            if isnumeric(temp[7][1])\n",
    "                push!(sentence, temp[2]) \n",
    "                tmp = split(temp[8], \":\")\n",
    "                push!(temprels, UDEPREL[lowercase(tmp[1])])\n",
    "                push!(arcs, parse(Int64, temp[7]))\n",
    "            end\n",
    "            count += 1\n",
    "        end\n",
    "      end\n",
    "    end\n",
    "    xtrain, ytrain, deprels\n",
    "    end\n",
    "    xtrain, ytrain, deprels\n",
    "end"
   ]
  },
  {
   "cell_type": "code",
   "execution_count": 14,
   "metadata": {},
   "outputs": [
    {
     "data": {
      "text/plain": [
       "(Any[Any[\"Al\", \"-\", \"Zaman\", \":\", \"American\", \"forces\", \"killed\", \"Shaikh\", \"Abdullah\", \"al\"  …  \"the\", \"town\", \"of\", \"Qaim\", \",\", \"near\", \"the\", \"Syrian\", \"border\", \".\"], Any[\"[\", \"This\", \"killing\", \"of\", \"a\", \"respected\", \"cleric\", \"will\", \"be\", \"causing\", \"us\", \"trouble\", \"for\", \"years\", \"to\", \"come\", \".\", \"]\"], Any[\"DPA\", \":\", \"Iraqi\", \"authorities\", \"announced\", \"that\", \"they\", \"had\", \"busted\", \"up\", \"3\", \"terrorist\", \"cells\", \"operating\", \"in\", \"Baghdad\", \".\"], Any[\"Two\", \"of\", \"them\", \"were\", \"being\", \"run\", \"by\", \"2\", \"officials\", \"of\", \"the\", \"Ministry\", \"of\", \"the\", \"Interior\", \"!\"], Any[\"The\", \"MoI\", \"in\", \"Iraq\", \"is\", \"equivalent\", \"to\", \"the\", \"US\", \"FBI\"  …  \"members\", \"of\", \"the\", \"Weathermen\", \"bombers\", \"back\", \"in\", \"the\", \"1960s\", \".\"], Any[\"The\", \"third\", \"was\", \"being\", \"run\", \"by\", \"the\", \"head\", \"of\", \"an\", \"investment\", \"firm\", \".\"], Any[\"You\", \"wonder\", \"if\", \"he\", \"was\", \"manipulating\", \"the\", \"market\", \"with\", \"his\", \"bombing\", \"targets\", \".\"], Any[\"The\", \"cells\", \"were\", \"operating\", \"in\", \"the\", \"Ghazaliyah\", \"and\", \"al\", \"-\", \"Jihad\", \"districts\", \"of\", \"the\", \"capital\", \".\"], Any[\"Although\", \"the\", \"announcement\", \"was\", \"probably\", \"made\", \"to\", \"show\", \"progress\", \"in\"  …  \"Baathists\", \"continue\", \"to\", \"penetrate\", \"the\", \"Iraqi\", \"government\", \"very\", \"hopeful\", \".\"], Any[\"It\", \"reminds\", \"me\", \"too\", \"much\", \"of\", \"the\", \"ARVN\", \"officers\", \"who\", \"were\", \"secretly\", \"working\", \"for\", \"the\", \"other\", \"side\", \"in\", \"Vietnam\", \".\"]  …  Any[\"Over\", \"two\", \"hours\", \"later\", \"(\", \"and\", \"ten\", \"minutes\", \"before\", \"they\", \"closed\", \")\", \"my\", \"car\", \"was\", \"finally\", \"finished\", \".\"], Any[\"A\", \"few\", \"minutes\", \"after\", \"I\", \"left\", \",\", \"I\", \"was\", \"called\"  …  \"which\", \"they\", \"should\", \"have\", \"left\", \"in\", \"the\", \"car\", \")\", \".\"], Any[\"Of\", \"course\", \",\", \"they\", \"would\", \"be\", \"closing\", \"in\", \"5\", \"minutes\"  …  \"to\", \"hurry\", \"up\", \"or\", \"get\", \"it\", \"the\", \"next\", \"day\", \".\"], Any[\"Of\", \"course\", \"I\", \"could\", \"n't\", \"make\", \"it\", \"back\", \"in\", \"time\"  …  \"stay\", \"5\", \"extra\", \"minutes\", \"to\", \"wait\", \"for\", \"me\", \")\", \".\"], Any[\"The\", \"next\", \"day\", \",\", \"no\", \"one\", \"could\", \"find\", \"my\", \"wheel\", \"lock\", \"and\", \"that\", \"particular\", \"technician\", \"was\", \"not\", \"in\", \".\"], Any[\"Of\", \"course\", \",\", \"they\", \"could\", \"n't\", \"call\", \"him\", \"either\", \"to\"  …  \"no\", \"wheel\", \"lock\", \"should\", \"I\", \"get\", \"a\", \"flat\", \")\", \".\"], Any[\"On\", \"Monday\", \"I\", \"called\", \"and\", \"again\", \"it\", \"was\", \"a\", \"big\"  …  \"do\", \"to\", \"find\", \"anyone\", \"who\", \"knew\", \"anything\", \"about\", \"it\", \".\"], Any[\"Supposedly\", \"they\", \"will\", \"be\", \"holding\", \"it\", \"for\", \"me\", \"this\", \"evening\"  …  \"'m\", \"sure\", \"that\", \"will\", \"also\", \"be\", \"a\", \"huge\", \"ordeal\", \".\"], Any[\"The\", \"employees\", \"at\", \"this\", \"Sear's\", \"are\", \"completely\", \"apathetic\", \"and\", \"there\"  …  \"be\", \"any\", \"sort\", \"of\", \"management\", \"that\", \"I\", \"could\", \"see\", \".\"], Any[\"I\", \"will\", \"never\", \"return\", \"there\", \"again\", \"(\", \"and\", \"now\", \"have\"  …  \"of\", \"work\", \"they\", \"actually\", \"performed\", \"on\", \"my\", \"car\", \")\", \".\"]], Any[Any[0, 1, 1, 1, 6, 7, 1, 7, 8, 8  …  21, 18, 23, 21, 21, 28, 28, 28, 21, 1], Any[10, 3, 10, 7, 7, 7, 3, 10, 10, 0, 10, 10, 14, 10, 16, 14, 10, 10], Any[0, 1, 4, 5, 1, 9, 9, 9, 5, 9, 13, 13, 9, 13, 16, 14, 1], Any[6, 3, 1, 6, 6, 0, 9, 9, 6, 12, 12, 9, 15, 15, 12, 6], Any[2, 6, 4, 2, 6, 0, 10, 10, 10, 6  …  22, 31, 31, 31, 27, 35, 35, 35, 22, 6], Any[2, 5, 5, 5, 0, 8, 8, 5, 12, 12, 12, 8, 5], Any[2, 0, 6, 6, 6, 2, 8, 6, 12, 12, 12, 6, 2], Any[2, 4, 4, 0, 12, 12, 12, 11, 11, 11, 7, 4, 15, 15, 12, 4], Any[6, 3, 6, 6, 6, 21, 8, 6, 8, 11  …  27, 23, 29, 27, 32, 32, 29, 34, 21, 21], Any[2, 0, 2, 5, 2, 9, 9, 9, 2, 13, 13, 13, 9, 17, 17, 17, 13, 19, 13, 2]  …  Any[2, 3, 4, 17, 4, 11, 8, 9, 11, 11, 4, 4, 14, 17, 17, 17, 0, 17], Any[3, 3, 6, 6, 6, 10, 10, 10, 10, 0  …  26, 26, 26, 26, 20, 29, 29, 26, 26, 10], Any[7, 1, 7, 7, 7, 7, 0, 10, 10, 7  …  17, 15, 17, 20, 17, 20, 24, 24, 20, 7], Any[6, 1, 6, 6, 6, 0, 6, 6, 10, 6  …  6, 20, 20, 17, 22, 17, 24, 22, 6, 6], Any[3, 3, 8, 8, 6, 8, 8, 0, 11, 11, 8, 18, 15, 15, 18, 18, 18, 8, 8], Any[7, 1, 7, 7, 7, 7, 0, 7, 7, 11  …  46, 46, 38, 49, 49, 38, 51, 49, 38, 7], Any[2, 4, 4, 0, 13, 13, 13, 13, 13, 13  …  4, 15, 13, 15, 18, 16, 18, 21, 19, 4], Any[5, 5, 5, 5, 0, 5, 8, 5, 10, 5  …  15, 5, 22, 22, 22, 22, 22, 22, 15, 5], Any[2, 8, 5, 5, 2, 8, 8, 0, 13, 13  …  13, 17, 15, 19, 17, 23, 23, 23, 19, 8], Any[4, 4, 4, 0, 4, 4, 4, 10, 10, 4  …  18, 16, 21, 21, 18, 24, 24, 21, 4, 4]], Any[Any[1, 34, 22, 34, 5, 28, 33, 30, 22, 22  …  17, 27, 8, 27, 34, 8, 17, 5, 27, 34], Any[34, 17, 28, 8, 17, 5, 27, 7, 7, 1, 24, 30, 8, 31, 26, 2, 34, 34], Any[1, 34, 5, 28, 33, 26, 28, 7, 10, 12, 29, 5, 30, 2, 8, 31, 34], Any[28, 8, 27, 7, 7, 1, 8, 29, 31, 8, 17, 27, 8, 17, 27, 34], Any[17, 28, 8, 27, 14, 1, 8, 17, 12, 31  …  30, 8, 17, 12, 27, 4, 8, 17, 31, 34], Any[17, 28, 7, 7, 1, 8, 17, 31, 8, 17, 12, 27, 34], Any[28, 1, 26, 28, 7, 10, 17, 30, 8, 27, 12, 31, 34], Any[17, 28, 7, 1, 8, 17, 12, 9, 12, 34, 13, 31, 8, 17, 27, 34], Any[26, 17, 28, 7, 4, 3, 26, 37, 30, 26  …  28, 2, 26, 37, 17, 5, 30, 4, 37, 34], Any[28, 1, 30, 4, 4, 8, 17, 12, 31, 28, 7, 4, 2, 8, 17, 5, 31, 8, 31, 34]  …  Any[4, 29, 31, 4, 34, 9, 29, 31, 26, 28, 13, 34, 27, 28, 7, 4, 1, 34], Any[17, 5, 31, 26, 28, 3, 34, 28, 7, 1  …  30, 28, 7, 7, 2, 8, 17, 31, 34, 34], Any[4, 21, 34, 28, 7, 7, 1, 8, 29, 31  …  26, 37, 12, 9, 13, 30, 17, 5, 31, 34], Any[4, 21, 28, 7, 4, 1, 30, 4, 8, 31  …  13, 29, 5, 31, 26, 3, 8, 31, 34, 34], Any[17, 5, 31, 34, 17, 28, 7, 1, 27, 12, 30, 9, 17, 5, 28, 14, 4, 13, 34], Any[4, 21, 34, 28, 7, 4, 1, 30, 4, 26  …  17, 12, 31, 7, 28, 3, 17, 30, 34, 34], Any[8, 31, 28, 1, 9, 4, 20, 14, 17, 5  …  13, 26, 15, 30, 28, 2, 30, 8, 27, 34], Any[4, 28, 7, 7, 1, 30, 8, 31, 17, 31  …  14, 13, 28, 7, 4, 14, 17, 5, 10, 34], Any[17, 28, 8, 17, 27, 14, 4, 1, 9, 20  …  15, 17, 28, 8, 27, 30, 28, 7, 2, 34], Any[28, 7, 4, 1, 4, 4, 34, 9, 4, 13  …  8, 27, 28, 4, 2, 8, 27, 31, 34, 34]])"
      ]
     },
     "execution_count": 14,
     "metadata": {},
     "output_type": "execute_result"
    }
   ],
   "source": [
    "xt, yt, anan = load_data3(\"en_ewt-ud-train.conllu\", UDEPREL)"
   ]
  },
  {
   "cell_type": "code",
   "execution_count": 15,
   "metadata": {},
   "outputs": [
    {
     "data": {
      "text/plain": [
       "12543-element Array{Any,1}:\n",
       " Any[1, 34, 22, 34, 5, 28, 33, 30, 22, 22  …  17, 27, 8, 27, 34, 8, 17, 5, 27, 34]\n",
       " Any[34, 17, 28, 8, 17, 5, 27, 7, 7, 1, 24, 30, 8, 31, 26, 2, 34, 34]             \n",
       " Any[1, 34, 5, 28, 33, 26, 28, 7, 10, 12, 29, 5, 30, 2, 8, 31, 34]                \n",
       " Any[28, 8, 27, 7, 7, 1, 8, 29, 31, 8, 17, 27, 8, 17, 27, 34]                     \n",
       " Any[17, 28, 8, 27, 14, 1, 8, 17, 12, 31  …  30, 8, 17, 12, 27, 4, 8, 17, 31, 34] \n",
       " Any[17, 28, 7, 7, 1, 8, 17, 31, 8, 17, 12, 27, 34]                               \n",
       " Any[28, 1, 26, 28, 7, 10, 17, 30, 8, 27, 12, 31, 34]                             \n",
       " Any[17, 28, 7, 1, 8, 17, 12, 9, 12, 34, 13, 31, 8, 17, 27, 34]                   \n",
       " Any[26, 17, 28, 7, 4, 3, 26, 37, 30, 26  …  28, 2, 26, 37, 17, 5, 30, 4, 37, 34] \n",
       " Any[28, 1, 30, 4, 4, 8, 17, 12, 31, 28, 7, 4, 2, 8, 17, 5, 31, 8, 31, 34]        \n",
       " Any[1, 34, 22, 34, 28, 33, 17, 30, 8, 17, 12, 12, 27, 26, 3, 30, 8, 31, 34]      \n",
       " Any[17, 12, 28, 8, 12, 27, 1, 26, 28, 7  …  3, 17, 5, 28, 8, 17, 27, 8, 27, 34]  \n",
       " Any[8, 31, 28, 7, 1, 17, 5, 30, 9, 27, 13, 26, 28, 14, 8, 27, 3, 4, 34]          \n",
       " ⋮                                                                                \n",
       " Any[4, 28, 1, 4, 27, 5, 5, 30, 37, 34]                                           \n",
       " Any[28, 1, 28, 7, 7, 10, 8, 17, 31, 34, 4, 28, 33, 8, 17, 31, 34]                \n",
       " Any[4, 29, 31, 4, 34, 9, 29, 31, 26, 28, 13, 34, 27, 28, 7, 4, 1, 34]            \n",
       " Any[17, 5, 31, 26, 28, 3, 34, 28, 7, 1  …  30, 28, 7, 7, 2, 8, 17, 31, 34, 34]   \n",
       " Any[4, 21, 34, 28, 7, 7, 1, 8, 29, 31  …  26, 37, 12, 9, 13, 30, 17, 5, 31, 34]  \n",
       " Any[4, 21, 28, 7, 4, 1, 30, 4, 8, 31  …  13, 29, 5, 31, 26, 3, 8, 31, 34, 34]    \n",
       " Any[17, 5, 31, 34, 17, 28, 7, 1, 27, 12, 30, 9, 17, 5, 28, 14, 4, 13, 34]        \n",
       " Any[4, 21, 34, 28, 7, 4, 1, 30, 4, 26  …  17, 12, 31, 7, 28, 3, 17, 30, 34, 34]  \n",
       " Any[8, 31, 28, 1, 9, 4, 20, 14, 17, 5  …  13, 26, 15, 30, 28, 2, 30, 8, 27, 34]  \n",
       " Any[4, 28, 7, 7, 1, 30, 8, 31, 17, 31  …  14, 13, 28, 7, 4, 14, 17, 5, 10, 34]   \n",
       " Any[17, 28, 8, 17, 27, 14, 4, 1, 9, 20  …  15, 17, 28, 8, 27, 30, 28, 7, 2, 34]  \n",
       " Any[28, 7, 4, 1, 4, 4, 34, 9, 4, 13  …  8, 27, 28, 4, 2, 8, 27, 31, 34, 34]      "
      ]
     },
     "execution_count": 15,
     "metadata": {},
     "output_type": "execute_result"
    }
   ],
   "source": [
    "anan"
   ]
  },
  {
   "cell_type": "code",
   "execution_count": 16,
   "metadata": {},
   "outputs": [
    {
     "data": {
      "text/plain": [
       "37-element Array{String,1}:\n",
       " \"root\"      \n",
       " \"acl\"       \n",
       " \"advcl\"     \n",
       " \"advmod\"    \n",
       " \"amod\"      \n",
       " \"appos\"     \n",
       " \"aux\"       \n",
       " \"case\"      \n",
       " \"cc\"        \n",
       " \"ccomp\"     \n",
       " \"clf\"       \n",
       " \"compound\"  \n",
       " \"conj\"      \n",
       " ⋮           \n",
       " \"mark\"      \n",
       " \"nmod\"      \n",
       " \"nsubj\"     \n",
       " \"nummod\"    \n",
       " \"obj\"       \n",
       " \"obl\"       \n",
       " \"orphan\"    \n",
       " \"parataxis\" \n",
       " \"punct\"     \n",
       " \"reparandum\"\n",
       " \"vocative\"  \n",
       " \"xcomp\"     "
      ]
     },
     "execution_count": 16,
     "metadata": {},
     "output_type": "execute_result"
    }
   ],
   "source": [
    "haha = sort(collect(keys(UDEPREL)))\n",
    "lala = haha[1:34]\n",
    "temp = Array{String, 1}()\n",
    "push!(temp, \"root\")\n",
    "append!(temp, lala)\n",
    "append!(temp, haha[36:37])"
   ]
  },
  {
   "cell_type": "code",
   "execution_count": 17,
   "metadata": {},
   "outputs": [
    {
     "name": "stdout",
     "output_type": "stream",
     "text": [
      "0\n"
     ]
    }
   ],
   "source": [
    "actcount = 0\n",
    "index = 1\n",
    "for lol in yt\n",
    "    count = 0\n",
    "   for i in lol\n",
    "       if i == 0\n",
    "            count=count+1\n",
    "        end\n",
    "    end\n",
    "    if count >= 2\n",
    "        println(index)\n",
    "       actcount = actcount+1\n",
    "    end\n",
    "    index = index + 1\n",
    "end\n",
    "println(actcount)"
   ]
  },
  {
   "cell_type": "code",
   "execution_count": 18,
   "metadata": {},
   "outputs": [
    {
     "data": {
      "text/plain": [
       "13-element Array{Any,1}:\n",
       "  2\n",
       "  3\n",
       "  5\n",
       "  5\n",
       "  0\n",
       "  5\n",
       "  8\n",
       "  5\n",
       "  8\n",
       " 11\n",
       "  5\n",
       " 11\n",
       "  5"
      ]
     },
     "execution_count": 18,
     "metadata": {},
     "output_type": "execute_result"
    }
   ],
   "source": [
    "yt[62]"
   ]
  },
  {
   "cell_type": "code",
   "execution_count": null,
   "metadata": {},
   "outputs": [],
   "source": []
  }
 ],
 "metadata": {
  "kernelspec": {
   "display_name": "Julia 1.1.0",
   "language": "julia",
   "name": "julia-1.1"
  },
  "language_info": {
   "file_extension": ".jl",
   "mimetype": "application/julia",
   "name": "julia",
   "version": "1.1.0"
  }
 },
 "nbformat": 4,
 "nbformat_minor": 2
}
