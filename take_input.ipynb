{
 "cells": [
  {
   "cell_type": "code",
   "execution_count": 27,
   "metadata": {},
   "outputs": [
    {
     "data": {
      "text/plain": [
       "take_input (generic function with 1 method)"
      ]
     },
     "execution_count": 27,
     "metadata": {},
     "output_type": "execute_result"
    }
   ],
   "source": [
    "function take_input(sentence)\n",
    "    x = []\n",
    "    words = split(sentence)\n",
    "    for word in words\n",
    "        if occursin(\"'\", word)\n",
    "            if occursin(\"n't\", word)\n",
    "                push!(x, word[1:end-3])\n",
    "                push!(x, word[end-2:end])\n",
    "            else\n",
    "                temp = split(word, \"'\")\n",
    "                push!(x, temp[1])\n",
    "                push!(x, \"'\" * temp[2])\n",
    "            end\n",
    "            elseif (word[end] >= 'z' || word[end] <= 'A') && !isnumeric(word[end])\n",
    "            push!(x, word[1:end-1])\n",
    "            push!(x, word[end:end])\n",
    "        else\n",
    "            push!(x, word)\n",
    "        end    \n",
    "    end\n",
    "    x\n",
    "end"
   ]
  },
  {
   "cell_type": "code",
   "execution_count": 28,
   "metadata": {},
   "outputs": [
    {
     "data": {
      "text/plain": [
       "15-element Array{Any,1}:\n",
       " \"That\"   \n",
       " \"'s\"     \n",
       " \"all\"    \n",
       " \"I\"      \n",
       " \"know\"   \n",
       " \";\"      \n",
       " \"I\"      \n",
       " \"'ve\"    \n",
       " \"had\"    \n",
       " \"nothing\"\n",
       " \"to\"     \n",
       " \"do\"     \n",
       " \"with\"   \n",
       " \"it\"     \n",
       " \".\"      "
      ]
     },
     "execution_count": 28,
     "metadata": {},
     "output_type": "execute_result"
    }
   ],
   "source": [
    "take_input(\"That's all I know; I've had nothing to do with it.\")"
   ]
  },
  {
   "cell_type": "code",
   "execution_count": 29,
   "metadata": {},
   "outputs": [
    {
     "name": "stdout",
     "output_type": "stream",
     "text": [
      "Enter a sentence to be parsed: \n",
      "stdin> Don't wish to use Wikipedia again, it's just easier than spending time looking up more obscure and detailed information.\n"
     ]
    },
    {
     "data": {
      "text/plain": [
       "23-element Array{Any,1}:\n",
       " \"Do\"         \n",
       " \"n't\"        \n",
       " \"wish\"       \n",
       " \"to\"         \n",
       " \"use\"        \n",
       " \"Wikipedia\"  \n",
       " \"again\"      \n",
       " \",\"          \n",
       " \"it\"         \n",
       " \"'s\"         \n",
       " \"just\"       \n",
       " \"easier\"     \n",
       " \"than\"       \n",
       " \"spending\"   \n",
       " \"time\"       \n",
       " \"looking\"    \n",
       " \"up\"         \n",
       " \"more\"       \n",
       " \"obscure\"    \n",
       " \"and\"        \n",
       " \"detailed\"   \n",
       " \"information\"\n",
       " \".\"          "
      ]
     },
     "execution_count": 29,
     "metadata": {},
     "output_type": "execute_result"
    }
   ],
   "source": [
    "println(\"Enter a sentence to be parsed: \")\n",
    "sentence = readline()\n",
    "result = take_input(sentence)"
   ]
  },
  {
   "cell_type": "code",
   "execution_count": 1,
   "metadata": {},
   "outputs": [
    {
     "name": "stdout",
     "output_type": "stream",
     "text": [
      "Enter a sentence to be parsed: \n",
      "stdin> ghhj\n"
     ]
    },
    {
     "ename": "UndefVarError",
     "evalue": "UndefVarError: take_input not defined",
     "output_type": "error",
     "traceback": [
      "UndefVarError: take_input not defined",
      "",
      "Stacktrace:",
      " [1] top-level scope at In[1]:3"
     ]
    }
   ],
   "source": [
    "println(\"Enter a sentence to be parsed: \")\n",
    "sentence = readline()\n",
    "result = take_input(sentence)"
   ]
  }
 ],
 "metadata": {
  "kernelspec": {
   "display_name": "Julia 1.1.0",
   "language": "julia",
   "name": "julia-1.1"
  },
  "language_info": {
   "file_extension": ".jl",
   "mimetype": "application/julia",
   "name": "julia",
   "version": "1.1.0"
  }
 },
 "nbformat": 4,
 "nbformat_minor": 2
}
